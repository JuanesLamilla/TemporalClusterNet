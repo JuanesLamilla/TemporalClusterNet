{
 "cells": [
  {
   "cell_type": "code",
   "execution_count": 1,
   "metadata": {},
   "outputs": [
    {
     "name": "stderr",
     "output_type": "stream",
     "text": [
      "c:\\Users\\Juanes\\miniforge3\\envs\\TemporalClusterNet\\Lib\\site-packages\\h5py\\__init__.py:36: UserWarning: h5py is running against HDF5 1.14.3 when it was built against 1.14.2, this may cause problems\n",
      "  _warn((\"h5py is running against HDF5 {0} when it was built against {1}, \"\n"
     ]
    }
   ],
   "source": [
    "# Ignore warnings (primarily for future deprecation warnings)\n",
    "import warnings\n",
    "# warnings.filterwarnings('ignore')\n",
    "\n",
    "# Raster Analysis\n",
    "import rasterio\n",
    "import earthpy.plot as ep\n",
    "from rasterio.merge import merge\n",
    "\n",
    "# Vector Analysis\n",
    "from shapely.geometry import box, mapping, Polygon\n",
    "\n",
    "# General data manipulation\n",
    "import geopandas as gpd\n",
    "import pandas as pd\n",
    "import numpy as np\n",
    "\n",
    "from collections import Counter\n",
    "\n",
    "# Saving and Accessing Data\n",
    "import os\n",
    "import pickle\n",
    "import json\n",
    "\n",
    "# Matplotlib and associated plotting modules\n",
    "import matplotlib.pyplot as plt\n",
    "from matplotlib.colors import ListedColormap\n",
    "import matplotlib.patches as mpatches\n",
    "import folium\n",
    "import seaborn as sns\n",
    "\n",
    "# Google Earth Engine\n",
    "import ee\n",
    "import geemap\n",
    "\n",
    "# Machine learning\n",
    "\n",
    "# Keras\n",
    "import keras\n",
    "from keras import Sequential\n",
    "from keras.layers import Conv1D, Dropout, Dense, Input, GlobalMaxPooling1D\n",
    "from keras.callbacks import EarlyStopping\n",
    "from keras.utils import to_categorical\n",
    "\n",
    "from importlib import reload\n",
    "from tqdm import tqdm\n",
    "\n",
    "from sklearn.decomposition import PCA\n",
    "\n",
    "import sys\n",
    "# caution: path[0] is reserved for script path (or '' in REPL)\n",
    "sys.path.insert(1, os.path.join('src'))\n",
    "\n",
    "from split_images import split_geometry, haversine, calc_segment_count\n",
    "import feature_extraction as fe\n",
    "\n",
    "import sqlite3"
   ]
  },
  {
   "cell_type": "code",
   "execution_count": 2,
   "metadata": {},
   "outputs": [
    {
     "data": {
      "text/html": [
       "\n",
       "            <style>\n",
       "                .geemap-dark {\n",
       "                    --jp-widgets-color: white;\n",
       "                    --jp-widgets-label-color: white;\n",
       "                    --jp-ui-font-color1: white;\n",
       "                    --jp-layout-color2: #454545;\n",
       "                    background-color: #383838;\n",
       "                }\n",
       "\n",
       "                .geemap-dark .jupyter-button {\n",
       "                    --jp-layout-color3: #383838;\n",
       "                }\n",
       "\n",
       "                .geemap-colab {\n",
       "                    background-color: var(--colab-primary-surface-color, white);\n",
       "                }\n",
       "\n",
       "                .geemap-colab .jupyter-button {\n",
       "                    --jp-layout-color3: var(--colab-primary-surface-color, white);\n",
       "                }\n",
       "            </style>\n",
       "            "
      ],
      "text/plain": [
       "<IPython.core.display.HTML object>"
      ]
     },
     "metadata": {},
     "output_type": "display_data"
    }
   ],
   "source": [
    "import split_images\n",
    "reload(split_images)\n",
    "from split_images import split_geometry, haversine, calc_segment_count"
   ]
  },
  {
   "cell_type": "code",
   "execution_count": 3,
   "metadata": {},
   "outputs": [
    {
     "data": {
      "text/html": [
       "\n",
       "            <style>\n",
       "                .geemap-dark {\n",
       "                    --jp-widgets-color: white;\n",
       "                    --jp-widgets-label-color: white;\n",
       "                    --jp-ui-font-color1: white;\n",
       "                    --jp-layout-color2: #454545;\n",
       "                    background-color: #383838;\n",
       "                }\n",
       "\n",
       "                .geemap-dark .jupyter-button {\n",
       "                    --jp-layout-color3: #383838;\n",
       "                }\n",
       "\n",
       "                .geemap-colab {\n",
       "                    background-color: var(--colab-primary-surface-color, white);\n",
       "                }\n",
       "\n",
       "                .geemap-colab .jupyter-button {\n",
       "                    --jp-layout-color3: var(--colab-primary-surface-color, white);\n",
       "                }\n",
       "            </style>\n",
       "            "
      ],
      "text/plain": [
       "<IPython.core.display.HTML object>"
      ]
     },
     "metadata": {},
     "output_type": "display_data"
    }
   ],
   "source": [
    "from analysis_image import AnalysisImage\n",
    "from keras.preprocessing import image"
   ]
  },
  {
   "cell_type": "code",
   "execution_count": 4,
   "metadata": {},
   "outputs": [
    {
     "data": {
      "text/html": [
       "\n",
       "            <style>\n",
       "                .geemap-dark {\n",
       "                    --jp-widgets-color: white;\n",
       "                    --jp-widgets-label-color: white;\n",
       "                    --jp-ui-font-color1: white;\n",
       "                    --jp-layout-color2: #454545;\n",
       "                    background-color: #383838;\n",
       "                }\n",
       "\n",
       "                .geemap-dark .jupyter-button {\n",
       "                    --jp-layout-color3: #383838;\n",
       "                }\n",
       "\n",
       "                .geemap-colab {\n",
       "                    background-color: var(--colab-primary-surface-color, white);\n",
       "                }\n",
       "\n",
       "                .geemap-colab .jupyter-button {\n",
       "                    --jp-layout-color3: var(--colab-primary-surface-color, white);\n",
       "                }\n",
       "            </style>\n",
       "            "
      ],
      "text/plain": [
       "<IPython.core.display.HTML object>"
      ]
     },
     "metadata": {},
     "output_type": "display_data"
    }
   ],
   "source": [
    "ee.Authenticate()\n",
    "ee.Initialize()"
   ]
  },
  {
   "cell_type": "code",
   "execution_count": 5,
   "metadata": {},
   "outputs": [
    {
     "data": {
      "text/html": [
       "\n",
       "            <style>\n",
       "                .geemap-dark {\n",
       "                    --jp-widgets-color: white;\n",
       "                    --jp-widgets-label-color: white;\n",
       "                    --jp-ui-font-color1: white;\n",
       "                    --jp-layout-color2: #454545;\n",
       "                    background-color: #383838;\n",
       "                }\n",
       "\n",
       "                .geemap-dark .jupyter-button {\n",
       "                    --jp-layout-color3: #383838;\n",
       "                }\n",
       "\n",
       "                .geemap-colab {\n",
       "                    background-color: var(--colab-primary-surface-color, white);\n",
       "                }\n",
       "\n",
       "                .geemap-colab .jupyter-button {\n",
       "                    --jp-layout-color3: var(--colab-primary-surface-color, white);\n",
       "                }\n",
       "            </style>\n",
       "            "
      ],
      "text/plain": [
       "<IPython.core.display.HTML object>"
      ]
     },
     "metadata": {},
     "output_type": "display_data"
    }
   ],
   "source": [
    "SEED = 2024\n",
    "keras.utils.set_random_seed(SEED)\n",
    "FEATURES = ['B1', 'B2', 'B3', 'B4', 'B5', 'B6', 'B7', 'B8', 'B8A', 'B11', 'B12']\n",
    "years = [2018, 2019, 2020, 2021, 2022, 2023]"
   ]
  },
  {
   "cell_type": "code",
   "execution_count": 6,
   "metadata": {},
   "outputs": [
    {
     "data": {
      "text/html": [
       "\n",
       "            <style>\n",
       "                .geemap-dark {\n",
       "                    --jp-widgets-color: white;\n",
       "                    --jp-widgets-label-color: white;\n",
       "                    --jp-ui-font-color1: white;\n",
       "                    --jp-layout-color2: #454545;\n",
       "                    background-color: #383838;\n",
       "                }\n",
       "\n",
       "                .geemap-dark .jupyter-button {\n",
       "                    --jp-layout-color3: #383838;\n",
       "                }\n",
       "\n",
       "                .geemap-colab {\n",
       "                    background-color: var(--colab-primary-surface-color, white);\n",
       "                }\n",
       "\n",
       "                .geemap-colab .jupyter-button {\n",
       "                    --jp-layout-color3: var(--colab-primary-surface-color, white);\n",
       "                }\n",
       "            </style>\n",
       "            "
      ],
      "text/plain": [
       "<IPython.core.display.HTML object>"
      ]
     },
     "metadata": {},
     "output_type": "display_data"
    }
   ],
   "source": [
    "import eloisa\n",
    "reload(eloisa)\n",
    "from eloisa import Eloisa"
   ]
  },
  {
   "cell_type": "code",
   "execution_count": 31,
   "metadata": {},
   "outputs": [
    {
     "data": {
      "text/html": [
       "\n",
       "            <style>\n",
       "                .geemap-dark {\n",
       "                    --jp-widgets-color: white;\n",
       "                    --jp-widgets-label-color: white;\n",
       "                    --jp-ui-font-color1: white;\n",
       "                    --jp-layout-color2: #454545;\n",
       "                    background-color: #383838;\n",
       "                }\n",
       "\n",
       "                .geemap-dark .jupyter-button {\n",
       "                    --jp-layout-color3: #383838;\n",
       "                }\n",
       "\n",
       "                .geemap-colab {\n",
       "                    background-color: var(--colab-primary-surface-color, white);\n",
       "                }\n",
       "\n",
       "                .geemap-colab .jupyter-button {\n",
       "                    --jp-layout-color3: var(--colab-primary-surface-color, white);\n",
       "                }\n",
       "            </style>\n",
       "            "
      ],
      "text/plain": [
       "<IPython.core.display.HTML object>"
      ]
     },
     "metadata": {},
     "output_type": "display_data"
    }
   ],
   "source": [
    "tegu_200_eloisa = ''"
   ]
  },
  {
   "cell_type": "code",
   "execution_count": 7,
   "metadata": {},
   "outputs": [
    {
     "data": {
      "text/html": [
       "\n",
       "            <style>\n",
       "                .geemap-dark {\n",
       "                    --jp-widgets-color: white;\n",
       "                    --jp-widgets-label-color: white;\n",
       "                    --jp-ui-font-color1: white;\n",
       "                    --jp-layout-color2: #454545;\n",
       "                    background-color: #383838;\n",
       "                }\n",
       "\n",
       "                .geemap-dark .jupyter-button {\n",
       "                    --jp-layout-color3: #383838;\n",
       "                }\n",
       "\n",
       "                .geemap-colab {\n",
       "                    background-color: var(--colab-primary-surface-color, white);\n",
       "                }\n",
       "\n",
       "                .geemap-colab .jupyter-button {\n",
       "                    --jp-layout-color3: var(--colab-primary-surface-color, white);\n",
       "                }\n",
       "            </style>\n",
       "            "
      ],
      "text/plain": [
       "<IPython.core.display.HTML object>"
      ]
     },
     "metadata": {},
     "output_type": "display_data"
    }
   ],
   "source": [
    "# Load eloisa_databases/tegu_200x200_flatten.pkl\n",
    "with open('eloisa_databases/tegu_200x200_flatten.pkl', 'rb') as f:\n",
    "    tegu_200_eloisa = pickle.load(f)\n",
    "\n",
    "tegu_200_eloisa._database = sqlite3.connect(tegu_200_eloisa.db_path)"
   ]
  },
  {
   "cell_type": "code",
   "execution_count": 8,
   "metadata": {},
   "outputs": [
    {
     "data": {
      "text/html": [
       "\n",
       "            <style>\n",
       "                .geemap-dark {\n",
       "                    --jp-widgets-color: white;\n",
       "                    --jp-widgets-label-color: white;\n",
       "                    --jp-ui-font-color1: white;\n",
       "                    --jp-layout-color2: #454545;\n",
       "                    background-color: #383838;\n",
       "                }\n",
       "\n",
       "                .geemap-dark .jupyter-button {\n",
       "                    --jp-layout-color3: #383838;\n",
       "                }\n",
       "\n",
       "                .geemap-colab {\n",
       "                    background-color: var(--colab-primary-surface-color, white);\n",
       "                }\n",
       "\n",
       "                .geemap-colab .jupyter-button {\n",
       "                    --jp-layout-color3: var(--colab-primary-surface-color, white);\n",
       "                }\n",
       "            </style>\n",
       "            "
      ],
      "text/plain": [
       "<IPython.core.display.HTML object>"
      ]
     },
     "metadata": {},
     "output_type": "display_data"
    }
   ],
   "source": [
    "from tensorflow.keras.applications import ResNet152V2 as resnet\n",
    "from tensorflow.keras.applications.resnet_v2 import preprocess_input as resnet_p"
   ]
  },
  {
   "cell_type": "code",
   "execution_count": 9,
   "metadata": {},
   "outputs": [
    {
     "data": {
      "text/html": [
       "\n",
       "            <style>\n",
       "                .geemap-dark {\n",
       "                    --jp-widgets-color: white;\n",
       "                    --jp-widgets-label-color: white;\n",
       "                    --jp-ui-font-color1: white;\n",
       "                    --jp-layout-color2: #454545;\n",
       "                    background-color: #383838;\n",
       "                }\n",
       "\n",
       "                .geemap-dark .jupyter-button {\n",
       "                    --jp-layout-color3: #383838;\n",
       "                }\n",
       "\n",
       "                .geemap-colab {\n",
       "                    background-color: var(--colab-primary-surface-color, white);\n",
       "                }\n",
       "\n",
       "                .geemap-colab .jupyter-button {\n",
       "                    --jp-layout-color3: var(--colab-primary-surface-color, white);\n",
       "                }\n",
       "            </style>\n",
       "            "
      ],
      "text/plain": [
       "<IPython.core.display.HTML object>"
      ]
     },
     "metadata": {},
     "output_type": "display_data"
    }
   ],
   "source": [
    "cluster_sequence = tegu_200_eloisa.get_cluster_sequences(years=years, model=resnet)"
   ]
  },
  {
   "cell_type": "code",
   "execution_count": 10,
   "metadata": {},
   "outputs": [
    {
     "data": {
      "text/html": [
       "\n",
       "            <style>\n",
       "                .geemap-dark {\n",
       "                    --jp-widgets-color: white;\n",
       "                    --jp-widgets-label-color: white;\n",
       "                    --jp-ui-font-color1: white;\n",
       "                    --jp-layout-color2: #454545;\n",
       "                    background-color: #383838;\n",
       "                }\n",
       "\n",
       "                .geemap-dark .jupyter-button {\n",
       "                    --jp-layout-color3: #383838;\n",
       "                }\n",
       "\n",
       "                .geemap-colab {\n",
       "                    background-color: var(--colab-primary-surface-color, white);\n",
       "                }\n",
       "\n",
       "                .geemap-colab .jupyter-button {\n",
       "                    --jp-layout-color3: var(--colab-primary-surface-color, white);\n",
       "                }\n",
       "            </style>\n",
       "            "
      ],
      "text/plain": [
       "<IPython.core.display.HTML object>"
      ]
     },
     "metadata": {},
     "output_type": "display_data"
    }
   ],
   "source": [
    "import pysan.multi\n",
    "reload(pysan.multi)\n",
    "from pysan.multi import plot_sequences"
   ]
  },
  {
   "cell_type": "code",
   "execution_count": 11,
   "metadata": {},
   "outputs": [
    {
     "data": {
      "text/html": [
       "\n",
       "            <style>\n",
       "                .geemap-dark {\n",
       "                    --jp-widgets-color: white;\n",
       "                    --jp-widgets-label-color: white;\n",
       "                    --jp-ui-font-color1: white;\n",
       "                    --jp-layout-color2: #454545;\n",
       "                    background-color: #383838;\n",
       "                }\n",
       "\n",
       "                .geemap-dark .jupyter-button {\n",
       "                    --jp-layout-color3: #383838;\n",
       "                }\n",
       "\n",
       "                .geemap-colab {\n",
       "                    background-color: var(--colab-primary-surface-color, white);\n",
       "                }\n",
       "\n",
       "                .geemap-colab .jupyter-button {\n",
       "                    --jp-layout-color3: var(--colab-primary-surface-color, white);\n",
       "                }\n",
       "            </style>\n",
       "            "
      ],
      "text/plain": [
       "<IPython.core.display.HTML object>"
      ]
     },
     "metadata": {},
     "output_type": "display_data"
    },
    {
     "data": {
      "image/png": "[encoded data removed]",
      "text/plain": [
       "<Figure size 180x300 with 1 Axes>"
      ]
     },
     "metadata": {},
     "output_type": "display_data"
    }
   ],
   "source": [
    "plt = plot_sequences(cluster_sequence[100:110], colors='Paired_r', x_labels=years)\n",
    "plt.show()"
   ]
  },
  {
   "cell_type": "code",
   "execution_count": 13,
   "metadata": {},
   "outputs": [
    {
     "data": {
      "text/html": [
       "\n",
       "            <style>\n",
       "                .geemap-dark {\n",
       "                    --jp-widgets-color: white;\n",
       "                    --jp-widgets-label-color: white;\n",
       "                    --jp-ui-font-color1: white;\n",
       "                    --jp-layout-color2: #454545;\n",
       "                    background-color: #383838;\n",
       "                }\n",
       "\n",
       "                .geemap-dark .jupyter-button {\n",
       "                    --jp-layout-color3: #383838;\n",
       "                }\n",
       "\n",
       "                .geemap-colab {\n",
       "                    background-color: var(--colab-primary-surface-color, white);\n",
       "                }\n",
       "\n",
       "                .geemap-colab .jupyter-button {\n",
       "                    --jp-layout-color3: var(--colab-primary-surface-color, white);\n",
       "                }\n",
       "            </style>\n",
       "            "
      ],
      "text/plain": [
       "<IPython.core.display.HTML object>"
      ]
     },
     "metadata": {},
     "output_type": "display_data"
    }
   ],
   "source": [
    "from SimpleHOHMM import HiddenMarkovModelBuilder as Builder"
   ]
  },
  {
   "cell_type": "code",
   "execution_count": 12,
   "metadata": {},
   "outputs": [
    {
     "data": {
      "text/html": [
       "\n",
       "            <style>\n",
       "                .geemap-dark {\n",
       "                    --jp-widgets-color: white;\n",
       "                    --jp-widgets-label-color: white;\n",
       "                    --jp-ui-font-color1: white;\n",
       "                    --jp-layout-color2: #454545;\n",
       "                    background-color: #383838;\n",
       "                }\n",
       "\n",
       "                .geemap-dark .jupyter-button {\n",
       "                    --jp-layout-color3: #383838;\n",
       "                }\n",
       "\n",
       "                .geemap-colab {\n",
       "                    background-color: var(--colab-primary-surface-color, white);\n",
       "                }\n",
       "\n",
       "                .geemap-colab .jupyter-button {\n",
       "                    --jp-layout-color3: var(--colab-primary-surface-color, white);\n",
       "                }\n",
       "            </style>\n",
       "            "
      ],
      "text/plain": [
       "<IPython.core.display.HTML object>"
      ]
     },
     "metadata": {},
     "output_type": "display_data"
    }
   ],
   "source": [
    "possible_observations = [str(i) for i in range(0, 50)]\n",
    "sequences = [[str(i) for i in seq] for seq in cluster_sequence]\n",
    "possible_states = ['0', '1', '2']"
   ]
  },
  {
   "cell_type": "code",
   "execution_count": 26,
   "metadata": {},
   "outputs": [
    {
     "data": {
      "text/html": [
       "\n",
       "            <style>\n",
       "                .geemap-dark {\n",
       "                    --jp-widgets-color: white;\n",
       "                    --jp-widgets-label-color: white;\n",
       "                    --jp-ui-font-color1: white;\n",
       "                    --jp-layout-color2: #454545;\n",
       "                    background-color: #383838;\n",
       "                }\n",
       "\n",
       "                .geemap-dark .jupyter-button {\n",
       "                    --jp-layout-color3: #383838;\n",
       "                }\n",
       "\n",
       "                .geemap-colab {\n",
       "                    background-color: var(--colab-primary-surface-color, white);\n",
       "                }\n",
       "\n",
       "                .geemap-colab .jupyter-button {\n",
       "                    --jp-layout-color3: var(--colab-primary-surface-color, white);\n",
       "                }\n",
       "            </style>\n",
       "            "
      ],
      "text/plain": [
       "<IPython.core.display.HTML object>"
      ]
     },
     "metadata": {},
     "output_type": "display_data"
    }
   ],
   "source": [
    "builder = Builder()"
   ]
  },
  {
   "cell_type": "code",
   "execution_count": 16,
   "metadata": {},
   "outputs": [
    {
     "data": {
      "text/html": [
       "\n",
       "            <style>\n",
       "                .geemap-dark {\n",
       "                    --jp-widgets-color: white;\n",
       "                    --jp-widgets-label-color: white;\n",
       "                    --jp-ui-font-color1: white;\n",
       "                    --jp-layout-color2: #454545;\n",
       "                    background-color: #383838;\n",
       "                }\n",
       "\n",
       "                .geemap-dark .jupyter-button {\n",
       "                    --jp-layout-color3: #383838;\n",
       "                }\n",
       "\n",
       "                .geemap-colab {\n",
       "                    background-color: var(--colab-primary-surface-color, white);\n",
       "                }\n",
       "\n",
       "                .geemap-colab .jupyter-button {\n",
       "                    --jp-layout-color3: var(--colab-primary-surface-color, white);\n",
       "                }\n",
       "            </style>\n",
       "            "
      ],
      "text/plain": [
       "<IPython.core.display.HTML object>"
      ]
     },
     "metadata": {},
     "output_type": "display_data"
    }
   ],
   "source": [
    "builder = Builder()\n",
    "hmm = builder.build_unsupervised(\n",
    "    single_states=possible_states,\n",
    "    all_obs=possible_observations,\n",
    "    distribution='uniform',\n",
    "    highest_order=3\n",
    ")"
   ]
  },
  {
   "cell_type": "code",
   "execution_count": 18,
   "metadata": {},
   "outputs": [
    {
     "data": {
      "text/html": [
       "\n",
       "            <style>\n",
       "                .geemap-dark {\n",
       "                    --jp-widgets-color: white;\n",
       "                    --jp-widgets-label-color: white;\n",
       "                    --jp-ui-font-color1: white;\n",
       "                    --jp-layout-color2: #454545;\n",
       "                    background-color: #383838;\n",
       "                }\n",
       "\n",
       "                .geemap-dark .jupyter-button {\n",
       "                    --jp-layout-color3: #383838;\n",
       "                }\n",
       "\n",
       "                .geemap-colab {\n",
       "                    background-color: var(--colab-primary-surface-color, white);\n",
       "                }\n",
       "\n",
       "                .geemap-colab .jupyter-button {\n",
       "                    --jp-layout-color3: var(--colab-primary-surface-color, white);\n",
       "                }\n",
       "            </style>\n",
       "            "
      ],
      "text/plain": [
       "<IPython.core.display.HTML object>"
      ]
     },
     "metadata": {},
     "output_type": "display_data"
    },
    {
     "data": {
      "text/plain": [
       "2"
      ]
     },
     "execution_count": 18,
     "metadata": {},
     "output_type": "execute_result"
    }
   ],
   "source": [
    "hmm.learn(sequences, k_smoothing=0.001)"
   ]
  },
  {
   "cell_type": "code",
   "execution_count": 20,
   "metadata": {},
   "outputs": [
    {
     "data": {
      "text/html": [
       "\n",
       "            <style>\n",
       "                .geemap-dark {\n",
       "                    --jp-widgets-color: white;\n",
       "                    --jp-widgets-label-color: white;\n",
       "                    --jp-ui-font-color1: white;\n",
       "                    --jp-layout-color2: #454545;\n",
       "                    background-color: #383838;\n",
       "                }\n",
       "\n",
       "                .geemap-dark .jupyter-button {\n",
       "                    --jp-layout-color3: #383838;\n",
       "                }\n",
       "\n",
       "                .geemap-colab {\n",
       "                    background-color: var(--colab-primary-surface-color, white);\n",
       "                }\n",
       "\n",
       "                .geemap-colab .jupyter-button {\n",
       "                    --jp-layout-color3: var(--colab-primary-surface-color, white);\n",
       "                }\n",
       "            </style>\n",
       "            "
      ],
      "text/plain": [
       "<IPython.core.display.HTML object>"
      ]
     },
     "metadata": {},
     "output_type": "display_data"
    },
    {
     "name": "stdout",
     "output_type": "stream",
     "text": [
      "Starting probabilities (pi):\n",
      "{'1': 0.3333333333333333, '0': 0.3333333333333333, '2': 0.3333333333333333}\n",
      "{'1-1': 0.1111111111111111, '1-0': 0.1111111111111111, '1-2': 0.1111111111111111, '0-1': 0.1111111111111111, '0-0': 0.1111111111111111, '0-2': 0.1111111111111111, '2-1': 0.1111111111111111, '2-0': 0.1111111111111111, '2-2': 0.1111111111111111}\n",
      "{'1-1-1': 0.32554365465757873, '1-1-0': 0.32554365465757873, '1-1-2': 0.32554365465757873, '1-0-1': 0.0009737098344693283, '1-0-0': 0.0009737098344693283, '1-0-2': 0.0009737098344693283, '1-2-1': 0.0009737098344693283, '1-2-0': 0.0009737098344693283, '1-2-2': 0.0009737098344693283, '0-1-1': 0.0009737098344693283, '0-1-0': 0.0009737098344693283, '0-1-2': 0.0009737098344693283, '0-0-1': 0.0009737098344693283, '0-0-0': 0.0009737098344693283, '0-0-2': 0.0009737098344693283, '0-2-1': 0.0009737098344693283, '0-2-0': 0.0009737098344693283, '0-2-2': 0.0009737098344693283, '2-1-1': 0.0009737098344693283, '2-1-0': 0.0009737098344693283, '2-1-2': 0.0009737098344693283, '2-0-1': 0.0009737098344693283, '2-0-0': 0.0009737098344693283, '2-0-2': 0.0009737098344693283, '2-2-1': 0.0009737098344693283, '2-2-0': 0.0009737098344693283, '2-2-2': 0.0009737098344693283}\n",
      "Transition probabilities (A):\n",
      "[0.037037037037036, 0.037037037037036, 0.037037037037036, 0.03703703703703653, 0.03703703703703653, 0.03703703703703653, 0.03703703703703653, 0.03703703703703653, 0.03703703703703653, 0.03703703703703653, 0.03703703703703653, 0.03703703703703653, 0.03703703703703653, 0.03703703703703653, 0.03703703703703653, 0.03703703703703653, 0.03703703703703653, 0.03703703703703653, 0.03703703703703653, 0.03703703703703653, 0.03703703703703653, 0.03703703703703653, 0.03703703703703653, 0.03703703703703653, 0.03703703703703653, 0.03703703703703653, 0.03703703703703653]\n",
      "[0.037037037037036, 0.037037037037036, 0.037037037037036, 0.03703703703703653, 0.03703703703703653, 0.03703703703703653, 0.03703703703703653, 0.03703703703703653, 0.03703703703703653, 0.03703703703703653, 0.03703703703703653, 0.03703703703703653, 0.03703703703703653, 0.03703703703703653, 0.03703703703703653, 0.03703703703703653, 0.03703703703703653, 0.03703703703703653, 0.03703703703703653, 0.03703703703703653, 0.03703703703703653, 0.03703703703703653, 0.03703703703703653, 0.03703703703703653, 0.03703703703703653, 0.03703703703703653, 0.03703703703703653]\n",
      "[0.037037037037036, 0.037037037037036, 0.037037037037036, 0.03703703703703653, 0.03703703703703653, 0.03703703703703653, 0.03703703703703653, 0.03703703703703653, 0.03703703703703653, 0.03703703703703653, 0.03703703703703653, 0.03703703703703653, 0.03703703703703653, 0.03703703703703653, 0.03703703703703653, 0.03703703703703653, 0.03703703703703653, 0.03703703703703653, 0.03703703703703653, 0.03703703703703653, 0.03703703703703653, 0.03703703703703653, 0.03703703703703653, 0.03703703703703653, 0.03703703703703653, 0.03703703703703653, 0.03703703703703653]\n",
      "[0.03703703703703725, 0.03703703703703725, 0.03703703703703725, 0.037037037037037174, 0.037037037037037174, 0.037037037037037174, 0.037037037037037174, 0.037037037037037174, 0.037037037037037174, 0.037037037037037174, 0.037037037037037174, 0.037037037037037174, 0.037037037037037174, 0.037037037037037174, 0.037037037037037174, 0.037037037037037174, 0.037037037037037174, 0.037037037037037174, 0.037037037037037174, 0.037037037037037174, 0.037037037037037174, 0.037037037037037174, 0.037037037037037174, 0.037037037037037174, 0.037037037037037174, 0.037037037037037174, 0.037037037037037174]\n",
      "[0.03703703703703725, 0.03703703703703725, 0.03703703703703725, 0.037037037037037174, 0.037037037037037174, 0.037037037037037174, 0.037037037037037174, 0.037037037037037174, 0.037037037037037174, 0.037037037037037174, 0.037037037037037174, 0.037037037037037174, 0.037037037037037174, 0.037037037037037174, 0.037037037037037174, 0.037037037037037174, 0.037037037037037174, 0.037037037037037174, 0.037037037037037174, 0.037037037037037174, 0.037037037037037174, 0.037037037037037174, 0.037037037037037174, 0.037037037037037174, 0.037037037037037174, 0.037037037037037174, 0.037037037037037174]\n",
      "[0.03703703703703725, 0.03703703703703725, 0.03703703703703725, 0.037037037037037174, 0.037037037037037174, 0.037037037037037174, 0.037037037037037174, 0.037037037037037174, 0.037037037037037174, 0.037037037037037174, 0.037037037037037174, 0.037037037037037174, 0.037037037037037174, 0.037037037037037174, 0.037037037037037174, 0.037037037037037174, 0.037037037037037174, 0.037037037037037174, 0.037037037037037174, 0.037037037037037174, 0.037037037037037174, 0.037037037037037174, 0.037037037037037174, 0.037037037037037174, 0.037037037037037174, 0.037037037037037174, 0.037037037037037174]\n",
      "[0.03703703703703725, 0.03703703703703725, 0.03703703703703725, 0.037037037037037174, 0.037037037037037174, 0.037037037037037174, 0.037037037037037174, 0.037037037037037174, 0.037037037037037174, 0.037037037037037174, 0.037037037037037174, 0.037037037037037174, 0.037037037037037174, 0.037037037037037174, 0.037037037037037174, 0.037037037037037174, 0.037037037037037174, 0.037037037037037174, 0.037037037037037174, 0.037037037037037174, 0.037037037037037174, 0.037037037037037174, 0.037037037037037174, 0.037037037037037174, 0.037037037037037174, 0.037037037037037174, 0.037037037037037174]\n",
      "[0.03703703703703725, 0.03703703703703725, 0.03703703703703725, 0.037037037037037174, 0.037037037037037174, 0.037037037037037174, 0.037037037037037174, 0.037037037037037174, 0.037037037037037174, 0.037037037037037174, 0.037037037037037174, 0.037037037037037174, 0.037037037037037174, 0.037037037037037174, 0.037037037037037174, 0.037037037037037174, 0.037037037037037174, 0.037037037037037174, 0.037037037037037174, 0.037037037037037174, 0.037037037037037174, 0.037037037037037174, 0.037037037037037174, 0.037037037037037174, 0.037037037037037174, 0.037037037037037174, 0.037037037037037174]\n",
      "[0.03703703703703725, 0.03703703703703725, 0.03703703703703725, 0.037037037037037174, 0.037037037037037174, 0.037037037037037174, 0.037037037037037174, 0.037037037037037174, 0.037037037037037174, 0.037037037037037174, 0.037037037037037174, 0.037037037037037174, 0.037037037037037174, 0.037037037037037174, 0.037037037037037174, 0.037037037037037174, 0.037037037037037174, 0.037037037037037174, 0.037037037037037174, 0.037037037037037174, 0.037037037037037174, 0.037037037037037174, 0.037037037037037174, 0.037037037037037174, 0.037037037037037174, 0.037037037037037174, 0.037037037037037174]\n",
      "[0.03703703703703725, 0.03703703703703725, 0.03703703703703725, 0.037037037037037174, 0.037037037037037174, 0.037037037037037174, 0.037037037037037174, 0.037037037037037174, 0.037037037037037174, 0.037037037037037174, 0.037037037037037174, 0.037037037037037174, 0.037037037037037174, 0.037037037037037174, 0.037037037037037174, 0.037037037037037174, 0.037037037037037174, 0.037037037037037174, 0.037037037037037174, 0.037037037037037174, 0.037037037037037174, 0.037037037037037174, 0.037037037037037174, 0.037037037037037174, 0.037037037037037174, 0.037037037037037174, 0.037037037037037174]\n",
      "[0.03703703703703725, 0.03703703703703725, 0.03703703703703725, 0.037037037037037174, 0.037037037037037174, 0.037037037037037174, 0.037037037037037174, 0.037037037037037174, 0.037037037037037174, 0.037037037037037174, 0.037037037037037174, 0.037037037037037174, 0.037037037037037174, 0.037037037037037174, 0.037037037037037174, 0.037037037037037174, 0.037037037037037174, 0.037037037037037174, 0.037037037037037174, 0.037037037037037174, 0.037037037037037174, 0.037037037037037174, 0.037037037037037174, 0.037037037037037174, 0.037037037037037174, 0.037037037037037174, 0.037037037037037174]\n",
      "[0.03703703703703725, 0.03703703703703725, 0.03703703703703725, 0.037037037037037174, 0.037037037037037174, 0.037037037037037174, 0.037037037037037174, 0.037037037037037174, 0.037037037037037174, 0.037037037037037174, 0.037037037037037174, 0.037037037037037174, 0.037037037037037174, 0.037037037037037174, 0.037037037037037174, 0.037037037037037174, 0.037037037037037174, 0.037037037037037174, 0.037037037037037174, 0.037037037037037174, 0.037037037037037174, 0.037037037037037174, 0.037037037037037174, 0.037037037037037174, 0.037037037037037174, 0.037037037037037174, 0.037037037037037174]\n",
      "[0.03703703703703725, 0.03703703703703725, 0.03703703703703725, 0.037037037037037174, 0.037037037037037174, 0.037037037037037174, 0.037037037037037174, 0.037037037037037174, 0.037037037037037174, 0.037037037037037174, 0.037037037037037174, 0.037037037037037174, 0.037037037037037174, 0.037037037037037174, 0.037037037037037174, 0.037037037037037174, 0.037037037037037174, 0.037037037037037174, 0.037037037037037174, 0.037037037037037174, 0.037037037037037174, 0.037037037037037174, 0.037037037037037174, 0.037037037037037174, 0.037037037037037174, 0.037037037037037174, 0.037037037037037174]\n",
      "[0.03703703703703725, 0.03703703703703725, 0.03703703703703725, 0.037037037037037174, 0.037037037037037174, 0.037037037037037174, 0.037037037037037174, 0.037037037037037174, 0.037037037037037174, 0.037037037037037174, 0.037037037037037174, 0.037037037037037174, 0.037037037037037174, 0.037037037037037174, 0.037037037037037174, 0.037037037037037174, 0.037037037037037174, 0.037037037037037174, 0.037037037037037174, 0.037037037037037174, 0.037037037037037174, 0.037037037037037174, 0.037037037037037174, 0.037037037037037174, 0.037037037037037174, 0.037037037037037174, 0.037037037037037174]\n",
      "[0.03703703703703725, 0.03703703703703725, 0.03703703703703725, 0.037037037037037174, 0.037037037037037174, 0.037037037037037174, 0.037037037037037174, 0.037037037037037174, 0.037037037037037174, 0.037037037037037174, 0.037037037037037174, 0.037037037037037174, 0.037037037037037174, 0.037037037037037174, 0.037037037037037174, 0.037037037037037174, 0.037037037037037174, 0.037037037037037174, 0.037037037037037174, 0.037037037037037174, 0.037037037037037174, 0.037037037037037174, 0.037037037037037174, 0.037037037037037174, 0.037037037037037174, 0.037037037037037174, 0.037037037037037174]\n",
      "[0.03703703703703725, 0.03703703703703725, 0.03703703703703725, 0.037037037037037174, 0.037037037037037174, 0.037037037037037174, 0.037037037037037174, 0.037037037037037174, 0.037037037037037174, 0.037037037037037174, 0.037037037037037174, 0.037037037037037174, 0.037037037037037174, 0.037037037037037174, 0.037037037037037174, 0.037037037037037174, 0.037037037037037174, 0.037037037037037174, 0.037037037037037174, 0.037037037037037174, 0.037037037037037174, 0.037037037037037174, 0.037037037037037174, 0.037037037037037174, 0.037037037037037174, 0.037037037037037174, 0.037037037037037174]\n",
      "[0.03703703703703725, 0.03703703703703725, 0.03703703703703725, 0.037037037037037174, 0.037037037037037174, 0.037037037037037174, 0.037037037037037174, 0.037037037037037174, 0.037037037037037174, 0.037037037037037174, 0.037037037037037174, 0.037037037037037174, 0.037037037037037174, 0.037037037037037174, 0.037037037037037174, 0.037037037037037174, 0.037037037037037174, 0.037037037037037174, 0.037037037037037174, 0.037037037037037174, 0.037037037037037174, 0.037037037037037174, 0.037037037037037174, 0.037037037037037174, 0.037037037037037174, 0.037037037037037174, 0.037037037037037174]\n",
      "[0.03703703703703725, 0.03703703703703725, 0.03703703703703725, 0.037037037037037174, 0.037037037037037174, 0.037037037037037174, 0.037037037037037174, 0.037037037037037174, 0.037037037037037174, 0.037037037037037174, 0.037037037037037174, 0.037037037037037174, 0.037037037037037174, 0.037037037037037174, 0.037037037037037174, 0.037037037037037174, 0.037037037037037174, 0.037037037037037174, 0.037037037037037174, 0.037037037037037174, 0.037037037037037174, 0.037037037037037174, 0.037037037037037174, 0.037037037037037174, 0.037037037037037174, 0.037037037037037174, 0.037037037037037174]\n",
      "[0.03703703703703725, 0.03703703703703725, 0.03703703703703725, 0.037037037037037174, 0.037037037037037174, 0.037037037037037174, 0.037037037037037174, 0.037037037037037174, 0.037037037037037174, 0.037037037037037174, 0.037037037037037174, 0.037037037037037174, 0.037037037037037174, 0.037037037037037174, 0.037037037037037174, 0.037037037037037174, 0.037037037037037174, 0.037037037037037174, 0.037037037037037174, 0.037037037037037174, 0.037037037037037174, 0.037037037037037174, 0.037037037037037174, 0.037037037037037174, 0.037037037037037174, 0.037037037037037174, 0.037037037037037174]\n",
      "[0.03703703703703725, 0.03703703703703725, 0.03703703703703725, 0.037037037037037174, 0.037037037037037174, 0.037037037037037174, 0.037037037037037174, 0.037037037037037174, 0.037037037037037174, 0.037037037037037174, 0.037037037037037174, 0.037037037037037174, 0.037037037037037174, 0.037037037037037174, 0.037037037037037174, 0.037037037037037174, 0.037037037037037174, 0.037037037037037174, 0.037037037037037174, 0.037037037037037174, 0.037037037037037174, 0.037037037037037174, 0.037037037037037174, 0.037037037037037174, 0.037037037037037174, 0.037037037037037174, 0.037037037037037174]\n",
      "[0.03703703703703725, 0.03703703703703725, 0.03703703703703725, 0.037037037037037174, 0.037037037037037174, 0.037037037037037174, 0.037037037037037174, 0.037037037037037174, 0.037037037037037174, 0.037037037037037174, 0.037037037037037174, 0.037037037037037174, 0.037037037037037174, 0.037037037037037174, 0.037037037037037174, 0.037037037037037174, 0.037037037037037174, 0.037037037037037174, 0.037037037037037174, 0.037037037037037174, 0.037037037037037174, 0.037037037037037174, 0.037037037037037174, 0.037037037037037174, 0.037037037037037174, 0.037037037037037174, 0.037037037037037174]\n",
      "[0.03703703703703725, 0.03703703703703725, 0.03703703703703725, 0.037037037037037174, 0.037037037037037174, 0.037037037037037174, 0.037037037037037174, 0.037037037037037174, 0.037037037037037174, 0.037037037037037174, 0.037037037037037174, 0.037037037037037174, 0.037037037037037174, 0.037037037037037174, 0.037037037037037174, 0.037037037037037174, 0.037037037037037174, 0.037037037037037174, 0.037037037037037174, 0.037037037037037174, 0.037037037037037174, 0.037037037037037174, 0.037037037037037174, 0.037037037037037174, 0.037037037037037174, 0.037037037037037174, 0.037037037037037174]\n",
      "[0.03703703703703725, 0.03703703703703725, 0.03703703703703725, 0.037037037037037174, 0.037037037037037174, 0.037037037037037174, 0.037037037037037174, 0.037037037037037174, 0.037037037037037174, 0.037037037037037174, 0.037037037037037174, 0.037037037037037174, 0.037037037037037174, 0.037037037037037174, 0.037037037037037174, 0.037037037037037174, 0.037037037037037174, 0.037037037037037174, 0.037037037037037174, 0.037037037037037174, 0.037037037037037174, 0.037037037037037174, 0.037037037037037174, 0.037037037037037174, 0.037037037037037174, 0.037037037037037174, 0.037037037037037174]\n",
      "[0.03703703703703725, 0.03703703703703725, 0.03703703703703725, 0.037037037037037174, 0.037037037037037174, 0.037037037037037174, 0.037037037037037174, 0.037037037037037174, 0.037037037037037174, 0.037037037037037174, 0.037037037037037174, 0.037037037037037174, 0.037037037037037174, 0.037037037037037174, 0.037037037037037174, 0.037037037037037174, 0.037037037037037174, 0.037037037037037174, 0.037037037037037174, 0.037037037037037174, 0.037037037037037174, 0.037037037037037174, 0.037037037037037174, 0.037037037037037174, 0.037037037037037174, 0.037037037037037174, 0.037037037037037174]\n",
      "[0.03703703703703725, 0.03703703703703725, 0.03703703703703725, 0.037037037037037174, 0.037037037037037174, 0.037037037037037174, 0.037037037037037174, 0.037037037037037174, 0.037037037037037174, 0.037037037037037174, 0.037037037037037174, 0.037037037037037174, 0.037037037037037174, 0.037037037037037174, 0.037037037037037174, 0.037037037037037174, 0.037037037037037174, 0.037037037037037174, 0.037037037037037174, 0.037037037037037174, 0.037037037037037174, 0.037037037037037174, 0.037037037037037174, 0.037037037037037174, 0.037037037037037174, 0.037037037037037174, 0.037037037037037174]\n",
      "[0.03703703703703725, 0.03703703703703725, 0.03703703703703725, 0.037037037037037174, 0.037037037037037174, 0.037037037037037174, 0.037037037037037174, 0.037037037037037174, 0.037037037037037174, 0.037037037037037174, 0.037037037037037174, 0.037037037037037174, 0.037037037037037174, 0.037037037037037174, 0.037037037037037174, 0.037037037037037174, 0.037037037037037174, 0.037037037037037174, 0.037037037037037174, 0.037037037037037174, 0.037037037037037174, 0.037037037037037174, 0.037037037037037174, 0.037037037037037174, 0.037037037037037174, 0.037037037037037174, 0.037037037037037174]\n",
      "[0.03703703703703725, 0.03703703703703725, 0.03703703703703725, 0.037037037037037174, 0.037037037037037174, 0.037037037037037174, 0.037037037037037174, 0.037037037037037174, 0.037037037037037174, 0.037037037037037174, 0.037037037037037174, 0.037037037037037174, 0.037037037037037174, 0.037037037037037174, 0.037037037037037174, 0.037037037037037174, 0.037037037037037174, 0.037037037037037174, 0.037037037037037174, 0.037037037037037174, 0.037037037037037174, 0.037037037037037174, 0.037037037037037174, 0.037037037037037174, 0.037037037037037174, 0.037037037037037174, 0.037037037037037174]\n",
      "Emission probabilities (B):\n",
      "[0.006446544755234021, 0.006446544755234021, 0.006446544755234021, 0.006446544755234021, 0.006446544755234021, 0.006446544755234021, 0.012723608781752114, 0.006446544755234021, 0.006446544755234021, 0.006446544755234021, 0.006446544755234021, 0.006446544755234021, 0.006446544755234021, 0.006446544755234021, 0.006446544755234021, 0.006446544755234021, 0.48396837847627316, 0.006446544755234021, 0.006446544755234021, 0.006446544755234021, 0.006446544755234021, 0.006446544755234021, 0.006446544755234021, 0.006446544755234021, 0.4839683784762727, 0.006446544755234021, 0.006446544755234021, 0.006446544755234021, 0.006446544755234021, 0.006446544755234021, 0.006446544755234021, 0.006446544755234021, 0.006446544755234021, 0.006446544755234021, 0.006446544755234021, 0.006446544755234021, 0.006446544755234021, 0.006446544755234021, 0.006446544755234021, 0.006446544755234021, 0.006446544755234021, 0.006446544755234021, 0.006446544755234021, 0.006446544755234021, 0.006446544755234021, 0.006446544755234021, 0.006446544755234021, 0.006446544755234021, 0.006446544755234021, 0.006446544755234021]\n",
      "[0.006446544755234021, 0.006446544755234021, 0.006446544755234021, 0.006446544755234021, 0.006446544755234021, 0.006446544755234021, 0.012723608781752114, 0.006446544755234021, 0.006446544755234021, 0.006446544755234021, 0.006446544755234021, 0.006446544755234021, 0.006446544755234021, 0.006446544755234021, 0.006446544755234021, 0.006446544755234021, 0.48396837847627316, 0.006446544755234021, 0.006446544755234021, 0.006446544755234021, 0.006446544755234021, 0.006446544755234021, 0.006446544755234021, 0.006446544755234021, 0.4839683784762727, 0.006446544755234021, 0.006446544755234021, 0.006446544755234021, 0.006446544755234021, 0.006446544755234021, 0.006446544755234021, 0.006446544755234021, 0.006446544755234021, 0.006446544755234021, 0.006446544755234021, 0.006446544755234021, 0.006446544755234021, 0.006446544755234021, 0.006446544755234021, 0.006446544755234021, 0.006446544755234021, 0.006446544755234021, 0.006446544755234021, 0.006446544755234021, 0.006446544755234021, 0.006446544755234021, 0.006446544755234021, 0.006446544755234021, 0.006446544755234021, 0.006446544755234021]\n",
      "[0.006446544755234021, 0.006446544755234021, 0.006446544755234021, 0.006446544755234021, 0.006446544755234021, 0.006446544755234021, 0.012723608781752114, 0.006446544755234021, 0.006446544755234021, 0.006446544755234021, 0.006446544755234021, 0.006446544755234021, 0.006446544755234021, 0.006446544755234021, 0.006446544755234021, 0.006446544755234021, 0.48396837847627316, 0.006446544755234021, 0.006446544755234021, 0.006446544755234021, 0.006446544755234021, 0.006446544755234021, 0.006446544755234021, 0.006446544755234021, 0.4839683784762727, 0.006446544755234021, 0.006446544755234021, 0.006446544755234021, 0.006446544755234021, 0.006446544755234021, 0.006446544755234021, 0.006446544755234021, 0.006446544755234021, 0.006446544755234021, 0.006446544755234021, 0.006446544755234021, 0.006446544755234021, 0.006446544755234021, 0.006446544755234021, 0.006446544755234021, 0.006446544755234021, 0.006446544755234021, 0.006446544755234021, 0.006446544755234021, 0.006446544755234021, 0.006446544755234021, 0.006446544755234021, 0.006446544755234021, 0.006446544755234021, 0.006446544755234021]\n",
      "[0.02, 0.02, 0.02, 0.02, 0.02, 0.02, 0.02, 0.02, 0.02, 0.02, 0.02, 0.02, 0.02, 0.02, 0.02, 0.02, 0.02, 0.02, 0.02, 0.02, 0.02, 0.02, 0.02, 0.02, 0.02, 0.02, 0.02, 0.02, 0.02, 0.02, 0.02, 0.02, 0.02, 0.02, 0.02, 0.02, 0.02, 0.02, 0.02, 0.02, 0.02, 0.02, 0.02, 0.02, 0.02, 0.02, 0.02, 0.02, 0.02, 0.02]\n",
      "[0.02, 0.02, 0.02, 0.02, 0.02, 0.02, 0.02, 0.02, 0.02, 0.02, 0.02, 0.02, 0.02, 0.02, 0.02, 0.02, 0.02, 0.02, 0.02, 0.02, 0.02, 0.02, 0.02, 0.02, 0.02, 0.02, 0.02, 0.02, 0.02, 0.02, 0.02, 0.02, 0.02, 0.02, 0.02, 0.02, 0.02, 0.02, 0.02, 0.02, 0.02, 0.02, 0.02, 0.02, 0.02, 0.02, 0.02, 0.02, 0.02, 0.02]\n",
      "[0.02, 0.02, 0.02, 0.02, 0.02, 0.02, 0.02, 0.02, 0.02, 0.02, 0.02, 0.02, 0.02, 0.02, 0.02, 0.02, 0.02, 0.02, 0.02, 0.02, 0.02, 0.02, 0.02, 0.02, 0.02, 0.02, 0.02, 0.02, 0.02, 0.02, 0.02, 0.02, 0.02, 0.02, 0.02, 0.02, 0.02, 0.02, 0.02, 0.02, 0.02, 0.02, 0.02, 0.02, 0.02, 0.02, 0.02, 0.02, 0.02, 0.02]\n",
      "[0.02, 0.02, 0.02, 0.02, 0.02, 0.02, 0.02, 0.02, 0.02, 0.02, 0.02, 0.02, 0.02, 0.02, 0.02, 0.02, 0.02, 0.02, 0.02, 0.02, 0.02, 0.02, 0.02, 0.02, 0.02, 0.02, 0.02, 0.02, 0.02, 0.02, 0.02, 0.02, 0.02, 0.02, 0.02, 0.02, 0.02, 0.02, 0.02, 0.02, 0.02, 0.02, 0.02, 0.02, 0.02, 0.02, 0.02, 0.02, 0.02, 0.02]\n",
      "[0.02, 0.02, 0.02, 0.02, 0.02, 0.02, 0.02, 0.02, 0.02, 0.02, 0.02, 0.02, 0.02, 0.02, 0.02, 0.02, 0.02, 0.02, 0.02, 0.02, 0.02, 0.02, 0.02, 0.02, 0.02, 0.02, 0.02, 0.02, 0.02, 0.02, 0.02, 0.02, 0.02, 0.02, 0.02, 0.02, 0.02, 0.02, 0.02, 0.02, 0.02, 0.02, 0.02, 0.02, 0.02, 0.02, 0.02, 0.02, 0.02, 0.02]\n",
      "[0.02, 0.02, 0.02, 0.02, 0.02, 0.02, 0.02, 0.02, 0.02, 0.02, 0.02, 0.02, 0.02, 0.02, 0.02, 0.02, 0.02, 0.02, 0.02, 0.02, 0.02, 0.02, 0.02, 0.02, 0.02, 0.02, 0.02, 0.02, 0.02, 0.02, 0.02, 0.02, 0.02, 0.02, 0.02, 0.02, 0.02, 0.02, 0.02, 0.02, 0.02, 0.02, 0.02, 0.02, 0.02, 0.02, 0.02, 0.02, 0.02, 0.02]\n",
      "[0.02, 0.02, 0.02, 0.02, 0.02, 0.02, 0.02, 0.02, 0.02, 0.02, 0.02, 0.02, 0.02, 0.02, 0.02, 0.02, 0.02, 0.02, 0.02, 0.02, 0.02, 0.02, 0.02, 0.02, 0.02, 0.02, 0.02, 0.02, 0.02, 0.02, 0.02, 0.02, 0.02, 0.02, 0.02, 0.02, 0.02, 0.02, 0.02, 0.02, 0.02, 0.02, 0.02, 0.02, 0.02, 0.02, 0.02, 0.02, 0.02, 0.02]\n",
      "[0.02, 0.02, 0.02, 0.02, 0.02, 0.02, 0.02, 0.02, 0.02, 0.02, 0.02, 0.02, 0.02, 0.02, 0.02, 0.02, 0.02, 0.02, 0.02, 0.02, 0.02, 0.02, 0.02, 0.02, 0.02, 0.02, 0.02, 0.02, 0.02, 0.02, 0.02, 0.02, 0.02, 0.02, 0.02, 0.02, 0.02, 0.02, 0.02, 0.02, 0.02, 0.02, 0.02, 0.02, 0.02, 0.02, 0.02, 0.02, 0.02, 0.02]\n",
      "[0.02, 0.02, 0.02, 0.02, 0.02, 0.02, 0.02, 0.02, 0.02, 0.02, 0.02, 0.02, 0.02, 0.02, 0.02, 0.02, 0.02, 0.02, 0.02, 0.02, 0.02, 0.02, 0.02, 0.02, 0.02, 0.02, 0.02, 0.02, 0.02, 0.02, 0.02, 0.02, 0.02, 0.02, 0.02, 0.02, 0.02, 0.02, 0.02, 0.02, 0.02, 0.02, 0.02, 0.02, 0.02, 0.02, 0.02, 0.02, 0.02, 0.02]\n",
      "[0.02, 0.02, 0.02, 0.02, 0.02, 0.02, 0.02, 0.02, 0.02, 0.02, 0.02, 0.02, 0.02, 0.02, 0.02, 0.02, 0.02, 0.02, 0.02, 0.02, 0.02, 0.02, 0.02, 0.02, 0.02, 0.02, 0.02, 0.02, 0.02, 0.02, 0.02, 0.02, 0.02, 0.02, 0.02, 0.02, 0.02, 0.02, 0.02, 0.02, 0.02, 0.02, 0.02, 0.02, 0.02, 0.02, 0.02, 0.02, 0.02, 0.02]\n",
      "[0.02, 0.02, 0.02, 0.02, 0.02, 0.02, 0.02, 0.02, 0.02, 0.02, 0.02, 0.02, 0.02, 0.02, 0.02, 0.02, 0.02, 0.02, 0.02, 0.02, 0.02, 0.02, 0.02, 0.02, 0.02, 0.02, 0.02, 0.02, 0.02, 0.02, 0.02, 0.02, 0.02, 0.02, 0.02, 0.02, 0.02, 0.02, 0.02, 0.02, 0.02, 0.02, 0.02, 0.02, 0.02, 0.02, 0.02, 0.02, 0.02, 0.02]\n",
      "[0.02, 0.02, 0.02, 0.02, 0.02, 0.02, 0.02, 0.02, 0.02, 0.02, 0.02, 0.02, 0.02, 0.02, 0.02, 0.02, 0.02, 0.02, 0.02, 0.02, 0.02, 0.02, 0.02, 0.02, 0.02, 0.02, 0.02, 0.02, 0.02, 0.02, 0.02, 0.02, 0.02, 0.02, 0.02, 0.02, 0.02, 0.02, 0.02, 0.02, 0.02, 0.02, 0.02, 0.02, 0.02, 0.02, 0.02, 0.02, 0.02, 0.02]\n",
      "[0.02, 0.02, 0.02, 0.02, 0.02, 0.02, 0.02, 0.02, 0.02, 0.02, 0.02, 0.02, 0.02, 0.02, 0.02, 0.02, 0.02, 0.02, 0.02, 0.02, 0.02, 0.02, 0.02, 0.02, 0.02, 0.02, 0.02, 0.02, 0.02, 0.02, 0.02, 0.02, 0.02, 0.02, 0.02, 0.02, 0.02, 0.02, 0.02, 0.02, 0.02, 0.02, 0.02, 0.02, 0.02, 0.02, 0.02, 0.02, 0.02, 0.02]\n",
      "[0.02, 0.02, 0.02, 0.02, 0.02, 0.02, 0.02, 0.02, 0.02, 0.02, 0.02, 0.02, 0.02, 0.02, 0.02, 0.02, 0.02, 0.02, 0.02, 0.02, 0.02, 0.02, 0.02, 0.02, 0.02, 0.02, 0.02, 0.02, 0.02, 0.02, 0.02, 0.02, 0.02, 0.02, 0.02, 0.02, 0.02, 0.02, 0.02, 0.02, 0.02, 0.02, 0.02, 0.02, 0.02, 0.02, 0.02, 0.02, 0.02, 0.02]\n",
      "[0.02, 0.02, 0.02, 0.02, 0.02, 0.02, 0.02, 0.02, 0.02, 0.02, 0.02, 0.02, 0.02, 0.02, 0.02, 0.02, 0.02, 0.02, 0.02, 0.02, 0.02, 0.02, 0.02, 0.02, 0.02, 0.02, 0.02, 0.02, 0.02, 0.02, 0.02, 0.02, 0.02, 0.02, 0.02, 0.02, 0.02, 0.02, 0.02, 0.02, 0.02, 0.02, 0.02, 0.02, 0.02, 0.02, 0.02, 0.02, 0.02, 0.02]\n",
      "[0.02, 0.02, 0.02, 0.02, 0.02, 0.02, 0.02, 0.02, 0.02, 0.02, 0.02, 0.02, 0.02, 0.02, 0.02, 0.02, 0.02, 0.02, 0.02, 0.02, 0.02, 0.02, 0.02, 0.02, 0.02, 0.02, 0.02, 0.02, 0.02, 0.02, 0.02, 0.02, 0.02, 0.02, 0.02, 0.02, 0.02, 0.02, 0.02, 0.02, 0.02, 0.02, 0.02, 0.02, 0.02, 0.02, 0.02, 0.02, 0.02, 0.02]\n",
      "[0.02, 0.02, 0.02, 0.02, 0.02, 0.02, 0.02, 0.02, 0.02, 0.02, 0.02, 0.02, 0.02, 0.02, 0.02, 0.02, 0.02, 0.02, 0.02, 0.02, 0.02, 0.02, 0.02, 0.02, 0.02, 0.02, 0.02, 0.02, 0.02, 0.02, 0.02, 0.02, 0.02, 0.02, 0.02, 0.02, 0.02, 0.02, 0.02, 0.02, 0.02, 0.02, 0.02, 0.02, 0.02, 0.02, 0.02, 0.02, 0.02, 0.02]\n",
      "[0.02, 0.02, 0.02, 0.02, 0.02, 0.02, 0.02, 0.02, 0.02, 0.02, 0.02, 0.02, 0.02, 0.02, 0.02, 0.02, 0.02, 0.02, 0.02, 0.02, 0.02, 0.02, 0.02, 0.02, 0.02, 0.02, 0.02, 0.02, 0.02, 0.02, 0.02, 0.02, 0.02, 0.02, 0.02, 0.02, 0.02, 0.02, 0.02, 0.02, 0.02, 0.02, 0.02, 0.02, 0.02, 0.02, 0.02, 0.02, 0.02, 0.02]\n",
      "[0.02, 0.02, 0.02, 0.02, 0.02, 0.02, 0.02, 0.02, 0.02, 0.02, 0.02, 0.02, 0.02, 0.02, 0.02, 0.02, 0.02, 0.02, 0.02, 0.02, 0.02, 0.02, 0.02, 0.02, 0.02, 0.02, 0.02, 0.02, 0.02, 0.02, 0.02, 0.02, 0.02, 0.02, 0.02, 0.02, 0.02, 0.02, 0.02, 0.02, 0.02, 0.02, 0.02, 0.02, 0.02, 0.02, 0.02, 0.02, 0.02, 0.02]\n",
      "[0.02, 0.02, 0.02, 0.02, 0.02, 0.02, 0.02, 0.02, 0.02, 0.02, 0.02, 0.02, 0.02, 0.02, 0.02, 0.02, 0.02, 0.02, 0.02, 0.02, 0.02, 0.02, 0.02, 0.02, 0.02, 0.02, 0.02, 0.02, 0.02, 0.02, 0.02, 0.02, 0.02, 0.02, 0.02, 0.02, 0.02, 0.02, 0.02, 0.02, 0.02, 0.02, 0.02, 0.02, 0.02, 0.02, 0.02, 0.02, 0.02, 0.02]\n",
      "[0.02, 0.02, 0.02, 0.02, 0.02, 0.02, 0.02, 0.02, 0.02, 0.02, 0.02, 0.02, 0.02, 0.02, 0.02, 0.02, 0.02, 0.02, 0.02, 0.02, 0.02, 0.02, 0.02, 0.02, 0.02, 0.02, 0.02, 0.02, 0.02, 0.02, 0.02, 0.02, 0.02, 0.02, 0.02, 0.02, 0.02, 0.02, 0.02, 0.02, 0.02, 0.02, 0.02, 0.02, 0.02, 0.02, 0.02, 0.02, 0.02, 0.02]\n",
      "[0.02, 0.02, 0.02, 0.02, 0.02, 0.02, 0.02, 0.02, 0.02, 0.02, 0.02, 0.02, 0.02, 0.02, 0.02, 0.02, 0.02, 0.02, 0.02, 0.02, 0.02, 0.02, 0.02, 0.02, 0.02, 0.02, 0.02, 0.02, 0.02, 0.02, 0.02, 0.02, 0.02, 0.02, 0.02, 0.02, 0.02, 0.02, 0.02, 0.02, 0.02, 0.02, 0.02, 0.02, 0.02, 0.02, 0.02, 0.02, 0.02, 0.02]\n",
      "[0.02, 0.02, 0.02, 0.02, 0.02, 0.02, 0.02, 0.02, 0.02, 0.02, 0.02, 0.02, 0.02, 0.02, 0.02, 0.02, 0.02, 0.02, 0.02, 0.02, 0.02, 0.02, 0.02, 0.02, 0.02, 0.02, 0.02, 0.02, 0.02, 0.02, 0.02, 0.02, 0.02, 0.02, 0.02, 0.02, 0.02, 0.02, 0.02, 0.02, 0.02, 0.02, 0.02, 0.02, 0.02, 0.02, 0.02, 0.02, 0.02, 0.02]\n",
      "[0.02, 0.02, 0.02, 0.02, 0.02, 0.02, 0.02, 0.02, 0.02, 0.02, 0.02, 0.02, 0.02, 0.02, 0.02, 0.02, 0.02, 0.02, 0.02, 0.02, 0.02, 0.02, 0.02, 0.02, 0.02, 0.02, 0.02, 0.02, 0.02, 0.02, 0.02, 0.02, 0.02, 0.02, 0.02, 0.02, 0.02, 0.02, 0.02, 0.02, 0.02, 0.02, 0.02, 0.02, 0.02, 0.02, 0.02, 0.02, 0.02, 0.02]\n"
     ]
    }
   ],
   "source": [
    "hmm.display_parameters()"
   ]
  },
  {
   "cell_type": "code",
   "execution_count": 168,
   "metadata": {},
   "outputs": [
    {
     "data": {
      "text/html": [
       "\n",
       "            <style>\n",
       "                .geemap-dark {\n",
       "                    --jp-widgets-color: white;\n",
       "                    --jp-widgets-label-color: white;\n",
       "                    --jp-ui-font-color1: white;\n",
       "                    --jp-layout-color2: #454545;\n",
       "                    background-color: #383838;\n",
       "                }\n",
       "\n",
       "                .geemap-dark .jupyter-button {\n",
       "                    --jp-layout-color3: #383838;\n",
       "                }\n",
       "\n",
       "                .geemap-colab {\n",
       "                    background-color: var(--colab-primary-surface-color, white);\n",
       "                }\n",
       "\n",
       "                .geemap-colab .jupyter-button {\n",
       "                    --jp-layout-color3: var(--colab-primary-surface-color, white);\n",
       "                }\n",
       "            </style>\n",
       "            "
      ],
      "text/plain": [
       "<IPython.core.display.HTML object>"
      ]
     },
     "metadata": {},
     "output_type": "display_data"
    },
    {
     "name": "stdout",
     "output_type": "stream",
     "text": [
      "0.15555535367621995\n",
      "['1', '1', '0']\n"
     ]
    }
   ],
   "source": [
    "obs = ['14', '14', '14']\n",
    "print(hmm.evaluate(obs))\n",
    "print(hmm.decode(obs))"
   ]
  }
 ],
 "metadata": {
  "kernelspec": {
   "display_name": "Python 3",
   "language": "python",
   "name": "python3"
  },
  "language_info": {
   "codemirror_mode": {
    "name": "ipython",
    "version": 3
   },
   "file_extension": ".py",
   "mimetype": "text/x-python",
   "name": "python",
   "nbconvert_exporter": "python",
   "pygments_lexer": "ipython3",
   "version": "3.12.2"
  }
 },
 "nbformat": 4,
 "nbformat_minor": 2
}
