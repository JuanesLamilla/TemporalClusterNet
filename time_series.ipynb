{
 "cells": [
  {
   "cell_type": "code",
   "execution_count": 1,
   "metadata": {},
   "outputs": [
    {
     "name": "stderr",
     "output_type": "stream",
     "text": [
      "c:\\Users\\Juanes\\miniforge3\\envs\\TemporalClusterNet\\Lib\\site-packages\\h5py\\__init__.py:36: UserWarning: h5py is running against HDF5 1.14.3 when it was built against 1.14.2, this may cause problems\n",
      "  _warn((\"h5py is running against HDF5 {0} when it was built against {1}, \"\n"
     ]
    }
   ],
   "source": [
    "# Ignore warnings (primarily for future deprecation warnings)\n",
    "import warnings\n",
    "# warnings.filterwarnings('ignore')\n",
    "\n",
    "# Raster Analysis\n",
    "import rasterio\n",
    "import earthpy.plot as ep\n",
    "from rasterio.merge import merge\n",
    "\n",
    "# Vector Analysis\n",
    "from shapely.geometry import box, mapping, Polygon\n",
    "\n",
    "# General data manipulation\n",
    "import geopandas as gpd\n",
    "import pandas as pd\n",
    "import numpy as np\n",
    "\n",
    "from collections import Counter\n",
    "\n",
    "# Saving and Accessing Data\n",
    "import os\n",
    "import pickle\n",
    "import json\n",
    "\n",
    "# Matplotlib and associated plotting modules\n",
    "import matplotlib.pyplot as plt\n",
    "from matplotlib.colors import ListedColormap\n",
    "import matplotlib.patches as mpatches\n",
    "import folium\n",
    "import seaborn as sns\n",
    "\n",
    "# Google Earth Engine\n",
    "import ee\n",
    "import geemap\n",
    "\n",
    "# Machine learning\n",
    "\n",
    "# Keras\n",
    "import keras\n",
    "from keras import Sequential\n",
    "from keras.layers import Conv1D, Dropout, Dense, Input, GlobalMaxPooling1D\n",
    "from keras.callbacks import EarlyStopping\n",
    "from keras.utils import to_categorical\n",
    "\n",
    "from importlib import reload\n",
    "from tqdm import tqdm\n",
    "\n",
    "from sklearn.decomposition import PCA\n",
    "\n",
    "import sys\n",
    "# caution: path[0] is reserved for script path (or '' in REPL)\n",
    "sys.path.insert(1, os.path.join('src'))\n",
    "\n",
    "from split_images import split_geometry, haversine, calc_segment_count\n",
    "import feature_extraction as fe\n",
    "\n",
    "import sqlite3"
   ]
  },
  {
   "cell_type": "code",
   "execution_count": 2,
   "metadata": {},
   "outputs": [
    {
     "data": {
      "text/html": [
       "\n",
       "            <style>\n",
       "                .geemap-dark {\n",
       "                    --jp-widgets-color: white;\n",
       "                    --jp-widgets-label-color: white;\n",
       "                    --jp-ui-font-color1: white;\n",
       "                    --jp-layout-color2: #454545;\n",
       "                    background-color: #383838;\n",
       "                }\n",
       "\n",
       "                .geemap-dark .jupyter-button {\n",
       "                    --jp-layout-color3: #383838;\n",
       "                }\n",
       "\n",
       "                .geemap-colab {\n",
       "                    background-color: var(--colab-primary-surface-color, white);\n",
       "                }\n",
       "\n",
       "                .geemap-colab .jupyter-button {\n",
       "                    --jp-layout-color3: var(--colab-primary-surface-color, white);\n",
       "                }\n",
       "            </style>\n",
       "            "
      ],
      "text/plain": [
       "<IPython.core.display.HTML object>"
      ]
     },
     "metadata": {},
     "output_type": "display_data"
    }
   ],
   "source": [
    "import split_images\n",
    "reload(split_images)\n",
    "from split_images import split_geometry, haversine, calc_segment_count"
   ]
  },
  {
   "cell_type": "code",
   "execution_count": 3,
   "metadata": {},
   "outputs": [
    {
     "data": {
      "text/html": [
       "\n",
       "            <style>\n",
       "                .geemap-dark {\n",
       "                    --jp-widgets-color: white;\n",
       "                    --jp-widgets-label-color: white;\n",
       "                    --jp-ui-font-color1: white;\n",
       "                    --jp-layout-color2: #454545;\n",
       "                    background-color: #383838;\n",
       "                }\n",
       "\n",
       "                .geemap-dark .jupyter-button {\n",
       "                    --jp-layout-color3: #383838;\n",
       "                }\n",
       "\n",
       "                .geemap-colab {\n",
       "                    background-color: var(--colab-primary-surface-color, white);\n",
       "                }\n",
       "\n",
       "                .geemap-colab .jupyter-button {\n",
       "                    --jp-layout-color3: var(--colab-primary-surface-color, white);\n",
       "                }\n",
       "            </style>\n",
       "            "
      ],
      "text/plain": [
       "<IPython.core.display.HTML object>"
      ]
     },
     "metadata": {},
     "output_type": "display_data"
    }
   ],
   "source": [
    "from analysis_image import AnalysisImage\n",
    "from keras.preprocessing import image"
   ]
  },
  {
   "cell_type": "code",
   "execution_count": 4,
   "metadata": {},
   "outputs": [
    {
     "data": {
      "text/html": [
       "\n",
       "            <style>\n",
       "                .geemap-dark {\n",
       "                    --jp-widgets-color: white;\n",
       "                    --jp-widgets-label-color: white;\n",
       "                    --jp-ui-font-color1: white;\n",
       "                    --jp-layout-color2: #454545;\n",
       "                    background-color: #383838;\n",
       "                }\n",
       "\n",
       "                .geemap-dark .jupyter-button {\n",
       "                    --jp-layout-color3: #383838;\n",
       "                }\n",
       "\n",
       "                .geemap-colab {\n",
       "                    background-color: var(--colab-primary-surface-color, white);\n",
       "                }\n",
       "\n",
       "                .geemap-colab .jupyter-button {\n",
       "                    --jp-layout-color3: var(--colab-primary-surface-color, white);\n",
       "                }\n",
       "            </style>\n",
       "            "
      ],
      "text/plain": [
       "<IPython.core.display.HTML object>"
      ]
     },
     "metadata": {},
     "output_type": "display_data"
    }
   ],
   "source": [
    "ee.Authenticate()\n",
    "ee.Initialize()"
   ]
  },
  {
   "cell_type": "code",
   "execution_count": 9,
   "metadata": {},
   "outputs": [
    {
     "data": {
      "text/html": [
       "\n",
       "            <style>\n",
       "                .geemap-dark {\n",
       "                    --jp-widgets-color: white;\n",
       "                    --jp-widgets-label-color: white;\n",
       "                    --jp-ui-font-color1: white;\n",
       "                    --jp-layout-color2: #454545;\n",
       "                    background-color: #383838;\n",
       "                }\n",
       "\n",
       "                .geemap-dark .jupyter-button {\n",
       "                    --jp-layout-color3: #383838;\n",
       "                }\n",
       "\n",
       "                .geemap-colab {\n",
       "                    background-color: var(--colab-primary-surface-color, white);\n",
       "                }\n",
       "\n",
       "                .geemap-colab .jupyter-button {\n",
       "                    --jp-layout-color3: var(--colab-primary-surface-color, white);\n",
       "                }\n",
       "            </style>\n",
       "            "
      ],
      "text/plain": [
       "<IPython.core.display.HTML object>"
      ]
     },
     "metadata": {},
     "output_type": "display_data"
    }
   ],
   "source": [
    "SEED = 2024\n",
    "keras.utils.set_random_seed(SEED)\n",
    "FEATURES = ['B1', 'B2', 'B3', 'B4', 'B5', 'B6', 'B7', 'B8', 'B8A', 'B11', 'B12']\n",
    "years = [2018, 2019, 2020, 2021, 2022, 2023]"
   ]
  },
  {
   "cell_type": "code",
   "execution_count": 32,
   "metadata": {},
   "outputs": [
    {
     "data": {
      "text/html": [
       "\n",
       "            <style>\n",
       "                .geemap-dark {\n",
       "                    --jp-widgets-color: white;\n",
       "                    --jp-widgets-label-color: white;\n",
       "                    --jp-ui-font-color1: white;\n",
       "                    --jp-layout-color2: #454545;\n",
       "                    background-color: #383838;\n",
       "                }\n",
       "\n",
       "                .geemap-dark .jupyter-button {\n",
       "                    --jp-layout-color3: #383838;\n",
       "                }\n",
       "\n",
       "                .geemap-colab {\n",
       "                    background-color: var(--colab-primary-surface-color, white);\n",
       "                }\n",
       "\n",
       "                .geemap-colab .jupyter-button {\n",
       "                    --jp-layout-color3: var(--colab-primary-surface-color, white);\n",
       "                }\n",
       "            </style>\n",
       "            "
      ],
      "text/plain": [
       "<IPython.core.display.HTML object>"
      ]
     },
     "metadata": {},
     "output_type": "display_data"
    }
   ],
   "source": [
    "import eloisa\n",
    "reload(eloisa)\n",
    "from eloisa import Eloisa"
   ]
  },
  {
   "cell_type": "code",
   "execution_count": 31,
   "metadata": {},
   "outputs": [
    {
     "data": {
      "text/html": [
       "\n",
       "            <style>\n",
       "                .geemap-dark {\n",
       "                    --jp-widgets-color: white;\n",
       "                    --jp-widgets-label-color: white;\n",
       "                    --jp-ui-font-color1: white;\n",
       "                    --jp-layout-color2: #454545;\n",
       "                    background-color: #383838;\n",
       "                }\n",
       "\n",
       "                .geemap-dark .jupyter-button {\n",
       "                    --jp-layout-color3: #383838;\n",
       "                }\n",
       "\n",
       "                .geemap-colab {\n",
       "                    background-color: var(--colab-primary-surface-color, white);\n",
       "                }\n",
       "\n",
       "                .geemap-colab .jupyter-button {\n",
       "                    --jp-layout-color3: var(--colab-primary-surface-color, white);\n",
       "                }\n",
       "            </style>\n",
       "            "
      ],
      "text/plain": [
       "<IPython.core.display.HTML object>"
      ]
     },
     "metadata": {},
     "output_type": "display_data"
    }
   ],
   "source": [
    "tegu_200_eloisa = ''"
   ]
  },
  {
   "cell_type": "code",
   "execution_count": 33,
   "metadata": {},
   "outputs": [
    {
     "data": {
      "text/html": [
       "\n",
       "            <style>\n",
       "                .geemap-dark {\n",
       "                    --jp-widgets-color: white;\n",
       "                    --jp-widgets-label-color: white;\n",
       "                    --jp-ui-font-color1: white;\n",
       "                    --jp-layout-color2: #454545;\n",
       "                    background-color: #383838;\n",
       "                }\n",
       "\n",
       "                .geemap-dark .jupyter-button {\n",
       "                    --jp-layout-color3: #383838;\n",
       "                }\n",
       "\n",
       "                .geemap-colab {\n",
       "                    background-color: var(--colab-primary-surface-color, white);\n",
       "                }\n",
       "\n",
       "                .geemap-colab .jupyter-button {\n",
       "                    --jp-layout-color3: var(--colab-primary-surface-color, white);\n",
       "                }\n",
       "            </style>\n",
       "            "
      ],
      "text/plain": [
       "<IPython.core.display.HTML object>"
      ]
     },
     "metadata": {},
     "output_type": "display_data"
    }
   ],
   "source": [
    "# Load eloisa_databases/tegu_200x200_flatten.pkl\n",
    "with open('eloisa_databases/tegu_200x200_flatten.pkl', 'rb') as f:\n",
    "    tegu_200_eloisa = pickle.load(f)\n",
    "\n",
    "tegu_200_eloisa._database = sqlite3.connect(tegu_200_eloisa.db_path)"
   ]
  },
  {
   "cell_type": "code",
   "execution_count": 8,
   "metadata": {},
   "outputs": [
    {
     "data": {
      "text/html": [
       "\n",
       "            <style>\n",
       "                .geemap-dark {\n",
       "                    --jp-widgets-color: white;\n",
       "                    --jp-widgets-label-color: white;\n",
       "                    --jp-ui-font-color1: white;\n",
       "                    --jp-layout-color2: #454545;\n",
       "                    background-color: #383838;\n",
       "                }\n",
       "\n",
       "                .geemap-dark .jupyter-button {\n",
       "                    --jp-layout-color3: #383838;\n",
       "                }\n",
       "\n",
       "                .geemap-colab {\n",
       "                    background-color: var(--colab-primary-surface-color, white);\n",
       "                }\n",
       "\n",
       "                .geemap-colab .jupyter-button {\n",
       "                    --jp-layout-color3: var(--colab-primary-surface-color, white);\n",
       "                }\n",
       "            </style>\n",
       "            "
      ],
      "text/plain": [
       "<IPython.core.display.HTML object>"
      ]
     },
     "metadata": {},
     "output_type": "display_data"
    }
   ],
   "source": [
    "from tensorflow.keras.applications import ResNet152V2 as resnet\n",
    "from tensorflow.keras.applications.resnet_v2 import preprocess_input as resnet_p"
   ]
  },
  {
   "cell_type": "code",
   "execution_count": 34,
   "metadata": {},
   "outputs": [
    {
     "data": {
      "text/html": [
       "\n",
       "            <style>\n",
       "                .geemap-dark {\n",
       "                    --jp-widgets-color: white;\n",
       "                    --jp-widgets-label-color: white;\n",
       "                    --jp-ui-font-color1: white;\n",
       "                    --jp-layout-color2: #454545;\n",
       "                    background-color: #383838;\n",
       "                }\n",
       "\n",
       "                .geemap-dark .jupyter-button {\n",
       "                    --jp-layout-color3: #383838;\n",
       "                }\n",
       "\n",
       "                .geemap-colab {\n",
       "                    background-color: var(--colab-primary-surface-color, white);\n",
       "                }\n",
       "\n",
       "                .geemap-colab .jupyter-button {\n",
       "                    --jp-layout-color3: var(--colab-primary-surface-color, white);\n",
       "                }\n",
       "            </style>\n",
       "            "
      ],
      "text/plain": [
       "<IPython.core.display.HTML object>"
      ]
     },
     "metadata": {},
     "output_type": "display_data"
    }
   ],
   "source": [
    "cluster_sequence = tegu_200_eloisa.get_cluster_sequences(years=years, model=resnet)"
   ]
  },
  {
   "cell_type": "code",
   "execution_count": 119,
   "metadata": {},
   "outputs": [
    {
     "data": {
      "text/html": [
       "\n",
       "            <style>\n",
       "                .geemap-dark {\n",
       "                    --jp-widgets-color: white;\n",
       "                    --jp-widgets-label-color: white;\n",
       "                    --jp-ui-font-color1: white;\n",
       "                    --jp-layout-color2: #454545;\n",
       "                    background-color: #383838;\n",
       "                }\n",
       "\n",
       "                .geemap-dark .jupyter-button {\n",
       "                    --jp-layout-color3: #383838;\n",
       "                }\n",
       "\n",
       "                .geemap-colab {\n",
       "                    background-color: var(--colab-primary-surface-color, white);\n",
       "                }\n",
       "\n",
       "                .geemap-colab .jupyter-button {\n",
       "                    --jp-layout-color3: var(--colab-primary-surface-color, white);\n",
       "                }\n",
       "            </style>\n",
       "            "
      ],
      "text/plain": [
       "<IPython.core.display.HTML object>"
      ]
     },
     "metadata": {},
     "output_type": "display_data"
    }
   ],
   "source": [
    "import pysan.multi\n",
    "reload(pysan.multi)\n",
    "from pysan.multi import plot_sequences"
   ]
  },
  {
   "cell_type": "code",
   "execution_count": 38,
   "metadata": {},
   "outputs": [
    {
     "data": {
      "text/html": [
       "\n",
       "            <style>\n",
       "                .geemap-dark {\n",
       "                    --jp-widgets-color: white;\n",
       "                    --jp-widgets-label-color: white;\n",
       "                    --jp-ui-font-color1: white;\n",
       "                    --jp-layout-color2: #454545;\n",
       "                    background-color: #383838;\n",
       "                }\n",
       "\n",
       "                .geemap-dark .jupyter-button {\n",
       "                    --jp-layout-color3: #383838;\n",
       "                }\n",
       "\n",
       "                .geemap-colab {\n",
       "                    background-color: var(--colab-primary-surface-color, white);\n",
       "                }\n",
       "\n",
       "                .geemap-colab .jupyter-button {\n",
       "                    --jp-layout-color3: var(--colab-primary-surface-color, white);\n",
       "                }\n",
       "            </style>\n",
       "            "
      ],
      "text/plain": [
       "<IPython.core.display.HTML object>"
      ]
     },
     "metadata": {},
     "output_type": "display_data"
    },
    {
     "data": {
      "text/plain": [
       "[[6, 15, 15, 15, 15, 15],\n",
       " [15, 15, 15, 13, 13, 15],\n",
       " [36, 15, 15, 36, 15, 15],\n",
       " [15, 15, 15, 15, 15, 15],\n",
       " [48, 48, 48, 48, 48, 48],\n",
       " [39, 39, 14, 14, 14, 14],\n",
       " [39, 39, 39, 39, 39, 39],\n",
       " [39, 14, 14, 14, 39, 14],\n",
       " [14, 14, 14, 14, 14, 14],\n",
       " [14, 14, 14, 14, 14, 14]]"
      ]
     },
     "execution_count": 38,
     "metadata": {},
     "output_type": "execute_result"
    }
   ],
   "source": [
    "cluster_sequence[:10]"
   ]
  },
  {
   "cell_type": "code",
   "execution_count": 129,
   "metadata": {},
   "outputs": [
    {
     "data": {
      "text/html": [
       "\n",
       "            <style>\n",
       "                .geemap-dark {\n",
       "                    --jp-widgets-color: white;\n",
       "                    --jp-widgets-label-color: white;\n",
       "                    --jp-ui-font-color1: white;\n",
       "                    --jp-layout-color2: #454545;\n",
       "                    background-color: #383838;\n",
       "                }\n",
       "\n",
       "                .geemap-dark .jupyter-button {\n",
       "                    --jp-layout-color3: #383838;\n",
       "                }\n",
       "\n",
       "                .geemap-colab {\n",
       "                    background-color: var(--colab-primary-surface-color, white);\n",
       "                }\n",
       "\n",
       "                .geemap-colab .jupyter-button {\n",
       "                    --jp-layout-color3: var(--colab-primary-surface-color, white);\n",
       "                }\n",
       "            </style>\n",
       "            "
      ],
      "text/plain": [
       "<IPython.core.display.HTML object>"
      ]
     },
     "metadata": {},
     "output_type": "display_data"
    },
    {
     "data": {
      "image/png": "[encoded data removed]",
      "text/plain": [
       "<Figure size 180x300 with 1 Axes>"
      ]
     },
     "metadata": {},
     "output_type": "display_data"
    }
   ],
   "source": [
    "plt = plot_sequences(cluster_sequence[100:110], colors='Paired_r', x_labels=years)\n",
    "plt.show()"
   ]
  },
  {
   "cell_type": "code",
   "execution_count": 155,
   "metadata": {},
   "outputs": [
    {
     "data": {
      "text/html": [
       "\n",
       "            <style>\n",
       "                .geemap-dark {\n",
       "                    --jp-widgets-color: white;\n",
       "                    --jp-widgets-label-color: white;\n",
       "                    --jp-ui-font-color1: white;\n",
       "                    --jp-layout-color2: #454545;\n",
       "                    background-color: #383838;\n",
       "                }\n",
       "\n",
       "                .geemap-dark .jupyter-button {\n",
       "                    --jp-layout-color3: #383838;\n",
       "                }\n",
       "\n",
       "                .geemap-colab {\n",
       "                    background-color: var(--colab-primary-surface-color, white);\n",
       "                }\n",
       "\n",
       "                .geemap-colab .jupyter-button {\n",
       "                    --jp-layout-color3: var(--colab-primary-surface-color, white);\n",
       "                }\n",
       "            </style>\n",
       "            "
      ],
      "text/plain": [
       "<IPython.core.display.HTML object>"
      ]
     },
     "metadata": {},
     "output_type": "display_data"
    }
   ],
   "source": [
    "possible_observations = [str(i) for i in range(0, 50)]\n",
    "possible_states = ['0', '1', '2']\n",
    "sequences = [[str(i) for i in seq] for seq in cluster_sequence]"
   ]
  },
  {
   "cell_type": "code",
   "execution_count": 141,
   "metadata": {},
   "outputs": [
    {
     "data": {
      "text/html": [
       "\n",
       "            <style>\n",
       "                .geemap-dark {\n",
       "                    --jp-widgets-color: white;\n",
       "                    --jp-widgets-label-color: white;\n",
       "                    --jp-ui-font-color1: white;\n",
       "                    --jp-layout-color2: #454545;\n",
       "                    background-color: #383838;\n",
       "                }\n",
       "\n",
       "                .geemap-dark .jupyter-button {\n",
       "                    --jp-layout-color3: #383838;\n",
       "                }\n",
       "\n",
       "                .geemap-colab {\n",
       "                    background-color: var(--colab-primary-surface-color, white);\n",
       "                }\n",
       "\n",
       "                .geemap-colab .jupyter-button {\n",
       "                    --jp-layout-color3: var(--colab-primary-surface-color, white);\n",
       "                }\n",
       "            </style>\n",
       "            "
      ],
      "text/plain": [
       "<IPython.core.display.HTML object>"
      ]
     },
     "metadata": {},
     "output_type": "display_data"
    }
   ],
   "source": [
    "from SimpleHOHMM import HiddenMarkovModelBuilder as Builder"
   ]
  },
  {
   "cell_type": "code",
   "execution_count": 156,
   "metadata": {},
   "outputs": [
    {
     "data": {
      "text/html": [
       "\n",
       "            <style>\n",
       "                .geemap-dark {\n",
       "                    --jp-widgets-color: white;\n",
       "                    --jp-widgets-label-color: white;\n",
       "                    --jp-ui-font-color1: white;\n",
       "                    --jp-layout-color2: #454545;\n",
       "                    background-color: #383838;\n",
       "                }\n",
       "\n",
       "                .geemap-dark .jupyter-button {\n",
       "                    --jp-layout-color3: #383838;\n",
       "                }\n",
       "\n",
       "                .geemap-colab {\n",
       "                    background-color: var(--colab-primary-surface-color, white);\n",
       "                }\n",
       "\n",
       "                .geemap-colab .jupyter-button {\n",
       "                    --jp-layout-color3: var(--colab-primary-surface-color, white);\n",
       "                }\n",
       "            </style>\n",
       "            "
      ],
      "text/plain": [
       "<IPython.core.display.HTML object>"
      ]
     },
     "metadata": {},
     "output_type": "display_data"
    }
   ],
   "source": [
    "builder = Builder()\n",
    "hmm = builder.build_unsupervised(\n",
    "    single_states=possible_states,\n",
    "    all_obs=possible_observations,\n",
    "    distribution='random',\n",
    "    highest_order=3\n",
    ")"
   ]
  },
  {
   "cell_type": "code",
   "execution_count": 157,
   "metadata": {},
   "outputs": [
    {
     "data": {
      "text/html": [
       "\n",
       "            <style>\n",
       "                .geemap-dark {\n",
       "                    --jp-widgets-color: white;\n",
       "                    --jp-widgets-label-color: white;\n",
       "                    --jp-ui-font-color1: white;\n",
       "                    --jp-layout-color2: #454545;\n",
       "                    background-color: #383838;\n",
       "                }\n",
       "\n",
       "                .geemap-dark .jupyter-button {\n",
       "                    --jp-layout-color3: #383838;\n",
       "                }\n",
       "\n",
       "                .geemap-colab {\n",
       "                    background-color: var(--colab-primary-surface-color, white);\n",
       "                }\n",
       "\n",
       "                .geemap-colab .jupyter-button {\n",
       "                    --jp-layout-color3: var(--colab-primary-surface-color, white);\n",
       "                }\n",
       "            </style>\n",
       "            "
      ],
      "text/plain": [
       "<IPython.core.display.HTML object>"
      ]
     },
     "metadata": {},
     "output_type": "display_data"
    },
    {
     "name": "stdout",
     "output_type": "stream",
     "text": [
      "Starting probabilities (pi):\n",
      "{'0': 0.39584250820912253, '2': 0.20451458841388298, '1': 0.39964290337699443}\n",
      "{'0-0': 0.1882899290068273, '0-2': 0.060567341234905515, '0-1': 0.1704039149064021, '2-0': 0.10398176093151436, '2-2': 0.03370734546881159, '2-1': 0.1658018124719141, '1-0': 0.15591503911079832, '1-2': 0.10869474473593066, '1-1': 0.012638112132895982}\n",
      "{'0-0-0': 0.029517270527860847, '0-0-2': 0.06160776185719798, '0-0-1': 0.04768184855963987, '0-2-0': 0.040549365677953544, '0-2-2': 0.019097522014313202, '0-2-1': 0.016425586143375994, '0-1-0': 0.04591646651550558, '0-1-2': 0.02900746294614823, '0-1-1': 0.06355873640960759, '2-0-0': 0.023638241854233303, '2-0-2': 0.05548011051241861, '2-0-1': 0.05294733043110554, '2-2-0': 0.030132517952017275, '2-2-2': 0.037815729122188335, '2-2-1': 0.07270215808087485, '2-1-0': 0.015034751121332039, '2-1-2': 0.07047491040393179, '2-1-1': 0.0007005826330605695, '1-0-0': 0.04864320891460746, '1-0-2': 0.009977939103353532, '1-0-1': 0.0011995074677413407, '1-2-0': 0.005133682127405434, '1-2-2': 0.07243502860946803, '1-2-1': 0.03593619821992572, '1-1-0': 0.01673738316029625, '1-1-2': 0.025348848401863265, '1-1-1': 0.07229985123257376}\n",
      "Transition probabilities (A):\n",
      "[0.0558573453519354, 0.037786772545967434, 0.058454517231903626, 0.018162022760943357, 0.06723672814382553, 0.057197217222524493, 0.008272270379014129, 0.06234386424453436, 0.00967297155458241, 0.03846205900927024, 0.05049210254879417, 0.05835818287557158, 0.022232585023045322, 0.0442848697564932, 0.035767835866893034, 0.020979842289268514, 0.06896216637230917, 0.06390469223793885, 0.016574218412488306, 0.02101465601952552, 0.03256177134319047, 0.06535305635679217, 0.009939033540607394, 0.007280543371353245, 0.0494049310041649, 0.016404838421067512, 0.0030389061159956407]\n",
      "[0.05825570535863305, 0.08705839458921565, 0.02135458023070342, 0.011408358859832898, 0.0824917330199445, 0.08106972264390257, 0.020413663345645396, 0.02690722184775567, 0.004414593511400755, 0.05308948195386984, 0.07490227099872356, 0.04441694765091942, 0.028144903837191954, 0.011866072025627904, 0.03313414117905161, 0.03238547956960118, 0.035154530190471434, 0.016173233860253898, 0.019814161085116994, 0.004939237236534013, 0.07030588463371815, 0.007406118690910772, 0.049074645326974316, 0.05567427573291122, 0.01916242163223022, 0.0036306685550180806, 0.047351552433841454]\n",
      "[0.023100745023502324, 0.06167824580528219, 0.006746762850640352, 0.055511310811855535, 0.024910709606020657, 0.05094828397730228, 0.009909490200739808, 0.03731721747267954, 0.07665469879706756, 0.0497804231698109, 0.0035796208165889873, 0.04337589439441932, 0.045757855109422846, 0.020075070890476852, 0.02398594343586636, 0.06457708500548466, 0.06584748886393965, 0.023628547877270634, 0.06389879829100975, 0.015277615344471744, 0.035585285286586096, 0.002290007008796476, 0.011710947247355991, 0.026319967749492326, 0.07274313278312644, 0.018522163931594855, 0.06626668824919586]\n",
      "[0.01363840211669771, 0.032296047355576195, 0.03535916476151386, 0.0551468803349257, 0.004563181404366278, 0.0055063940929274855, 0.052206905035105146, 0.059452073888442605, 0.04180607947661948, 0.01978518263335702, 0.06693457624649748, 0.010178215958893086, 0.019759936352751035, 0.0509633721113291, 0.07760773335511076, 0.016907196528759588, 0.06753469368749943, 0.04364239221394795, 0.011742755478506154, 0.027266890717063407, 0.0743387002446401, 0.005955495720135599, 0.07653784495676076, 0.017703904161360022, 0.008006817692087012, 0.027873933849384212, 0.0772852296257428]\n",
      "[0.022972841602282693, 0.036338656863507846, 0.05706106398484623, 0.06028085190607417, 0.06301033611243112, 0.054505287260973555, 0.04245580986136276, 0.0569003629898214, 0.007854585218949134, 0.0507299084284877, 0.06663156925052348, 0.018759726538422887, 0.019105829363695027, 0.039985325191084546, 0.046905940301389955, 0.008231544180092771, 0.03542662713181848, 0.045090863163729226, 0.0067184017959136975, 0.0012501280648810414, 0.036989445132374524, 0.03297563623987017, 0.06249418554194096, 0.03836862043525965, 0.03711267066069694, 0.003946277420567345, 0.04789750535900273]\n",
      "[0.04121083342065296, 0.06859716810999228, 0.022198881857129493, 0.021102480245088, 0.06793576144493679, 0.045575484680819484, 0.042534715152121774, 0.03255348713872401, 0.0664715211055162, 0.052741335251285965, 0.04263496625300342, 0.0019769216036567986, 0.009986698376129454, 0.028675163607940955, 0.024657547442060945, 0.05613765387793976, 0.06161638941356227, 0.028885519934392714, 0.032287515923544154, 0.05126170536951357, 0.05522129177666477, 0.004803851334569967, 0.006398070308373163, 0.06649548399570313, 0.027861941076334846, 0.018307488754966798, 0.02187012254537633]\n",
      "[0.029862915333709283, 0.028322203365208343, 0.06867495898200061, 0.02008199368913727, 0.028281141976542752, 0.06907869172236573, 0.01074285649920493, 0.021980032491352226, 0.018992366560402995, 0.0791940329972558, 0.06857806344414548, 0.019415950083168317, 0.04232693964228496, 0.08069059769767371, 0.001464389837479215, 0.045281300943696964, 0.03908977944779623, 0.013346263791513959, 0.01052768616417995, 0.024137743374559782, 0.016722989621445833, 0.053362245715742704, 0.025811789535908822, 0.07937330095505568, 0.0031235066280139116, 0.024810853564379363, 0.07672540593577508]\n",
      "[0.04111171895210909, 0.00849465878403067, 0.03575397479652369, 0.00011266467602516607, 0.05362414236029634, 0.039215551705588596, 0.011698094654296812, 0.03735235708561709, 0.07200334063659433, 0.006020211010516444, 0.03710722523488867, 0.0499482624393586, 0.0039954845266130315, 0.01908059119118076, 0.06505734026614562, 0.009882215157224143, 0.00946860643465731, 0.024021464656475228, 0.07413475071944817, 0.07233686953631398, 0.051665613802996085, 0.03153820370777174, 0.07308609619863785, 0.02590214286061479, 0.07558177717076753, 0.023777137489616566, 0.04802950394569168]\n",
      "[0.07393020643861091, 0.012372290423560637, 0.04612848515213755, 0.012741447899624994, 0.01677367827970302, 0.0379436848007912, 0.0726839345169234, 0.015170840232162641, 0.05817923942912821, 0.06119693187671735, 0.05851457319103907, 0.055511901383844535, 0.06375727942550966, 0.06636547957346077, 0.025957672501989007, 0.006349355734994906, 0.02993761023344678, 0.01960461647980218, 0.01168390527707864, 0.05525578478011157, 0.02157866965150456, 0.05986992964074817, 0.0018103140842915873, 0.012666714865718917, 0.033568257309482326, 0.06809387781166354, 0.0023533190059539383]\n",
      "[0.053972121768786, 0.0008579779282931685, 0.035534153703475894, 0.017532218142401926, 0.06096245451672731, 0.03496750122671095, 0.052433508972544, 0.02489581813994704, 0.03856061842247435, 0.04198553083568688, 0.0062517818431173005, 0.0430164782811412, 0.052370061697913695, 0.028560159444659936, 0.04004027960017329, 0.02251387858408428, 0.046522041395295595, 0.017663759599989833, 0.058669510853469456, 0.03129722941313767, 0.03737604259995028, 0.029434443595264467, 0.0536565375134106, 0.037435576349849155, 0.05059965179479491, 0.017015719827896437, 0.06587494394880435]\n",
      "[0.04078841983361326, 0.041621024869206776, 0.009963097937917527, 0.05881435142147088, 0.04980267815928753, 0.023077915556783957, 0.04350043856862334, 0.03816088605177502, 0.05271263054214456, 0.01896123028893597, 0.04300235929942885, 0.05107839500557761, 0.013529518495117613, 0.057212744343605154, 0.03403696383093688, 0.041809525782283405, 0.033555574446754693, 0.011825120326973585, 0.010704698376665916, 0.043153820733145394, 0.04979091561631435, 0.02246590741899104, 0.013159837583920479, 0.044879747002567014, 0.054260192681704976, 0.05563323016886442, 0.04249877565738975]\n",
      "[0.04680181779441157, 0.0020099131750071744, 0.02818105960365513, 0.007321229406429854, 0.054599069022673696, 0.0374202087124115, 0.029387939140467768, 0.02171567423070114, 0.010765538839382213, 0.0634128083529837, 0.0301278411440091, 0.06525843241778442, 0.0303115269809106, 0.04316875441622043, 0.048708112569491126, 0.06070141130123565, 0.059660807864463455, 0.03517574516229495, 0.0578958380472466, 0.06771633825225001, 0.019669645432886025, 0.016833221816652276, 0.019532464629913565, 0.028507216604822683, 0.01987638009655082, 0.023455386017010967, 0.07178561896813355]\n",
      "[0.036692802650173446, 0.0622071248770961, 0.009614885654998682, 0.0689609714149745, 0.0373975896822186, 0.02166353033252572, 0.05097311349690806, 0.03499298813705654, 0.022110145771882094, 0.002790620776012272, 0.04237914556708307, 0.043127638782931514, 0.006092821878137034, 0.06743245011314072, 0.03755596220912927, 0.017357272724673547, 0.04302326136105674, 0.023368929137785214, 0.05133124880713446, 0.06566492051421496, 0.03357040086158788, 0.04511054848538301, 0.029881375384113153, 0.003753007513308022, 0.02727410965454764, 0.07615438341366843, 0.03951875079825939]\n",
      "[0.05261337506582169, 0.031167587979216115, 0.049879975489586066, 0.053196094780676675, 0.04513343881757384, 0.024693644743772558, 0.030234730610716666, 0.03456848511164268, 0.026920127861674355, 0.03174042031503888, 0.025056780917797564, 0.038164363833987955, 0.05258134109726344, 0.0392820562681787, 0.006907630971539917, 0.04308607097023378, 0.03314860148334613, 0.04473842660403496, 0.028462762358420483, 0.043245201693390495, 0.02987763372240744, 0.055069286346381974, 0.011006287503992105, 0.055181504684995254, 0.025505572356813305, 0.043121985396560994, 0.04541661301493605]\n",
      "[0.04793620909589438, 0.05915392585482906, 0.06550122495755915, 0.013742766563521464, 0.04577753928073289, 0.053110153924838026, 0.05704773038360686, 0.057194768036757576, 0.017735774130691127, 0.02675635771700422, 0.0188031799262988, 0.022606659374490818, 0.05980251513145682, 0.0020431103698929577, 0.010371069322201804, 0.04570404815009469, 0.03483708972835622, 0.06474910906808248, 0.013318707791647014, 0.06383441081286273, 0.025935512968624064, 0.06284375077457797, 0.0009438058302986885, 0.021298601142079054, 0.045650281595703765, 0.013603785297404218, 0.04969791277049321]\n",
      "[0.03525629141711178, 0.04990451478842508, 0.0020689535925162697, 0.017454083935998736, 0.018314195259851566, 0.05085596353381299, 0.05048971580979367, 0.042135597559467636, 0.01256017092027291, 0.06042794946137004, 0.016382953830432565, 0.06380158390840479, 0.0013949443261850587, 0.01593443949936653, 0.05959803214174677, 0.0532985009173309, 0.0570098062912842, 0.030127677309563634, 0.0671213919969832, 0.03523684851843846, 0.06918950670053688, 0.018952552733816498, 0.008374377356793633, 0.045257697774280056, 0.03534582497990576, 0.04185881836158161, 0.04164760707472878]\n",
      "[0.0227895527486084, 0.08904980157685967, 0.010968294720217086, 0.003595658889460563, 0.06465884001671265, 0.009872683868987596, 0.01390167888636021, 0.06799119553095248, 0.01240191600796723, 0.09280318615219697, 0.00723422078400637, 0.04736317187887148, 0.05960303530269676, 0.003247312661166674, 0.009221541146374976, 0.09142761825004533, 0.023800811934157645, 0.04395544510702417, 0.08737267657476011, 0.010718483771210676, 0.04279120561998872, 0.005846709010640608, 0.04576825052479282, 0.015574696633934893, 0.08451298861001344, 0.006842645713251186, 0.026686378078741226]\n",
      "[0.04799150884511965, 0.07468124561362774, 0.026806974830938853, 0.06978521761416533, 0.04206195503211447, 0.06001817823155004, 0.043151042844802874, 0.021487607102177866, 0.07463686590780064, 0.02630164474294969, 0.025666716466234314, 0.016988895088959493, 0.023461416009331194, 0.05181919695022704, 0.04452422554246693, 0.017283316129400438, 0.04374489183570372, 0.025270583541428516, 0.003572359036504966, 0.06039096245605756, 0.07028495772517443, 0.02277592258438552, 0.0013758947657500544, 0.013249792061039291, 0.0015837486364044975, 0.017126274397949517, 0.07395860600773531]\n",
      "[0.07822874558824944, 0.011115716638013487, 0.019811693574865504, 0.030798885665195317, 0.006334329901646888, 0.07107977829081114, 0.07606221315019558, 0.03333218698700347, 0.020251807974870497, 0.020247019664278994, 0.03604966195474459, 0.0479907781862985, 0.05993683183085055, 0.04528382411447352, 0.07214580732930274, 0.00474689019844817, 0.03948835203251988, 0.0640139705484101, 0.004594979797874757, 0.03573989299818711, 0.002849472532648122, 0.030363785355055843, 0.028126654402627987, 0.05085658437995695, 0.014408843065391431, 0.06539306438721051, 0.030748229450868907]\n",
      "[0.04828381304486778, 0.056218421879137406, 0.010414084330667053, 0.06164640878539544, 0.015671292019891415, 0.04875299780862596, 0.025756346811225826, 0.06859663430770338, 0.009820179226055202, 0.03654379651287743, 0.07093359021557026, 0.03353853321831201, 0.03370662853735848, 0.02002352878589232, 0.026520394490861687, 0.04055593743247318, 0.05468586532784507, 0.018608795027620233, 0.06923213775548771, 0.0642031505399781, 0.012273129938407588, 0.03229504416063383, 0.04231790430982395, 0.041479216504978204, 0.023748769902296483, 0.006803529975805221, 0.027369869150208715]\n",
      "[0.03758259334362032, 0.065525684280977, 0.03539754803403964, 0.0016205309919955285, 0.04588019566998397, 0.05115569512743327, 0.018492474664067653, 0.05831447651235316, 0.004876626141174776, 0.059645302208407615, 0.01862650687400401, 0.05712858466896415, 0.051892204695753584, 0.05823809641796861, 0.014426266895440144, 0.046334942114444756, 0.007904913943545217, 0.03176949201067517, 0.05652318360725984, 0.024401409054519298, 0.012306072099431237, 0.018710355564564716, 0.06214684993356243, 0.00028368859216758394, 0.046387648369116394, 0.06085726200908247, 0.053571396175447476]\n",
      "[0.06469180326045491, 0.0167813695557614, 0.04793879121282437, 0.04428554872896431, 0.05524530202882594, 0.011301542708178057, 0.0008620769859640062, 0.04017171751202692, 0.02489927851011117, 0.06686565028860873, 0.06196422658628635, 0.06746784805197319, 0.0028013955769466514, 0.0028452612387886785, 0.012205149273575168, 0.06776064667570048, 0.058929558407056014, 0.04815138569726632, 0.03298995152004469, 0.053685125308620574, 0.009607517575253233, 0.04978759394085396, 0.048106253234126525, 0.0018826170711025954, 0.02955697876636045, 0.04248825300007686, 0.0367271572842485]\n",
      "[0.04067004977783031, 0.012390347977740312, 0.029825150969244592, 0.012942022479390082, 0.04749036911864733, 0.04449304406988947, 0.01887763730746833, 0.07021173106739867, 0.05324399015109286, 0.06545169095589211, 0.02257279965929212, 0.020304695771003946, 0.014308464634381133, 0.024928510175291588, 0.04757429973708569, 0.03437437179857431, 0.05123171942560279, 0.021828022897905194, 0.05122208073954387, 0.057977647113023445, 0.03629095041341196, 0.054146847460722104, 0.01040714819662321, 0.02098444249779916, 0.02264203023400525, 0.040327363207560564, 0.07328257216357963]\n",
      "[0.01129308888626441, 0.05567123280413371, 0.01605940686758657, 0.05287746313035388, 0.0597461741700748, 0.038395140663159556, 0.008333982256256088, 0.04949542392009507, 0.045208626291226614, 0.01951675517823888, 0.06129208966747558, 0.026488215742697475, 0.059916560586968606, 0.050764486470345364, 0.04611778198831369, 0.01962133350330831, 0.044704086571457524, 0.04932040017255156, 0.007551825492683359, 0.04287960028650301, 0.025867844051938108, 0.03772163873309546, 0.00826880846089472, 0.06054155479310789, 0.06492172524817992, 0.03314657608040007, 0.004278177982689754]\n",
      "[0.05043805918672637, 0.012603151324806683, 0.046448994814549005, 0.03769196227809126, 0.01234479219691295, 0.03516470425955448, 0.004552678869489629, 0.002239577783173754, 0.04455456614953974, 0.05238509095368971, 0.06469926684518507, 0.004467643309197867, 0.014233595050791931, 0.018222966060372513, 0.04927657641878406, 0.022375002115062555, 0.06234479033488459, 0.04814077011409581, 0.032203920197889306, 0.015729514188070864, 0.07019743906282211, 0.028792515504944164, 0.07267025743478872, 0.05772829764034083, 0.03064426429801895, 0.04940221309730229, 0.06044739051091476]\n",
      "[0.04179376998766663, 0.032119241088928246, 0.015259991692540428, 0.07461127524617317, 0.024938230066966674, 0.021377010548101105, 0.026001630175554565, 0.07118657751207856, 0.07709427662068875, 0.065569944940635, 0.010256210951122455, 0.01177824851597842, 0.03469243814087793, 0.010081944509261923, 0.021490317526659745, 0.05152384482413283, 0.034683983174252496, 0.07488939012178078, 0.038323594438680365, 0.03105352388393191, 0.037877410160103576, 0.021476300495061672, 0.055644126611986665, 0.05469124016663507, 0.046173576804322464, 0.01186832911357092, 0.0035435726823076835]\n",
      "[0.051564347263872816, 0.0008012208216077357, 0.03693578780990565, 0.02577056720601443, 0.050923900747446765, 0.043417600529273494, 0.019864521167141463, 0.03831546953807486, 0.014942032898169122, 0.02041522353409318, 0.0689586473878402, 0.04756126297918294, 0.0007927796441692919, 0.06704232026400976, 0.00814358406183068, 0.00044292439992902753, 0.029889718586000074, 0.060007696482320745, 0.049554065941023566, 0.05921480854478022, 0.053766411644147576, 0.012422306284612772, 0.05165368249902824, 0.07221413271110964, 0.03307464473363082, 0.07552681047838479, 0.006783531842400123]\n",
      "Emission probabilities (B):\n",
      "[0.029299853850045084, 0.004534791173019147, 0.03955493947261994, 0.02618802621239388, 0.032110381193287296, 0.009535695415271842, 0.025741537532149604, 0.023240774464787426, 0.004805866273829261, 0.005533913538534151, 0.028411853942228206, 0.038147680873181204, 0.0198372392213801, 0.03697954243215632, 0.01575847100014524, 0.003331935437851797, 0.024269240775354445, 0.0412668131673146, 0.006805076484041785, 0.01848988455136109, 0.02286680551322841, 0.030548002804359202, 0.011478662244564676, 0.013501254903832248, 0.01990230105524676, 0.0026991471287454807, 0.03793363125676288, 0.028454476890225334, 0.0026296323884222933, 0.00640357206938439, 0.0287524466915328, 0.005052642408129255, 0.005513016757741337, 0.009605502094703214, 0.017025346097697854, 0.038941360195168834, 0.014579052588539733, 0.01087277187853467, 0.0008230282560789906, 0.00046462387792365494, 0.03200459562084182, 0.009364883879524303, 0.03121546025679169, 0.027621109447410558, 0.024581527443873367, 0.03333390315662818, 0.036484521515246685, 0.03119911419616779, 0.03199010329294578, 0.0003139870787953592]\n",
      "[0.022844066275335074, 0.045387544944419864, 0.02329278516823824, 0.028233325757256837, 0.016325325804231558, 0.030469171324776948, 0.011406372674222662, 0.0067164348390309795, 0.03751007342944175, 0.0007757740819934633, 0.024931788591047315, 0.01971623054511262, 0.009835298434501491, 0.006488155912872991, 0.0006706291323683045, 0.03624864308062669, 0.012623822787444216, 0.02993869081683532, 0.011613844734907465, 0.04081459483256455, 0.0027100506788729065, 0.02036087979740184, 0.008790668845086055, 0.018336081245233192, 0.010730793565805257, 0.03457192944965158, 0.026487894638609864, 0.02545037292653946, 0.02898005994207, 0.013806918991318109, 0.005269829804980925, 0.007451432843331725, 0.006624693927213084, 0.024911185009066444, 0.02018446282744645, 0.03150485211716749, 0.0016221128535986267, 0.034633589437230675, 0.019740477269881405, 0.022721603430925014, 0.02618019606207342, 0.012529155215061935, 0.0381056632631587, 0.013971166286510904, 0.021031831096093415, 0.0008338088665884442, 0.016612106300121155, 0.0451013774564821, 0.025550430221287324, 0.019351802463964205]\n",
      "[0.026379933657561253, 0.025093744867146016, 0.00822754857117686, 0.009449202237912388, 0.044843647335498865, 0.005266987215398133, 0.02869467793554258, 0.026640967261513354, 0.014885238434371053, 0.011957069565929226, 0.023755302323334844, 0.0028360761993983376, 0.03326653874283304, 0.011530023186800855, 0.011802864666460957, 0.01477359987935359, 0.02330608997940014, 0.004709723410267386, 0.011212817409039936, 0.007941481878396751, 0.04653663314780554, 0.025120018091745404, 0.02368681669766746, 0.040427345632258416, 0.005940918919226329, 0.02332871924391186, 0.02289709337254639, 0.023718594940087864, 0.02437098986519575, 0.01162820932547994, 0.009126021236245854, 0.002062028604193116, 0.04620836419743588, 0.019795410543527264, 0.006642143289037333, 0.009911929830208414, 0.045521016710058676, 0.010855132432533788, 0.0207781956911253, 0.018280610360841096, 0.011437051495817781, 0.019985102110354893, 0.04003376501534349, 0.024762797773551667, 0.04126806032710251, 0.007223219258980523, 0.021825599013062313, 0.003584512050822843, 0.009610692843313524, 0.03685947322318329]\n",
      "[0.013008620574829913, 0.020977036601920754, 0.03577809406754786, 0.006083624689469119, 0.04003495342855592, 0.0177213223031194, 0.032810267940759155, 0.03737515750529006, 0.008801256462398656, 0.014604745679669974, 0.00032929708247922445, 0.008812360169951136, 0.004309340185446877, 0.04417534003069575, 0.04043234205338116, 0.0008796518131912477, 0.04322268179912803, 0.031342673694137436, 0.002133271588625369, 0.030363896407819963, 0.022395455391994157, 0.023367636861198235, 0.01819775035627902, 0.03252272073184629, 0.02430653910491148, 0.03291583800673635, 0.008655950508512325, 0.00810510939798447, 0.02588161524222236, 0.000999280622330445, 0.01358225353832454, 0.017697363700223498, 0.015120812407801344, 0.040565434570456395, 0.02544915052850944, 0.009863186985288647, 0.027509423344439895, 0.03232910323909918, 0.007547158758751663, 0.026840573643920687, 0.0137330973554208, 0.013589245911467561, 0.028062239404371504, 0.007861935561675677, 0.0018797361719593152, 0.009343006867073357, 0.029053209224886908, 0.010767534148092067, 0.008954892719514157, 0.029706811616291292]\n",
      "[0.018231576907304856, 0.004108016811932444, 0.009730440485446417, 0.002911979150571366, 0.005294935890981849, 0.004912197830165558, 0.035005571322293275, 0.03687042546911468, 0.032884421769758886, 0.03301503774061389, 0.03807346965954647, 0.011874927661120194, 0.013904049894447173, 0.007558289843939763, 0.029612204043637697, 0.030124868864169835, 0.037200111563835174, 0.012485416180432626, 0.03069377509244291, 0.0012625228141179298, 0.023206483780120028, 0.010288225816337959, 0.014575990974524016, 0.0026405243201948233, 0.018522873111459125, 0.03831873126740897, 0.023925521093109997, 0.024091740807887785, 0.03462919978406435, 0.014899811613703384, 0.03165937240265373, 0.0064142961619927785, 0.026946351249501746, 0.03771207956873311, 0.030963619484702092, 0.014049459536842146, 0.014857643839011041, 0.000928447376184082, 0.03834386962882596, 0.009662742035482317, 0.02865248581435839, 0.032119460411465, 0.005772847996428442, 0.015823170243883456, 0.004445213004993958, 0.014823071858765994, 0.027191351832211077, 0.03808329779606488, 0.012000222427717719, 0.008697655765498594]\n",
      "[0.014176100179036156, 0.005376359488423265, 0.042251195853874046, 0.03576528224440549, 0.007345949202012338, 0.01008491737724859, 0.03922083739874247, 0.02675790736551018, 0.029196654217999413, 0.004569348744158115, 0.027995406616740177, 0.008911898850249613, 0.0392519255836613, 0.017355053938912072, 0.02332906087826004, 0.0068455589217826, 0.003022125260403936, 0.030500396991226312, 0.0041429408091964446, 0.005593705389869606, 0.02087448740020713, 0.030538693586568792, 0.019790868423478707, 0.003526165286599843, 0.02583290492930558, 0.012938308524704132, 0.017510279647540202, 0.02140040556481715, 0.012013586065313924, 0.011885557561597765, 0.023613234485816367, 0.0011164735991704986, 0.023370358146402363, 0.014619563403704813, 0.038702423931382825, 0.03875165916077576, 0.026300360502962004, 0.025585709862991395, 0.040108558330593035, 0.031234097784398077, 7.013556816481286e-05, 0.015368723286960316, 0.0050530414687425095, 0.003609315736277598, 0.033212268433122284, 0.014483902182874476, 0.0027040262510384847, 0.03314849932901637, 0.029454156531640737, 0.04148960970211988]\n",
      "[0.020931726705736994, 0.007863787507569709, 0.024240085048136992, 0.0364298337686554, 0.017814694820194495, 0.031975450679434664, 0.0018282841391351094, 0.013236778958721962, 0.039038595567151474, 0.0029819343324273607, 0.0242882727934378, 0.035943844748302624, 0.01323785543527229, 0.027691402165487, 0.03952404297811915, 0.00018765065707453888, 0.005089458836167915, 0.008124980097705646, 0.03273935051496939, 0.04167084266253221, 0.006328967706561451, 0.034846641219069635, 0.021445789072828125, 0.008825998392929989, 0.030660425568668874, 0.022130785140545773, 0.019305270413537953, 0.002258303733354918, 0.0015262345136610213, 0.04033407490075203, 0.0006021710415335737, 0.019500070800133273, 0.011445523804639599, 0.005414298063431313, 0.015234300894002795, 0.02900561213336524, 0.013749065561493128, 0.012400240355044514, 0.003443361314537467, 0.04027683897885503, 0.005431587394456189, 0.034606102611840744, 0.017751407461113828, 0.03428708458424325, 0.010842844134786804, 0.004836082312230424, 0.03960617454161183, 0.035850079433583856, 0.03700163116857896, 0.016214160332375705]\n",
      "[0.03688609822034026, 0.03068719047192541, 0.026659469172683557, 0.02074785100347826, 0.014368497270644567, 0.03575376793053525, 0.015849164787570178, 0.018818594663704988, 0.0030649279152709526, 0.030614766159416194, 0.005457506451794341, 0.004625988477312628, 0.006555724111378763, 0.021418880520085885, 0.03672380695738497, 0.02432862126406977, 0.030117319459420925, 0.03180390833064036, 0.0384242275543314, 0.03207289658717548, 0.00822103756430959, 0.01792935795776783, 0.02602420653036041, 0.0012436611440367943, 0.03090729526469189, 0.014613422291614147, 0.03673521885573431, 0.024702235143257954, 0.005466372827312998, 0.0042015067299423755, 0.005677108583859507, 0.0009296083968384035, 0.006325485003578448, 0.0367017794379333, 0.03393784050628805, 0.01875374897292349, 0.0284035418755138, 0.0065908127229664815, 0.0256880458148244, 0.02527409598412524, 0.012869054726618579, 0.004161675078229986, 0.03794270713372128, 0.01944367978214472, 0.0259355210647862, 0.02820708219547635, 0.00466719229155086, 0.012569742005089852, 0.029185020431306486, 0.0017127363740321133]\n",
      "[0.036232997894844556, 0.01726290201122793, 0.016577253284874343, 0.03123306741180678, 0.03396388429510011, 0.018305142066352306, 0.03642822358860786, 0.005373258117923638, 0.022310561750087433, 0.010079707353210817, 0.008835969165261276, 0.03644331240743537, 0.00184334795663541, 0.03227195321860719, 0.011243524965348504, 0.003915083984732971, 0.03598039646798898, 0.021650504569585102, 0.022002471604612547, 0.00823955391613921, 0.011110000454466869, 0.006444883789763651, 0.006017347371672226, 0.00575217671171759, 0.019888645585640553, 0.024593850792013868, 0.02899746848533975, 0.017102517871783143, 0.013983184682904699, 0.03695394017450543, 0.00632622449623947, 0.013342328267010524, 0.03100679149239285, 0.006007796524704236, 0.02648878413382695, 0.03036074637549901, 0.035163026979659825, 0.019095360774301087, 0.03281538764527109, 0.024799858578621624, 0.0027622461027675266, 0.00609145669934383, 0.00012593820054615314, 0.009819869908441746, 0.021333063665041146, 0.02881429647737079, 0.03435466828684705, 0.0326225240995902, 0.03312742861956244, 0.024505070722772294]\n",
      "[0.030536586764566175, 0.015342703975239838, 0.0038000331053659664, 0.0018538735120322242, 0.015633174793436476, 0.016043943222686305, 0.02848780014479291, 0.007335115739668769, 0.01880769938818698, 0.03511019401124224, 0.021274430660598986, 0.036088883812641644, 0.02476789459520344, 0.036177328852713554, 0.028583769345504863, 0.03428867315271181, 0.0017185126323764016, 0.02947715091897574, 0.02954827417738485, 0.01500017142916996, 0.030918649134537776, 0.01201385158101386, 0.026270705334916045, 0.0024963911243191966, 0.028109948417849407, 0.00853064815346193, 0.012973940431189289, 0.031021563765934908, 0.022559592956690636, 0.0049305772170552325, 0.015993055206214864, 0.029498510966272172, 0.03091318234447648, 0.007886544808101397, 0.023505486688145484, 0.026800568636041036, 0.024601310575374912, 0.010751672935554409, 0.02829378636942438, 0.027622114665000946, 0.026017078634587656, 0.0074745900165122435, 0.02590107412173053, 0.027501265568556865, 0.008174430228013186, 0.013992015575484105, 0.020260087674287493, 0.011847675494630294, 0.020227313520368842, 0.0030361536197553232]\n",
      "[0.02508195614965237, 0.0366043031718038, 0.022197506675949368, 0.00696505625508336, 0.03786809490056418, 0.03074641092925053, 0.016886996266267374, 0.0001773740331273626, 0.017969525551964478, 0.02746497307030841, 0.01988118725607205, 0.0078834175775901, 0.03412336232043877, 0.02084533143234856, 0.029892046917330505, 0.010973892925779976, 0.0281198802179282, 0.01781518177335815, 0.02607541927951537, 0.011885059990385959, 0.0030889060529683075, 0.03966832555308612, 0.01804141440083602, 0.02618331825281631, 0.03089958741930818, 0.01823967393129884, 0.033575887899289274, 0.0005792554708055299, 0.013680851031572959, 0.004575378710204771, 0.009195609400435612, 0.026833774545610627, 0.0033890230181694604, 0.013661092653752612, 0.037111554966129, 0.0037603469389309893, 0.0010573059657870802, 0.027673559884470105, 0.030984003248270445, 0.017409064448360174, 0.013600903316402896, 0.017422443205535564, 0.029868057406958685, 0.025180779976177594, 0.001866744756314414, 0.03120846533343083, 0.0025890491579872933, 0.031036116398979602, 0.03144427579548629, 0.026718254165905536]\n",
      "[0.023570790244530182, 0.02990973247319324, 0.01756575703151508, 0.018062453028446182, 0.005523071326625603, 0.03683953042076161, 0.022454059869311156, 0.03178923986686977, 0.024738157453389756, 0.01245829803091157, 0.01865132237250638, 0.0268938952788159, 0.007811790910735972, 0.02214296553103952, 0.023888628511016436, 0.007346903980049878, 0.033484156826255725, 0.030104971073681572, 0.030107738786502122, 0.007623887443079583, 0.022633654575901222, 0.02746664106882906, 0.02850094569430633, 0.03226742647143625, 0.029660393468398005, 0.02443473995944298, 0.017124702804796322, 0.009096494691083042, 0.017371798465021644, 0.003611101873219506, 0.011597159413889668, 0.002069205630983631, 0.025437913461115572, 0.03256721297649718, 0.015827916767018117, 0.009629259304399054, 0.018879896751752716, 0.031057733365224244, 4.2185411582616936e-05, 0.010900218598368995, 0.03192937837873896, 0.010819505164319745, 0.011446690788702127, 0.0016182220404645088, 0.0072227906995698445, 0.025341229075484643, 0.019861102351969775, 0.03467629991077898, 0.030597744095937605, 0.0253430862815304]\n",
      "[0.014891051574820614, 0.018701391556019516, 0.032775203369307795, 0.03463603961695409, 0.026637284758091177, 0.005404930990361538, 0.009853108870517761, 0.025131288790421803, 0.03229630380572784, 0.0037172816746250618, 0.02247432731822629, 0.001755829616801342, 0.005574078723920532, 0.01908487452146791, 0.020221135633639992, 0.035466404983220665, 0.03388726100121146, 0.03436091577026953, 0.031230126848903843, 0.0317192466145772, 0.02675000244867556, 0.03125712912627881, 0.004887125446130288, 0.0005671825827509046, 0.03344439681942622, 0.0039040491563826123, 0.00719399394063455, 0.02030521129099093, 0.0024987500276919044, 0.026258658400566685, 0.012693890438005012, 0.020427683447385155, 0.031512368399751495, 0.0026855258018295327, 0.012959179254627176, 0.030650723497640718, 0.031460711248622694, 0.03391387815587465, 0.01513046118386266, 0.036331122384872315, 0.0004411274456919415, 0.03563574278420137, 0.011117359319846178, 0.012461700946972038, 0.03290201488312488, 0.006521547564036922, 0.0021652743687628428, 0.021586005529559756, 0.030843531153203974, 0.02167556691351424]\n",
      "[0.01393149781797471, 0.02069024783419635, 0.016326604205814107, 0.03173186715055334, 0.029292123780287734, 0.0024518305188636997, 0.005247424734529253, 0.00949924675440545, 0.0245835025246073, 0.03043800548975593, 0.040954714191409, 0.03901041365504846, 0.0008014365494214792, 0.020044224231645497, 0.03849857883336574, 0.0017848361676413324, 0.0036734409596524066, 0.002444836602910523, 0.034783726050945256, 0.037690939666817115, 0.040703407955972604, 0.01860006356668502, 0.01884450158386546, 0.017203204178026944, 0.01886692536589099, 0.02971559972269404, 0.03944212259855898, 0.00011290236829719036, 0.013472114591414982, 0.02801920128755109, 0.027306391520779075, 0.029586057235908656, 0.006443538438317972, 0.0229596416695656, 0.010266915837926096, 0.010862243676796036, 0.01065551730171836, 0.02759493171346069, 0.0013240050955280439, 0.009420433625956197, 0.007462498571863618, 0.015450645466521112, 0.024447822267583207, 0.011181870858064116, 0.03073938254474406, 0.013569349843598618, 0.03666388695078659, 0.025783884419773636, 0.01115379296685159, 0.038267649055454725]\n",
      "[0.008947075553832359, 0.008164617959339827, 0.010763523408620594, 0.030571723079700346, 0.015842247243157925, 0.010682743443618949, 0.03843696921843754, 0.006091924484439168, 0.0325197238415665, 0.011711284183847778, 0.010751217155320516, 0.02274414225630171, 0.03667031054361328, 0.021417980240759336, 0.03033003336454994, 0.017992209208751206, 0.004190987306050586, 0.01999471579203306, 0.038158643690578566, 0.02330909449432357, 0.03402457321181981, 0.0098704947293036, 0.01609944125324227, 0.029651304941982547, 0.007724447615194158, 0.01823778818782371, 0.01483754895505214, 0.004660250043525068, 0.008144659459467086, 0.03519749426858195, 0.03465864814683614, 0.016401109568030734, 0.023239553337287954, 0.03385240075416532, 0.03984138529174398, 0.03715330572271746, 0.003925193260933844, 0.01133132580122454, 0.03883173957515064, 0.015308945922794102, 0.01615877256749448, 0.012137194199879464, 0.03245233223964685, 0.01437110201581005, 0.021072756766991756, 0.015465666343514374, 0.033952790441670606, 0.0011554715565096165, 0.0002501329648656307, 0.02070100438789741]\n",
      "[0.0282207068782771, 0.031797068285456205, 0.015607371018751535, 0.006401119602486965, 0.019717011245637243, 0.03704142027185073, 0.03770596237631068, 0.02856322640784037, 0.039396807285533145, 0.016646325437695616, 0.011776064027033196, 0.013421023834224825, 0.0341760465436929, 0.036113237832879036, 0.01216593674857607, 0.033035925488081624, 0.03939805921097146, 0.02431142828722822, 0.0016769378370931516, 0.0030561203025760435, 0.00291165387191609, 0.002088087763058251, 0.0393784486510924, 0.009798960403481266, 0.015601353591519554, 0.002835023532944399, 0.04215099913992566, 0.04126391196387179, 0.0002957091647548227, 0.011402057577458671, 0.0032054852291709644, 0.001979876040719556, 0.008798400721106093, 0.00811707925128318, 0.023991123286409847, 0.02037779593152389, 0.013585105858506693, 0.013505575442117656, 0.027183970676830264, 0.02515514880697519, 0.03149366068424183, 0.025959903344293683, 0.00657831093744734, 0.009228089669771004, 0.025556942505311524, 0.024569891382974076, 0.016407194955575233, 0.012626833506735826, 0.02239791719717646, 0.04132768998961072]\n",
      "[0.02464177658378267, 0.011335379902643722, 0.02093029339047068, 0.020070411164548795, 0.02437611062642838, 0.018178535932929427, 0.012054685285557728, 0.033812801663926986, 0.028401415002221535, 0.004385084620786782, 0.029972767891447327, 0.026549329165044894, 0.006925957429971858, 0.023803628202577875, 0.017535669677278872, 0.03399028616642334, 0.02468177779322589, 0.012079662025601356, 0.0351187153064122, 0.0015619673217743097, 0.026194549845682317, 0.025509269558973084, 0.012660070616922365, 0.03172829166816891, 0.010544885107066896, 0.0077920749587052475, 0.0020786543915017144, 0.029550221089331818, 0.020407200748024563, 0.009869029947011075, 0.027718785325712123, 0.017086995816565847, 0.014426163111375196, 0.021287912378110098, 0.015676956498875114, 0.031035161888725654, 0.030291370511302915, 0.03427660440979188, 0.013115900038150068, 0.0026283955175290382, 0.02783477911206432, 0.008192319997712721, 0.008292543292978417, 0.015131539028115539, 0.03428783284981196, 0.009158693038929772, 0.0204929463136814, 0.02238757491646014, 0.028069507310017876, 0.031867515559647265]\n",
      "[0.026041320826307973, 0.0319688937173483, 0.0349583648554415, 0.008310539244395787, 0.02981452329786656, 0.00027172824019123414, 0.0063787367086008085, 0.04089682556621902, 0.0221838297301296, 0.0355100736058891, 0.0011294699796633783, 0.035601959121762145, 0.000838885685143373, 0.02216870238103385, 0.026695918157524427, 0.007560768477872034, 0.0294720945560845, 0.0013617821765087694, 0.04136587161556859, 0.028421282417094892, 0.023881763341508693, 0.00876172273803159, 0.033562961236539186, 0.002608452116312589, 0.03269205693418311, 0.022297420027606603, 0.004026597397203796, 0.022549372772778506, 0.005054368198812828, 0.013681388836348838, 0.035528531213866815, 0.029950393974522132, 0.019209039097632104, 0.03532020442076901, 0.027775324644116427, 0.016763112946603976, 0.0010968065106852637, 0.01538784691635191, 0.03373814592504685, 0.0050316648816039825, 0.03013268652020407, 0.02778167820926595, 0.0011525887033642292, 0.021741824562537964, 0.002609156754438554, 0.021626168356820442, 0.0021289257529816296, 0.015075736435436705, 0.027655796440993648, 0.030226693772786813]\n",
      "[0.02278171962715366, 0.025246027276146357, 0.031773830977992884, 0.0074730007888399105, 0.024152618170292513, 0.013036659147458886, 0.036593306722168664, 0.022568649819866858, 0.005598919128439463, 0.033590287437048394, 0.007172512111076878, 9.636798705228723e-05, 0.029758666972265396, 0.004726064717690328, 0.005628445486074645, 0.038413203223040565, 0.026698230779349866, 0.004297752899691548, 0.005745798141505545, 0.014662611162734459, 0.020829135873925972, 0.026153552432778882, 0.04148757845029466, 0.006888226881583205, 0.017548704149566306, 0.02878381467664182, 0.0007506109055944145, 0.02997993346404686, 0.03188229020945992, 0.020990290602549318, 0.018457823292619205, 0.019800774631617966, 0.02871453324897773, 0.035774304883160225, 0.0111511348532254, 0.008818478218618475, 0.009493345442234102, 0.010515223526404542, 0.03625650778445205, 0.02671554347615217, 0.022916085262536266, 0.030837423306563094, 0.012487106069548238, 0.031855708706223396, 0.01583886720549217, 0.01713188827013094, 0.03936632798474863, 0.016679981260492423, 0.011271632979940294, 0.010608499374532248]\n",
      "[0.013232234469547677, 0.025535686613528178, 0.042970970113584604, 0.030612346975088443, 0.027889751828635272, 0.04101643546327314, 0.01685064828088004, 0.0008970499273029395, 0.04460215181592506, 0.04113026064103845, 0.02558077070736322, 0.035927161595438795, 0.004384473824980634, 0.020438217587950433, 0.0028994039238717643, 0.020019050113880294, 0.0018737496864749293, 0.004041487557022159, 0.03380139754018517, 0.00704320860601104, 0.042765320580106694, 0.004544201810386289, 0.007427768765036996, 0.011288545137158127, 0.026076675920402796, 0.0345224974927212, 0.009063417162251727, 0.020483809008277253, 0.006081457967699325, 0.02494511793538948, 0.03349593067945345, 0.0046075278209967785, 0.02559857597001718, 0.004609601498177298, 0.027121355590910005, 0.006991871515602197, 0.011955842106738293, 0.014105389711442736, 0.005602693378505113, 0.005072839944151889, 0.04281002884924404, 0.026442406398569956, 0.008282964345312097, 0.04111191412546957, 0.009247100979532531, 0.011380517840160469, 0.01518263039825406, 0.027451842776499334, 0.016486964408905583, 0.034496732610645287]\n",
      "[0.03018813102811681, 0.008495289350000332, 0.011274482871078574, 0.0009033453385584048, 0.028942484806341682, 0.03652845117758276, 0.03392046561060637, 0.007697790696309745, 0.004534094623410993, 0.02310199496323772, 0.03104812116441144, 0.015933221635594377, 0.03845839800600511, 0.029241810761806233, 0.029552778562724747, 0.03682259368995444, 0.02545454689661723, 0.03324719083314642, 0.025212210412679605, 0.031568919060320576, 0.0348054697119583, 0.0015146014951021853, 0.010261946983827853, 0.017460142216697064, 0.024688913674847743, 0.0005992607571826804, 0.027595426750302146, 0.027162441504043885, 0.026799295823790825, 0.020638019675237578, 0.022927849336955613, 0.012233675834080962, 0.005389296938772834, 0.01354559848165655, 0.02149852153903174, 0.026645948345547763, 0.025849779379323735, 0.01352118728753767, 0.027623142727050652, 0.0025738999603608604, 0.0026583232275136023, 0.011830262586009757, 0.011211072445658405, 0.014204629891030251, 0.007985642559910423, 0.009521319638728085, 0.03289685797193798, 0.015495942019361768, 0.0143802525553103, 0.03435495719272716]\n",
      "[0.0273730125676431, 0.020463279606646026, 0.027378492076162598, 0.0346129920757896, 0.031001950872345238, 0.029967453642483922, 0.0013053081456639664, 0.02512419972093456, 0.009668747271563924, 0.0025414053988280683, 0.01671048272106879, 0.0004062761013809334, 0.006759747740417247, 0.0023612278659726114, 0.03348262913539132, 0.02496452546977131, 0.02295132126745309, 0.03185381154996678, 0.012836082362052092, 0.030163024921356012, 0.0228840063754002, 0.03497257595173503, 0.017434462280103116, 0.03381365518582005, 0.033745534852287866, 0.023299842989750356, 0.021874666629648397, 0.00349516327475884, 0.018527739336816916, 0.03363130902572325, 0.022066299158898676, 0.012026743732795187, 0.01154402914121194, 0.023288647069136907, 0.007952751737922963, 0.028221375170673677, 0.024480130734358875, 0.025299720629191703, 0.002323558618486838, 0.026573462864127734, 0.02884406227513999, 0.020988506174331508, 0.007903387558626448, 0.028099461608422416, 0.005722212051249031, 0.01955115221565038, 0.019481675012754922, 0.0269826853996313, 0.018593866155821294, 0.004451346276633019]\n",
      "[0.016030473516313523, 0.016455790673627513, 0.004504334810323451, 0.00829034845762034, 0.02233795942356747, 0.0026216889321575114, 0.026303388619682143, 0.016938948421167492, 0.032553542893898425, 0.01926596007675167, 0.03675502315627124, 0.01484968341241198, 0.012766437279117901, 0.004711138750446501, 0.016813343585072082, 0.023683551687246857, 0.03233722860062139, 0.034594655693908724, 0.02483357483702871, 0.009277994404811215, 0.00428975771634953, 0.0101448948688531, 0.02074425911605094, 0.0051733977833385075, 0.023590020604029618, 0.019891941090414162, 0.01982311114425074, 0.02165984129903389, 0.03084001528133029, 0.03813454210994883, 0.01266145779664269, 0.017711606689099893, 0.013534111954599987, 0.010750539927488844, 0.024226264245866762, 0.03375241903087152, 0.02598662963654829, 0.024460226690285643, 0.0059828853959052, 0.027661663940486095, 0.03498183277509164, 0.018165176464234805, 0.003973431266554681, 0.020976221827422092, 0.02642985068284076, 0.02168489408861102, 0.03685729360486072, 0.03542929576205698, 0.01300913130296284, 0.021548218671923722]\n",
      "[0.005860614430668053, 0.037551087792113996, 0.006746962472427375, 0.04455003293425508, 0.02628814124705668, 0.01870016956848775, 0.016584766789677657, 0.014384871357404709, 0.042062466325896414, 0.033481743908666615, 0.011561045679962315, 0.005242653268469726, 0.020393971182280157, 0.006005014118763756, 0.018729259106679958, 0.008800793680384613, 0.030461055040894757, 0.012148172125500026, 0.0030675680069010705, 0.0013316964721251199, 0.041446378613387506, 0.015680861868611135, 0.028343924337818707, 0.029266908208672834, 0.03249589283935762, 0.04094204017627299, 0.03788366626461385, 0.014734591577333103, 0.009683329553462303, 0.01132166867648673, 0.0370674328615606, 0.00709886954560904, 3.8925423838276064e-05, 0.0442185335317455, 0.010581634567351792, 0.029040088229343525, 0.008652832182697334, 0.001717031565128632, 0.025881953697073815, 0.010991562321477986, 0.001182813911812163, 0.03946176168239858, 0.04373384237368569, 0.017053037202317343, 0.01895443012598723, 0.01562931797339493, 0.0115554487705326, 0.037407043351608715, 0.01372351864202082, 0.0002585744157827836]\n",
      "[0.03834783764929721, 0.004899340820259109, 0.008536900479656835, 0.0253814084959432, 0.03450337302037005, 0.01321544576942219, 0.00791477178655643, 0.00798436920347178, 0.020693601038595133, 0.023271315458359382, 0.011386589919855947, 0.02110491606359577, 0.023569034979798544, 0.002787504816803801, 0.002224460165736751, 0.039110777950083914, 0.012886277712440943, 0.025642599600869682, 0.03403011791187358, 0.020852954765461253, 0.01157581921384252, 0.03423270940656787, 0.007181775321234907, 0.02464592150660109, 0.03544631316182733, 0.03661959603225307, 0.0390997204185887, 0.029747001199421263, 0.023923265797595926, 0.015010377756352795, 0.02423470450626981, 0.024523787614007527, 0.038730067899186066, 0.01589417652354093, 0.03137733319477147, 0.007490167332496077, 0.01892327726266079, 0.013360847514536357, 0.03053193831547441, 0.004963230112445967, 0.002192621689818726, 0.02247984048003317, 0.03529994665964203, 0.004461239903128972, 0.011248186666285789, 0.02698233614401662, 0.027496450404494888, 0.002626676224115467, 0.01134411907468936, 0.010012955055648632]\n",
      "[0.04346040003652474, 0.017287663435486218, 0.00987473924795962, 0.019332499471538735, 0.0020556363103390652, 0.012346954324600846, 0.00834693402341206, 0.018751090413341005, 0.02907642913036365, 0.018774717196828723, 0.00012321471837197745, 0.02612852557837523, 0.01059645755110337, 0.0015642572253256957, 0.006937005420329108, 0.026297522491111124, 0.022007376310055088, 0.009119410567960163, 0.0338522874305347, 0.0396825228911991, 0.041669617030170046, 0.01914288249239023, 0.0101264860281858, 0.01970397805316946, 0.017547994481929174, 0.026195486414100463, 0.014045120550493494, 0.034356416328170665, 0.021201042498668585, 0.03235341716242258, 0.036818944473688546, 0.02560723708008644, 0.031124848355502468, 0.001654431389528469, 0.003323439918789396, 0.0016838196509462943, 0.01437451959078491, 0.012316592071516926, 0.00967237529410341, 0.030004046835743793, 0.036083614329220755, 0.03439910263877011, 0.023885297550644717, 0.0043686855735614975, 0.01782964107706849, 0.032238075445738694, 0.030223396491306675, 0.010507751103953309, 0.013154705413208345, 0.03877139090137601]\n",
      "[0.0027929239709722055, 0.0009938428547818963, 0.03288327824108522, 0.011971154376027112, 0.008629672856395453, 0.00647590052035644, 0.015057148150688654, 0.004053416799614326, 0.011937074854353347, 0.010926912652632815, 0.005589076589257522, 0.042337900082683295, 0.0334138661533269, 0.022988030026700065, 0.026926580387077445, 0.02585482026994157, 0.020071380148136152, 0.017035274002146238, 0.033791637606198265, 0.0029638237783017485, 0.037013244815490655, 0.02602437854784229, 0.014875938893945652, 0.010353722813380926, 0.011944006676107613, 0.013567177087694912, 0.015476739981285143, 0.013129729050138891, 0.035500599078778484, 0.03861640111324938, 0.03685589091102653, 0.00515227925522748, 0.011419296838659226, 0.04581037255121625, 0.01817350548307177, 0.013805139895741664, 0.034711896887969516, 0.006733121925358565, 0.0023873547813191833, 0.020318764082767518, 0.04091128121719953, 0.016711139981421198, 0.012138805819290383, 0.023805577284834352, 0.034363119753394185, 0.032668249511584396, 0.014616570934967535, 0.005943877186547321, 0.03345445535154726, 0.036823647968265524]\n"
     ]
    }
   ],
   "source": [
    "hmm.display_parameters()"
   ]
  },
  {
   "cell_type": "code",
   "execution_count": 158,
   "metadata": {},
   "outputs": [
    {
     "data": {
      "text/html": [
       "\n",
       "            <style>\n",
       "                .geemap-dark {\n",
       "                    --jp-widgets-color: white;\n",
       "                    --jp-widgets-label-color: white;\n",
       "                    --jp-ui-font-color1: white;\n",
       "                    --jp-layout-color2: #454545;\n",
       "                    background-color: #383838;\n",
       "                }\n",
       "\n",
       "                .geemap-dark .jupyter-button {\n",
       "                    --jp-layout-color3: #383838;\n",
       "                }\n",
       "\n",
       "                .geemap-colab {\n",
       "                    background-color: var(--colab-primary-surface-color, white);\n",
       "                }\n",
       "\n",
       "                .geemap-colab .jupyter-button {\n",
       "                    --jp-layout-color3: var(--colab-primary-surface-color, white);\n",
       "                }\n",
       "            </style>\n",
       "            "
      ],
      "text/plain": [
       "<IPython.core.display.HTML object>"
      ]
     },
     "metadata": {},
     "output_type": "display_data"
    },
    {
     "data": {
      "text/plain": [
       "2"
      ]
     },
     "execution_count": 158,
     "metadata": {},
     "output_type": "execute_result"
    }
   ],
   "source": [
    "hmm.learn(sequences, k_smoothing=0.001)"
   ]
  },
  {
   "cell_type": "code",
   "execution_count": 159,
   "metadata": {},
   "outputs": [
    {
     "data": {
      "text/html": [
       "\n",
       "            <style>\n",
       "                .geemap-dark {\n",
       "                    --jp-widgets-color: white;\n",
       "                    --jp-widgets-label-color: white;\n",
       "                    --jp-ui-font-color1: white;\n",
       "                    --jp-layout-color2: #454545;\n",
       "                    background-color: #383838;\n",
       "                }\n",
       "\n",
       "                .geemap-dark .jupyter-button {\n",
       "                    --jp-layout-color3: #383838;\n",
       "                }\n",
       "\n",
       "                .geemap-colab {\n",
       "                    background-color: var(--colab-primary-surface-color, white);\n",
       "                }\n",
       "\n",
       "                .geemap-colab .jupyter-button {\n",
       "                    --jp-layout-color3: var(--colab-primary-surface-color, white);\n",
       "                }\n",
       "            </style>\n",
       "            "
      ],
      "text/plain": [
       "<IPython.core.display.HTML object>"
      ]
     },
     "metadata": {},
     "output_type": "display_data"
    },
    {
     "name": "stdout",
     "output_type": "stream",
     "text": [
      "Starting probabilities (pi):\n",
      "{'0': 0.39584250820912253, '2': 0.20451458841388298, '1': 0.39964290337699443}\n",
      "{'0-0': 0.1882899290068273, '0-2': 0.060567341234905515, '0-1': 0.1704039149064021, '2-0': 0.10398176093151436, '2-2': 0.03370734546881159, '2-1': 0.1658018124719141, '1-0': 0.15591503911079832, '1-2': 0.10869474473593066, '1-1': 0.012638112132895982}\n",
      "{'0-0-0': 0.5320882339508495, '0-0-2': 0.2796682454623428, '0-0-1': 0.16487448455954393, '0-2-0': 0.0009737098344693283, '0-2-2': 0.0009737098344693283, '0-2-1': 0.0009737098344693283, '0-1-0': 0.0009737098344693283, '0-1-2': 0.0009737098344693283, '0-1-1': 0.0009737098344693283, '2-0-0': 0.0009737098344693283, '2-0-2': 0.0009737098344693283, '2-0-1': 0.0009737098344693283, '2-2-0': 0.0009737098344693283, '2-2-2': 0.0009737098344693283, '2-2-1': 0.0009737098344693283, '2-1-0': 0.0009737098344693283, '2-1-2': 0.0009737098344693283, '2-1-1': 0.0009737098344693283, '1-0-0': 0.0009737098344693283, '1-0-2': 0.0009737098344693283, '1-0-1': 0.0009737098344693283, '1-2-0': 0.0009737098344693283, '1-2-2': 0.0009737098344693283, '1-2-1': 0.0009737098344693283, '1-1-0': 0.0009737098344693283, '1-1-2': 0.0009737098344693283, '1-1-1': 0.0009737098344693283}\n",
      "Transition probabilities (A):\n",
      "[0.020594172861810204, 0.026173498570503616, 0.03928606456661361, 0.039113602948389725, 0.031597022375563395, 0.030507447864296294, 0.04883867783329251, 0.052496114782417405, 0.01925080174429587, 0.0552223690401623, 0.03822458484911067, 0.030820676788879304, 0.039113602948389725, 0.031597022375563395, 0.030507447864296294, 0.04883867783329251, 0.052496114782417405, 0.01925080174429587, 0.0552223690401623, 0.03822458484911067, 0.030820676788879304, 0.039113602948389725, 0.031597022375563395, 0.030507447864296294, 0.04883867783329251, 0.052496114782417405, 0.01925080174429587]\n",
      "[0.030967276059657628, 0.03274173203244859, 0.06342795028337313, 0.0338516291839659, 0.029015298999774126, 0.04150164025179631, 0.03947305469675091, 0.03870918400326539, 0.030178978503090866, 0.04313433208080465, 0.03238991453030633, 0.04181259574318322, 0.0338516291839659, 0.029015298999774126, 0.04150164025179631, 0.03947305469675091, 0.03870918400326539, 0.030178978503090866, 0.04313433208080465, 0.03238991453030633, 0.04181259574318322, 0.0338516291839659, 0.029015298999774126, 0.04150164025179631, 0.03947305469675091, 0.03870918400326539, 0.030178978503090866]\n",
      "[0.07751586303652044, 0.038980580282749124, 0.05123133216117578, 0.038910990423073326, 0.016606172042791825, 0.02390130673290424, 0.06414506188713348, 0.029763075255258772, 0.015367740149888304, 0.08880785221614736, 0.020075213545865656, 0.02421152676118907, 0.038910990423073326, 0.016606172042791825, 0.02390130673290424, 0.06414506188713348, 0.029763075255258772, 0.015367740149888304, 0.08880785221614736, 0.020075213545865656, 0.02421152676118907, 0.038910990423073326, 0.016606172042791825, 0.02390130673290424, 0.06414506188713348, 0.029763075255258772, 0.015367740149888304]\n",
      "[0.02766331190915537, 0.02751504591802548, 0.031208857036916383, 0.035135156812666254, 0.03496235452174352, 0.04624857984325722, 0.03347108978484485, 0.03282477453727506, 0.0467377066607142, 0.03243954622383481, 0.03419780985377141, 0.046099543249593214, 0.035135156812666254, 0.03496235452174352, 0.04624857984325722, 0.03347108978484485, 0.03282477453727506, 0.0467377066607142, 0.03243954622383481, 0.03419780985377141, 0.046099543249593214, 0.035135156812666254, 0.03496235452174352, 0.04624857984325722, 0.03347108978484485, 0.03282477453727506, 0.0467377066607142]\n",
      "[0.02124674746281563, 0.023728659881268533, 0.04306759334096321, 0.025364604703107002, 0.02868587559652956, 0.06053170196208053, 0.024477074484161445, 0.02746119391521282, 0.06246631870850758, 0.023899189194141867, 0.028259337905721448, 0.060339818503214265, 0.025364604703107002, 0.02868587559652956, 0.06053170196208053, 0.024477074484161445, 0.02746119391521282, 0.06246631870850758, 0.023899189194141867, 0.028259337905721448, 0.060339818503214265, 0.025364604703107002, 0.02868587559652956, 0.06053170196208053, 0.024477074484161445, 0.02746119391521282, 0.06246631870850758]\n",
      "[0.04985231092010845, 0.03691121825520477, 0.028211145071821216, 0.045572112419548984, 0.03151568514744712, 0.03234254606534362, 0.047667365711940544, 0.03409866148891974, 0.02799313132072634, 0.0487164892944593, 0.03263544327191494, 0.03237647707916883, 0.045572112419548984, 0.03151568514744712, 0.03234254606534362, 0.047667365711940544, 0.03409866148891974, 0.02799313132072634, 0.0487164892944593, 0.03263544327191494, 0.03237647707916883, 0.045572112419548984, 0.03151568514744712, 0.03234254606534362, 0.047667365711940544, 0.03409866148891974, 0.02799313132072634]\n",
      "[0.030729888064576664, 0.028573510426018058, 0.025021484840523855, 0.04144680454626115, 0.03841881871838509, 0.03812645980879676, 0.038866212366475916, 0.03519042898199759, 0.03809981558884848, 0.03737627624908318, 0.03723682714430334, 0.03800164492490628, 0.04144680454626115, 0.03841881871838509, 0.03812645980879676, 0.038866212366475916, 0.03519042898199759, 0.03809981558884848, 0.03737627624908318, 0.03723682714430334, 0.03800164492490628, 0.04144680454626115, 0.03841881871838509, 0.03812645980879676, 0.038866212366475916, 0.03519042898199759, 0.03809981558884848]\n",
      "[0.0278180746988758, 0.026860849820915602, 0.03069337822622202, 0.034981744302598344, 0.03412471587552362, 0.047480225837785876, 0.033426251281333495, 0.032023292757249563, 0.04738705000989437, 0.03246747660325688, 0.03339047303449467, 0.04732097889266357, 0.034981744302598344, 0.03412471587552362, 0.047480225837785876, 0.033426251281333495, 0.032023292757249563, 0.04738705000989437, 0.03246747660325688, 0.03339047303449467, 0.04732097889266357, 0.034981744302598344, 0.03412471587552362, 0.047480225837785876, 0.033426251281333495, 0.032023292757249563, 0.04738705000989437]\n",
      "[0.021673519508762708, 0.023640858992557346, 0.057767684290988455, 0.022209642941275618, 0.024527028350291732, 0.06574272434304286, 0.022146545591532132, 0.024351217317653148, 0.06516531203357759, 0.02209392111655344, 0.02447996858212251, 0.06567137303910989, 0.022209642941275618, 0.024527028350291732, 0.06574272434304286, 0.022146545591532132, 0.024351217317653148, 0.06516531203357759, 0.02209392111655344, 0.02447996858212251, 0.06567137303910989, 0.022209642941275618, 0.024527028350291732, 0.06574272434304286, 0.022146545591532132, 0.024351217317653148, 0.06516531203357759]\n",
      "[0.03202748761519006, 0.02873670097593776, 0.021745914941689225, 0.04550756688097212, 0.04032051991028545, 0.03345075419302316, 0.042090708069759654, 0.03626087530439588, 0.03329455354978312, 0.04020247576866639, 0.0388145787323242, 0.03334042687027139, 0.04550756688097212, 0.04032051991028545, 0.03345075419302316, 0.042090708069759654, 0.03626087530439588, 0.03329455354978312, 0.04020247576866639, 0.0388145787323242, 0.03334042687027139, 0.04550756688097212, 0.04032051991028545, 0.03345075419302316, 0.042090708069759654, 0.03626087530439588, 0.03329455354978312]\n",
      "[0.024024023416053315, 0.025171190128455263, 0.03808455623758613, 0.029003125782290813, 0.030735228647777703, 0.055527882175811116, 0.027961066183395823, 0.02930969270402102, 0.05645102338993318, 0.02728475913391106, 0.030242948451325337, 0.05535037919887143, 0.029003125782290813, 0.030735228647777703, 0.055527882175811116, 0.027961066183395823, 0.02930969270402102, 0.05645102338993318, 0.02728475913391106, 0.030242948451325337, 0.05535037919887143, 0.029003125782290813, 0.030735228647777703, 0.055527882175811116, 0.027961066183395823, 0.02930969270402102, 0.05645102338993318]\n",
      "[0.05053199839684664, 0.03713137712981419, 0.027542861154247523, 0.04611340457341559, 0.03160220870278486, 0.03156403828415104, 0.04828606546693594, 0.03426653371720855, 0.027281821869370414, 0.049371736872408936, 0.03275601929220494, 0.03159801657413216, 0.04611340457341559, 0.03160220870278486, 0.03156403828415104, 0.04828606546693594, 0.03426653371720855, 0.027281821869370414, 0.049371736872408936, 0.03275601929220494, 0.03159801657413216, 0.04611340457341559, 0.03160220870278486, 0.03156403828415104, 0.04828606546693594, 0.03426653371720855, 0.027281821869370414]\n",
      "[0.02766331190915537, 0.02751504591802548, 0.031208857036916383, 0.035135156812666254, 0.03496235452174352, 0.04624857984325722, 0.03347108978484485, 0.03282477453727506, 0.0467377066607142, 0.03243954622383481, 0.03419780985377141, 0.046099543249593214, 0.035135156812666254, 0.03496235452174352, 0.04624857984325722, 0.03347108978484485, 0.03282477453727506, 0.0467377066607142, 0.03243954622383481, 0.03419780985377141, 0.046099543249593214, 0.035135156812666254, 0.03496235452174352, 0.04624857984325722, 0.03347108978484485, 0.03282477453727506, 0.0467377066607142]\n",
      "[0.02124674746281563, 0.023728659881268533, 0.04306759334096321, 0.025364604703107002, 0.02868587559652956, 0.06053170196208053, 0.024477074484161445, 0.02746119391521282, 0.06246631870850758, 0.023899189194141867, 0.028259337905721448, 0.060339818503214265, 0.025364604703107002, 0.02868587559652956, 0.06053170196208053, 0.024477074484161445, 0.02746119391521282, 0.06246631870850758, 0.023899189194141867, 0.028259337905721448, 0.060339818503214265, 0.025364604703107002, 0.02868587559652956, 0.06053170196208053, 0.024477074484161445, 0.02746119391521282, 0.06246631870850758]\n",
      "[0.04985231092010845, 0.03691121825520477, 0.028211145071821216, 0.045572112419548984, 0.03151568514744712, 0.03234254606534362, 0.047667365711940544, 0.03409866148891974, 0.02799313132072634, 0.0487164892944593, 0.03263544327191494, 0.03237647707916883, 0.045572112419548984, 0.03151568514744712, 0.03234254606534362, 0.047667365711940544, 0.03409866148891974, 0.02799313132072634, 0.0487164892944593, 0.03263544327191494, 0.03237647707916883, 0.045572112419548984, 0.03151568514744712, 0.03234254606534362, 0.047667365711940544, 0.03409866148891974, 0.02799313132072634]\n",
      "[0.030729888064576664, 0.028573510426018058, 0.025021484840523855, 0.04144680454626115, 0.03841881871838509, 0.03812645980879676, 0.038866212366475916, 0.03519042898199759, 0.03809981558884848, 0.03737627624908318, 0.03723682714430334, 0.03800164492490628, 0.04144680454626115, 0.03841881871838509, 0.03812645980879676, 0.038866212366475916, 0.03519042898199759, 0.03809981558884848, 0.03737627624908318, 0.03723682714430334, 0.03800164492490628, 0.04144680454626115, 0.03841881871838509, 0.03812645980879676, 0.038866212366475916, 0.03519042898199759, 0.03809981558884848]\n",
      "[0.0278180746988758, 0.026860849820915602, 0.03069337822622202, 0.034981744302598344, 0.03412471587552362, 0.047480225837785876, 0.033426251281333495, 0.032023292757249563, 0.04738705000989437, 0.03246747660325688, 0.03339047303449467, 0.04732097889266357, 0.034981744302598344, 0.03412471587552362, 0.047480225837785876, 0.033426251281333495, 0.032023292757249563, 0.04738705000989437, 0.03246747660325688, 0.03339047303449467, 0.04732097889266357, 0.034981744302598344, 0.03412471587552362, 0.047480225837785876, 0.033426251281333495, 0.032023292757249563, 0.04738705000989437]\n",
      "[0.021673519508762708, 0.023640858992557346, 0.057767684290988455, 0.022209642941275618, 0.024527028350291732, 0.06574272434304286, 0.022146545591532132, 0.024351217317653148, 0.06516531203357759, 0.02209392111655344, 0.02447996858212251, 0.06567137303910989, 0.022209642941275618, 0.024527028350291732, 0.06574272434304286, 0.022146545591532132, 0.024351217317653148, 0.06516531203357759, 0.02209392111655344, 0.02447996858212251, 0.06567137303910989, 0.022209642941275618, 0.024527028350291732, 0.06574272434304286, 0.022146545591532132, 0.024351217317653148, 0.06516531203357759]\n",
      "[0.03202748761519006, 0.02873670097593776, 0.021745914941689225, 0.04550756688097212, 0.04032051991028545, 0.03345075419302316, 0.042090708069759654, 0.03626087530439588, 0.03329455354978312, 0.04020247576866639, 0.0388145787323242, 0.03334042687027139, 0.04550756688097212, 0.04032051991028545, 0.03345075419302316, 0.042090708069759654, 0.03626087530439588, 0.03329455354978312, 0.04020247576866639, 0.0388145787323242, 0.03334042687027139, 0.04550756688097212, 0.04032051991028545, 0.03345075419302316, 0.042090708069759654, 0.03626087530439588, 0.03329455354978312]\n",
      "[0.024024023416053315, 0.025171190128455263, 0.03808455623758613, 0.029003125782290813, 0.030735228647777703, 0.055527882175811116, 0.027961066183395823, 0.02930969270402102, 0.05645102338993318, 0.02728475913391106, 0.030242948451325337, 0.05535037919887143, 0.029003125782290813, 0.030735228647777703, 0.055527882175811116, 0.027961066183395823, 0.02930969270402102, 0.05645102338993318, 0.02728475913391106, 0.030242948451325337, 0.05535037919887143, 0.029003125782290813, 0.030735228647777703, 0.055527882175811116, 0.027961066183395823, 0.02930969270402102, 0.05645102338993318]\n",
      "[0.05053199839684664, 0.03713137712981419, 0.027542861154247523, 0.04611340457341559, 0.03160220870278486, 0.03156403828415104, 0.04828606546693594, 0.03426653371720855, 0.027281821869370414, 0.049371736872408936, 0.03275601929220494, 0.03159801657413216, 0.04611340457341559, 0.03160220870278486, 0.03156403828415104, 0.04828606546693594, 0.03426653371720855, 0.027281821869370414, 0.049371736872408936, 0.03275601929220494, 0.03159801657413216, 0.04611340457341559, 0.03160220870278486, 0.03156403828415104, 0.04828606546693594, 0.03426653371720855, 0.027281821869370414]\n",
      "[0.02766331190915537, 0.02751504591802548, 0.031208857036916383, 0.035135156812666254, 0.03496235452174352, 0.04624857984325722, 0.03347108978484485, 0.03282477453727506, 0.0467377066607142, 0.03243954622383481, 0.03419780985377141, 0.046099543249593214, 0.035135156812666254, 0.03496235452174352, 0.04624857984325722, 0.03347108978484485, 0.03282477453727506, 0.0467377066607142, 0.03243954622383481, 0.03419780985377141, 0.046099543249593214, 0.035135156812666254, 0.03496235452174352, 0.04624857984325722, 0.03347108978484485, 0.03282477453727506, 0.0467377066607142]\n",
      "[0.02124674746281563, 0.023728659881268533, 0.04306759334096321, 0.025364604703107002, 0.02868587559652956, 0.06053170196208053, 0.024477074484161445, 0.02746119391521282, 0.06246631870850758, 0.023899189194141867, 0.028259337905721448, 0.060339818503214265, 0.025364604703107002, 0.02868587559652956, 0.06053170196208053, 0.024477074484161445, 0.02746119391521282, 0.06246631870850758, 0.023899189194141867, 0.028259337905721448, 0.060339818503214265, 0.025364604703107002, 0.02868587559652956, 0.06053170196208053, 0.024477074484161445, 0.02746119391521282, 0.06246631870850758]\n",
      "[0.04985231092010845, 0.03691121825520477, 0.028211145071821216, 0.045572112419548984, 0.03151568514744712, 0.03234254606534362, 0.047667365711940544, 0.03409866148891974, 0.02799313132072634, 0.0487164892944593, 0.03263544327191494, 0.03237647707916883, 0.045572112419548984, 0.03151568514744712, 0.03234254606534362, 0.047667365711940544, 0.03409866148891974, 0.02799313132072634, 0.0487164892944593, 0.03263544327191494, 0.03237647707916883, 0.045572112419548984, 0.03151568514744712, 0.03234254606534362, 0.047667365711940544, 0.03409866148891974, 0.02799313132072634]\n",
      "[0.030729888064576664, 0.028573510426018058, 0.025021484840523855, 0.04144680454626115, 0.03841881871838509, 0.03812645980879676, 0.038866212366475916, 0.03519042898199759, 0.03809981558884848, 0.03737627624908318, 0.03723682714430334, 0.03800164492490628, 0.04144680454626115, 0.03841881871838509, 0.03812645980879676, 0.038866212366475916, 0.03519042898199759, 0.03809981558884848, 0.03737627624908318, 0.03723682714430334, 0.03800164492490628, 0.04144680454626115, 0.03841881871838509, 0.03812645980879676, 0.038866212366475916, 0.03519042898199759, 0.03809981558884848]\n",
      "[0.0278180746988758, 0.026860849820915602, 0.03069337822622202, 0.034981744302598344, 0.03412471587552362, 0.047480225837785876, 0.033426251281333495, 0.032023292757249563, 0.04738705000989437, 0.03246747660325688, 0.03339047303449467, 0.04732097889266357, 0.034981744302598344, 0.03412471587552362, 0.047480225837785876, 0.033426251281333495, 0.032023292757249563, 0.04738705000989437, 0.03246747660325688, 0.03339047303449467, 0.04732097889266357, 0.034981744302598344, 0.03412471587552362, 0.047480225837785876, 0.033426251281333495, 0.032023292757249563, 0.04738705000989437]\n",
      "[0.021673519508762708, 0.023640858992557346, 0.057767684290988455, 0.022209642941275618, 0.024527028350291732, 0.06574272434304286, 0.022146545591532132, 0.024351217317653148, 0.06516531203357759, 0.02209392111655344, 0.02447996858212251, 0.06567137303910989, 0.022209642941275618, 0.024527028350291732, 0.06574272434304286, 0.022146545591532132, 0.024351217317653148, 0.06516531203357759, 0.02209392111655344, 0.02447996858212251, 0.06567137303910989, 0.022209642941275618, 0.024527028350291732, 0.06574272434304286, 0.022146545591532132, 0.024351217317653148, 0.06516531203357759]\n",
      "Emission probabilities (B):\n",
      "[0.006945963996511376, 0.006945963996511376, 0.006945963996511376, 0.006945963996511376, 0.006945963996511376, 0.006945963996511376, 0.006945963996511376, 0.006945963996511376, 0.006945963996511376, 0.006945963996511376, 0.006945963996511376, 0.006945963996511376, 0.006945963996511376, 0.006945963996511376, 0.006945963996511376, 0.006945963996511376, 0.006945963996511376, 0.02062640711108733, 0.7302345926137754, 0.006945963996511376, 0.006945963996511376, 0.006945963996511376, 0.006945963996511376, 0.006945963996511376, 0.006945963996511376, 0.006945963996511376, 0.006945963996511376, 0.006945963996511376, 0.006945963996511376, 0.006945963996511376, 0.006945963996511376, 0.006945963996511376, 0.006945963996511376, 0.006945963996511376, 0.006945963996511376, 0.006945963996511376, 0.006945963996511376, 0.006945963996511376, 0.006945963996511376, 0.006945963996511376, 0.006945963996511376, 0.006945963996511376, 0.006945963996511376, 0.006945963996511376, 0.006945963996511376, 0.006945963996511376, 0.006945963996511376, 0.006945963996511376, 0.22830110828560302, 0.006945963996511376]\n",
      "[0.007017483816172663, 0.007017483816172663, 0.007017483816172663, 0.007017483816172663, 0.007017483816172663, 0.007017483816172663, 0.007017483816172663, 0.007017483816172663, 0.007017483816172663, 0.007017483816172663, 0.007017483816172663, 0.007017483816172663, 0.007017483816172663, 0.007017483816172663, 0.007017483816172663, 0.007017483816172663, 0.007017483816172663, 0.014278404761319587, 0.6971214294460377, 0.007017483816172663, 0.007017483816172663, 0.007017483816172663, 0.007017483816172663, 0.007017483816172663, 0.007017483816172663, 0.007017483816172663, 0.007017483816172663, 0.007017483816172663, 0.007017483816172663, 0.007017483816172663, 0.007017483816172663, 0.007017483816172663, 0.007017483816172663, 0.007017483816172663, 0.007017483816172663, 0.007017483816172663, 0.007017483816172663, 0.007017483816172663, 0.007017483816172663, 0.007017483816172663, 0.007017483816172663, 0.007017483816172663, 0.007017483816172663, 0.007017483816172663, 0.007017483816172663, 0.007017483816172663, 0.007017483816172663, 0.007017483816172663, 0.2675477143441246, 0.007017483816172663]\n",
      "[0.007227628555931672, 0.007227628555931672, 0.007227628555931672, 0.007227628555931672, 0.007227628555931672, 0.007227628555931672, 0.007227628555931672, 0.007227628555931672, 0.007227628555931672, 0.007227628555931672, 0.007227628555931672, 0.007227628555931672, 0.007227628555931672, 0.007227628555931672, 0.007227628555931672, 0.007227628555931672, 0.007227628555931672, 0.007571669395975067, 0.2930353374823018, 0.007227628555931672, 0.007227628555931672, 0.007227628555931672, 0.007227628555931672, 0.007227628555931672, 0.007227628555931672, 0.007227628555931672, 0.007227628555931672, 0.007227628555931672, 0.007227628555931672, 0.007227628555931672, 0.007227628555931672, 0.007227628555931672, 0.007227628555931672, 0.007227628555931672, 0.007227628555931672, 0.007227628555931672, 0.007227628555931672, 0.007227628555931672, 0.007227628555931672, 0.007227628555931672, 0.007227628555931672, 0.007227628555931672, 0.007227628555931672, 0.007227628555931672, 0.007227628555931672, 0.007227628555931672, 0.007227628555931672, 0.007227628555931672, 0.677710107453928, 0.007227628555931672]\n",
      "[0.013008620574829913, 0.020977036601920754, 0.03577809406754786, 0.006083624689469119, 0.04003495342855592, 0.0177213223031194, 0.032810267940759155, 0.03737515750529006, 0.008801256462398656, 0.014604745679669974, 0.00032929708247922445, 0.008812360169951136, 0.004309340185446877, 0.04417534003069575, 0.04043234205338116, 0.0008796518131912477, 0.04322268179912803, 0.031342673694137436, 0.002133271588625369, 0.030363896407819963, 0.022395455391994157, 0.023367636861198235, 0.01819775035627902, 0.03252272073184629, 0.02430653910491148, 0.03291583800673635, 0.008655950508512325, 0.00810510939798447, 0.02588161524222236, 0.000999280622330445, 0.01358225353832454, 0.017697363700223498, 0.015120812407801344, 0.040565434570456395, 0.02544915052850944, 0.009863186985288647, 0.027509423344439895, 0.03232910323909918, 0.007547158758751663, 0.026840573643920687, 0.0137330973554208, 0.013589245911467561, 0.028062239404371504, 0.007861935561675677, 0.0018797361719593152, 0.009343006867073357, 0.029053209224886908, 0.010767534148092067, 0.008954892719514157, 0.029706811616291292]\n",
      "[0.018231576907304856, 0.004108016811932444, 0.009730440485446417, 0.002911979150571366, 0.005294935890981849, 0.004912197830165558, 0.035005571322293275, 0.03687042546911468, 0.032884421769758886, 0.03301503774061389, 0.03807346965954647, 0.011874927661120194, 0.013904049894447173, 0.007558289843939763, 0.029612204043637697, 0.030124868864169835, 0.037200111563835174, 0.012485416180432626, 0.03069377509244291, 0.0012625228141179298, 0.023206483780120028, 0.010288225816337959, 0.014575990974524016, 0.0026405243201948233, 0.018522873111459125, 0.03831873126740897, 0.023925521093109997, 0.024091740807887785, 0.03462919978406435, 0.014899811613703384, 0.03165937240265373, 0.0064142961619927785, 0.026946351249501746, 0.03771207956873311, 0.030963619484702092, 0.014049459536842146, 0.014857643839011041, 0.000928447376184082, 0.03834386962882596, 0.009662742035482317, 0.02865248581435839, 0.032119460411465, 0.005772847996428442, 0.015823170243883456, 0.004445213004993958, 0.014823071858765994, 0.027191351832211077, 0.03808329779606488, 0.012000222427717719, 0.008697655765498594]\n",
      "[0.014176100179036156, 0.005376359488423265, 0.042251195853874046, 0.03576528224440549, 0.007345949202012338, 0.01008491737724859, 0.03922083739874247, 0.02675790736551018, 0.029196654217999413, 0.004569348744158115, 0.027995406616740177, 0.008911898850249613, 0.0392519255836613, 0.017355053938912072, 0.02332906087826004, 0.0068455589217826, 0.003022125260403936, 0.030500396991226312, 0.0041429408091964446, 0.005593705389869606, 0.02087448740020713, 0.030538693586568792, 0.019790868423478707, 0.003526165286599843, 0.02583290492930558, 0.012938308524704132, 0.017510279647540202, 0.02140040556481715, 0.012013586065313924, 0.011885557561597765, 0.023613234485816367, 0.0011164735991704986, 0.023370358146402363, 0.014619563403704813, 0.038702423931382825, 0.03875165916077576, 0.026300360502962004, 0.025585709862991395, 0.040108558330593035, 0.031234097784398077, 7.013556816481286e-05, 0.015368723286960316, 0.0050530414687425095, 0.003609315736277598, 0.033212268433122284, 0.014483902182874476, 0.0027040262510384847, 0.03314849932901637, 0.029454156531640737, 0.04148960970211988]\n",
      "[0.020931726705736994, 0.007863787507569709, 0.024240085048136992, 0.0364298337686554, 0.017814694820194495, 0.031975450679434664, 0.0018282841391351094, 0.013236778958721962, 0.039038595567151474, 0.0029819343324273607, 0.0242882727934378, 0.035943844748302624, 0.01323785543527229, 0.027691402165487, 0.03952404297811915, 0.00018765065707453888, 0.005089458836167915, 0.008124980097705646, 0.03273935051496939, 0.04167084266253221, 0.006328967706561451, 0.034846641219069635, 0.021445789072828125, 0.008825998392929989, 0.030660425568668874, 0.022130785140545773, 0.019305270413537953, 0.002258303733354918, 0.0015262345136610213, 0.04033407490075203, 0.0006021710415335737, 0.019500070800133273, 0.011445523804639599, 0.005414298063431313, 0.015234300894002795, 0.02900561213336524, 0.013749065561493128, 0.012400240355044514, 0.003443361314537467, 0.04027683897885503, 0.005431587394456189, 0.034606102611840744, 0.017751407461113828, 0.03428708458424325, 0.010842844134786804, 0.004836082312230424, 0.03960617454161183, 0.035850079433583856, 0.03700163116857896, 0.016214160332375705]\n",
      "[0.03688609822034026, 0.03068719047192541, 0.026659469172683557, 0.02074785100347826, 0.014368497270644567, 0.03575376793053525, 0.015849164787570178, 0.018818594663704988, 0.0030649279152709526, 0.030614766159416194, 0.005457506451794341, 0.004625988477312628, 0.006555724111378763, 0.021418880520085885, 0.03672380695738497, 0.02432862126406977, 0.030117319459420925, 0.03180390833064036, 0.0384242275543314, 0.03207289658717548, 0.00822103756430959, 0.01792935795776783, 0.02602420653036041, 0.0012436611440367943, 0.03090729526469189, 0.014613422291614147, 0.03673521885573431, 0.024702235143257954, 0.005466372827312998, 0.0042015067299423755, 0.005677108583859507, 0.0009296083968384035, 0.006325485003578448, 0.0367017794379333, 0.03393784050628805, 0.01875374897292349, 0.0284035418755138, 0.0065908127229664815, 0.0256880458148244, 0.02527409598412524, 0.012869054726618579, 0.004161675078229986, 0.03794270713372128, 0.01944367978214472, 0.0259355210647862, 0.02820708219547635, 0.00466719229155086, 0.012569742005089852, 0.029185020431306486, 0.0017127363740321133]\n",
      "[0.036232997894844556, 0.01726290201122793, 0.016577253284874343, 0.03123306741180678, 0.03396388429510011, 0.018305142066352306, 0.03642822358860786, 0.005373258117923638, 0.022310561750087433, 0.010079707353210817, 0.008835969165261276, 0.03644331240743537, 0.00184334795663541, 0.03227195321860719, 0.011243524965348504, 0.003915083984732971, 0.03598039646798898, 0.021650504569585102, 0.022002471604612547, 0.00823955391613921, 0.011110000454466869, 0.006444883789763651, 0.006017347371672226, 0.00575217671171759, 0.019888645585640553, 0.024593850792013868, 0.02899746848533975, 0.017102517871783143, 0.013983184682904699, 0.03695394017450543, 0.00632622449623947, 0.013342328267010524, 0.03100679149239285, 0.006007796524704236, 0.02648878413382695, 0.03036074637549901, 0.035163026979659825, 0.019095360774301087, 0.03281538764527109, 0.024799858578621624, 0.0027622461027675266, 0.00609145669934383, 0.00012593820054615314, 0.009819869908441746, 0.021333063665041146, 0.02881429647737079, 0.03435466828684705, 0.0326225240995902, 0.03312742861956244, 0.024505070722772294]\n",
      "[0.030536586764566175, 0.015342703975239838, 0.0038000331053659664, 0.0018538735120322242, 0.015633174793436476, 0.016043943222686305, 0.02848780014479291, 0.007335115739668769, 0.01880769938818698, 0.03511019401124224, 0.021274430660598986, 0.036088883812641644, 0.02476789459520344, 0.036177328852713554, 0.028583769345504863, 0.03428867315271181, 0.0017185126323764016, 0.02947715091897574, 0.02954827417738485, 0.01500017142916996, 0.030918649134537776, 0.01201385158101386, 0.026270705334916045, 0.0024963911243191966, 0.028109948417849407, 0.00853064815346193, 0.012973940431189289, 0.031021563765934908, 0.022559592956690636, 0.0049305772170552325, 0.015993055206214864, 0.029498510966272172, 0.03091318234447648, 0.007886544808101397, 0.023505486688145484, 0.026800568636041036, 0.024601310575374912, 0.010751672935554409, 0.02829378636942438, 0.027622114665000946, 0.026017078634587656, 0.0074745900165122435, 0.02590107412173053, 0.027501265568556865, 0.008174430228013186, 0.013992015575484105, 0.020260087674287493, 0.011847675494630294, 0.020227313520368842, 0.0030361536197553232]\n",
      "[0.02508195614965237, 0.0366043031718038, 0.022197506675949368, 0.00696505625508336, 0.03786809490056418, 0.03074641092925053, 0.016886996266267374, 0.0001773740331273626, 0.017969525551964478, 0.02746497307030841, 0.01988118725607205, 0.0078834175775901, 0.03412336232043877, 0.02084533143234856, 0.029892046917330505, 0.010973892925779976, 0.0281198802179282, 0.01781518177335815, 0.02607541927951537, 0.011885059990385959, 0.0030889060529683075, 0.03966832555308612, 0.01804141440083602, 0.02618331825281631, 0.03089958741930818, 0.01823967393129884, 0.033575887899289274, 0.0005792554708055299, 0.013680851031572959, 0.004575378710204771, 0.009195609400435612, 0.026833774545610627, 0.0033890230181694604, 0.013661092653752612, 0.037111554966129, 0.0037603469389309893, 0.0010573059657870802, 0.027673559884470105, 0.030984003248270445, 0.017409064448360174, 0.013600903316402896, 0.017422443205535564, 0.029868057406958685, 0.025180779976177594, 0.001866744756314414, 0.03120846533343083, 0.0025890491579872933, 0.031036116398979602, 0.03144427579548629, 0.026718254165905536]\n",
      "[0.023570790244530182, 0.02990973247319324, 0.01756575703151508, 0.018062453028446182, 0.005523071326625603, 0.03683953042076161, 0.022454059869311156, 0.03178923986686977, 0.024738157453389756, 0.01245829803091157, 0.01865132237250638, 0.0268938952788159, 0.007811790910735972, 0.02214296553103952, 0.023888628511016436, 0.007346903980049878, 0.033484156826255725, 0.030104971073681572, 0.030107738786502122, 0.007623887443079583, 0.022633654575901222, 0.02746664106882906, 0.02850094569430633, 0.03226742647143625, 0.029660393468398005, 0.02443473995944298, 0.017124702804796322, 0.009096494691083042, 0.017371798465021644, 0.003611101873219506, 0.011597159413889668, 0.002069205630983631, 0.025437913461115572, 0.03256721297649718, 0.015827916767018117, 0.009629259304399054, 0.018879896751752716, 0.031057733365224244, 4.2185411582616936e-05, 0.010900218598368995, 0.03192937837873896, 0.010819505164319745, 0.011446690788702127, 0.0016182220404645088, 0.0072227906995698445, 0.025341229075484643, 0.019861102351969775, 0.03467629991077898, 0.030597744095937605, 0.0253430862815304]\n",
      "[0.014891051574820614, 0.018701391556019516, 0.032775203369307795, 0.03463603961695409, 0.026637284758091177, 0.005404930990361538, 0.009853108870517761, 0.025131288790421803, 0.03229630380572784, 0.0037172816746250618, 0.02247432731822629, 0.001755829616801342, 0.005574078723920532, 0.01908487452146791, 0.020221135633639992, 0.035466404983220665, 0.03388726100121146, 0.03436091577026953, 0.031230126848903843, 0.0317192466145772, 0.02675000244867556, 0.03125712912627881, 0.004887125446130288, 0.0005671825827509046, 0.03344439681942622, 0.0039040491563826123, 0.00719399394063455, 0.02030521129099093, 0.0024987500276919044, 0.026258658400566685, 0.012693890438005012, 0.020427683447385155, 0.031512368399751495, 0.0026855258018295327, 0.012959179254627176, 0.030650723497640718, 0.031460711248622694, 0.03391387815587465, 0.01513046118386266, 0.036331122384872315, 0.0004411274456919415, 0.03563574278420137, 0.011117359319846178, 0.012461700946972038, 0.03290201488312488, 0.006521547564036922, 0.0021652743687628428, 0.021586005529559756, 0.030843531153203974, 0.02167556691351424]\n",
      "[0.01393149781797471, 0.02069024783419635, 0.016326604205814107, 0.03173186715055334, 0.029292123780287734, 0.0024518305188636997, 0.005247424734529253, 0.00949924675440545, 0.0245835025246073, 0.03043800548975593, 0.040954714191409, 0.03901041365504846, 0.0008014365494214792, 0.020044224231645497, 0.03849857883336574, 0.0017848361676413324, 0.0036734409596524066, 0.002444836602910523, 0.034783726050945256, 0.037690939666817115, 0.040703407955972604, 0.01860006356668502, 0.01884450158386546, 0.017203204178026944, 0.01886692536589099, 0.02971559972269404, 0.03944212259855898, 0.00011290236829719036, 0.013472114591414982, 0.02801920128755109, 0.027306391520779075, 0.029586057235908656, 0.006443538438317972, 0.0229596416695656, 0.010266915837926096, 0.010862243676796036, 0.01065551730171836, 0.02759493171346069, 0.0013240050955280439, 0.009420433625956197, 0.007462498571863618, 0.015450645466521112, 0.024447822267583207, 0.011181870858064116, 0.03073938254474406, 0.013569349843598618, 0.03666388695078659, 0.025783884419773636, 0.01115379296685159, 0.038267649055454725]\n",
      "[0.008947075553832359, 0.008164617959339827, 0.010763523408620594, 0.030571723079700346, 0.015842247243157925, 0.010682743443618949, 0.03843696921843754, 0.006091924484439168, 0.0325197238415665, 0.011711284183847778, 0.010751217155320516, 0.02274414225630171, 0.03667031054361328, 0.021417980240759336, 0.03033003336454994, 0.017992209208751206, 0.004190987306050586, 0.01999471579203306, 0.038158643690578566, 0.02330909449432357, 0.03402457321181981, 0.0098704947293036, 0.01609944125324227, 0.029651304941982547, 0.007724447615194158, 0.01823778818782371, 0.01483754895505214, 0.004660250043525068, 0.008144659459467086, 0.03519749426858195, 0.03465864814683614, 0.016401109568030734, 0.023239553337287954, 0.03385240075416532, 0.03984138529174398, 0.03715330572271746, 0.003925193260933844, 0.01133132580122454, 0.03883173957515064, 0.015308945922794102, 0.01615877256749448, 0.012137194199879464, 0.03245233223964685, 0.01437110201581005, 0.021072756766991756, 0.015465666343514374, 0.033952790441670606, 0.0011554715565096165, 0.0002501329648656307, 0.02070100438789741]\n",
      "[0.0282207068782771, 0.031797068285456205, 0.015607371018751535, 0.006401119602486965, 0.019717011245637243, 0.03704142027185073, 0.03770596237631068, 0.02856322640784037, 0.039396807285533145, 0.016646325437695616, 0.011776064027033196, 0.013421023834224825, 0.0341760465436929, 0.036113237832879036, 0.01216593674857607, 0.033035925488081624, 0.03939805921097146, 0.02431142828722822, 0.0016769378370931516, 0.0030561203025760435, 0.00291165387191609, 0.002088087763058251, 0.0393784486510924, 0.009798960403481266, 0.015601353591519554, 0.002835023532944399, 0.04215099913992566, 0.04126391196387179, 0.0002957091647548227, 0.011402057577458671, 0.0032054852291709644, 0.001979876040719556, 0.008798400721106093, 0.00811707925128318, 0.023991123286409847, 0.02037779593152389, 0.013585105858506693, 0.013505575442117656, 0.027183970676830264, 0.02515514880697519, 0.03149366068424183, 0.025959903344293683, 0.00657831093744734, 0.009228089669771004, 0.025556942505311524, 0.024569891382974076, 0.016407194955575233, 0.012626833506735826, 0.02239791719717646, 0.04132768998961072]\n",
      "[0.02464177658378267, 0.011335379902643722, 0.02093029339047068, 0.020070411164548795, 0.02437611062642838, 0.018178535932929427, 0.012054685285557728, 0.033812801663926986, 0.028401415002221535, 0.004385084620786782, 0.029972767891447327, 0.026549329165044894, 0.006925957429971858, 0.023803628202577875, 0.017535669677278872, 0.03399028616642334, 0.02468177779322589, 0.012079662025601356, 0.0351187153064122, 0.0015619673217743097, 0.026194549845682317, 0.025509269558973084, 0.012660070616922365, 0.03172829166816891, 0.010544885107066896, 0.0077920749587052475, 0.0020786543915017144, 0.029550221089331818, 0.020407200748024563, 0.009869029947011075, 0.027718785325712123, 0.017086995816565847, 0.014426163111375196, 0.021287912378110098, 0.015676956498875114, 0.031035161888725654, 0.030291370511302915, 0.03427660440979188, 0.013115900038150068, 0.0026283955175290382, 0.02783477911206432, 0.008192319997712721, 0.008292543292978417, 0.015131539028115539, 0.03428783284981196, 0.009158693038929772, 0.0204929463136814, 0.02238757491646014, 0.028069507310017876, 0.031867515559647265]\n",
      "[0.026041320826307973, 0.0319688937173483, 0.0349583648554415, 0.008310539244395787, 0.02981452329786656, 0.00027172824019123414, 0.0063787367086008085, 0.04089682556621902, 0.0221838297301296, 0.0355100736058891, 0.0011294699796633783, 0.035601959121762145, 0.000838885685143373, 0.02216870238103385, 0.026695918157524427, 0.007560768477872034, 0.0294720945560845, 0.0013617821765087694, 0.04136587161556859, 0.028421282417094892, 0.023881763341508693, 0.00876172273803159, 0.033562961236539186, 0.002608452116312589, 0.03269205693418311, 0.022297420027606603, 0.004026597397203796, 0.022549372772778506, 0.005054368198812828, 0.013681388836348838, 0.035528531213866815, 0.029950393974522132, 0.019209039097632104, 0.03532020442076901, 0.027775324644116427, 0.016763112946603976, 0.0010968065106852637, 0.01538784691635191, 0.03373814592504685, 0.0050316648816039825, 0.03013268652020407, 0.02778167820926595, 0.0011525887033642292, 0.021741824562537964, 0.002609156754438554, 0.021626168356820442, 0.0021289257529816296, 0.015075736435436705, 0.027655796440993648, 0.030226693772786813]\n",
      "[0.02278171962715366, 0.025246027276146357, 0.031773830977992884, 0.0074730007888399105, 0.024152618170292513, 0.013036659147458886, 0.036593306722168664, 0.022568649819866858, 0.005598919128439463, 0.033590287437048394, 0.007172512111076878, 9.636798705228723e-05, 0.029758666972265396, 0.004726064717690328, 0.005628445486074645, 0.038413203223040565, 0.026698230779349866, 0.004297752899691548, 0.005745798141505545, 0.014662611162734459, 0.020829135873925972, 0.026153552432778882, 0.04148757845029466, 0.006888226881583205, 0.017548704149566306, 0.02878381467664182, 0.0007506109055944145, 0.02997993346404686, 0.03188229020945992, 0.020990290602549318, 0.018457823292619205, 0.019800774631617966, 0.02871453324897773, 0.035774304883160225, 0.0111511348532254, 0.008818478218618475, 0.009493345442234102, 0.010515223526404542, 0.03625650778445205, 0.02671554347615217, 0.022916085262536266, 0.030837423306563094, 0.012487106069548238, 0.031855708706223396, 0.01583886720549217, 0.01713188827013094, 0.03936632798474863, 0.016679981260492423, 0.011271632979940294, 0.010608499374532248]\n",
      "[0.013232234469547677, 0.025535686613528178, 0.042970970113584604, 0.030612346975088443, 0.027889751828635272, 0.04101643546327314, 0.01685064828088004, 0.0008970499273029395, 0.04460215181592506, 0.04113026064103845, 0.02558077070736322, 0.035927161595438795, 0.004384473824980634, 0.020438217587950433, 0.0028994039238717643, 0.020019050113880294, 0.0018737496864749293, 0.004041487557022159, 0.03380139754018517, 0.00704320860601104, 0.042765320580106694, 0.004544201810386289, 0.007427768765036996, 0.011288545137158127, 0.026076675920402796, 0.0345224974927212, 0.009063417162251727, 0.020483809008277253, 0.006081457967699325, 0.02494511793538948, 0.03349593067945345, 0.0046075278209967785, 0.02559857597001718, 0.004609601498177298, 0.027121355590910005, 0.006991871515602197, 0.011955842106738293, 0.014105389711442736, 0.005602693378505113, 0.005072839944151889, 0.04281002884924404, 0.026442406398569956, 0.008282964345312097, 0.04111191412546957, 0.009247100979532531, 0.011380517840160469, 0.01518263039825406, 0.027451842776499334, 0.016486964408905583, 0.034496732610645287]\n",
      "[0.03018813102811681, 0.008495289350000332, 0.011274482871078574, 0.0009033453385584048, 0.028942484806341682, 0.03652845117758276, 0.03392046561060637, 0.007697790696309745, 0.004534094623410993, 0.02310199496323772, 0.03104812116441144, 0.015933221635594377, 0.03845839800600511, 0.029241810761806233, 0.029552778562724747, 0.03682259368995444, 0.02545454689661723, 0.03324719083314642, 0.025212210412679605, 0.031568919060320576, 0.0348054697119583, 0.0015146014951021853, 0.010261946983827853, 0.017460142216697064, 0.024688913674847743, 0.0005992607571826804, 0.027595426750302146, 0.027162441504043885, 0.026799295823790825, 0.020638019675237578, 0.022927849336955613, 0.012233675834080962, 0.005389296938772834, 0.01354559848165655, 0.02149852153903174, 0.026645948345547763, 0.025849779379323735, 0.01352118728753767, 0.027623142727050652, 0.0025738999603608604, 0.0026583232275136023, 0.011830262586009757, 0.011211072445658405, 0.014204629891030251, 0.007985642559910423, 0.009521319638728085, 0.03289685797193798, 0.015495942019361768, 0.0143802525553103, 0.03435495719272716]\n",
      "[0.0273730125676431, 0.020463279606646026, 0.027378492076162598, 0.0346129920757896, 0.031001950872345238, 0.029967453642483922, 0.0013053081456639664, 0.02512419972093456, 0.009668747271563924, 0.0025414053988280683, 0.01671048272106879, 0.0004062761013809334, 0.006759747740417247, 0.0023612278659726114, 0.03348262913539132, 0.02496452546977131, 0.02295132126745309, 0.03185381154996678, 0.012836082362052092, 0.030163024921356012, 0.0228840063754002, 0.03497257595173503, 0.017434462280103116, 0.03381365518582005, 0.033745534852287866, 0.023299842989750356, 0.021874666629648397, 0.00349516327475884, 0.018527739336816916, 0.03363130902572325, 0.022066299158898676, 0.012026743732795187, 0.01154402914121194, 0.023288647069136907, 0.007952751737922963, 0.028221375170673677, 0.024480130734358875, 0.025299720629191703, 0.002323558618486838, 0.026573462864127734, 0.02884406227513999, 0.020988506174331508, 0.007903387558626448, 0.028099461608422416, 0.005722212051249031, 0.01955115221565038, 0.019481675012754922, 0.0269826853996313, 0.018593866155821294, 0.004451346276633019]\n",
      "[0.016030473516313523, 0.016455790673627513, 0.004504334810323451, 0.00829034845762034, 0.02233795942356747, 0.0026216889321575114, 0.026303388619682143, 0.016938948421167492, 0.032553542893898425, 0.01926596007675167, 0.03675502315627124, 0.01484968341241198, 0.012766437279117901, 0.004711138750446501, 0.016813343585072082, 0.023683551687246857, 0.03233722860062139, 0.034594655693908724, 0.02483357483702871, 0.009277994404811215, 0.00428975771634953, 0.0101448948688531, 0.02074425911605094, 0.0051733977833385075, 0.023590020604029618, 0.019891941090414162, 0.01982311114425074, 0.02165984129903389, 0.03084001528133029, 0.03813454210994883, 0.01266145779664269, 0.017711606689099893, 0.013534111954599987, 0.010750539927488844, 0.024226264245866762, 0.03375241903087152, 0.02598662963654829, 0.024460226690285643, 0.0059828853959052, 0.027661663940486095, 0.03498183277509164, 0.018165176464234805, 0.003973431266554681, 0.020976221827422092, 0.02642985068284076, 0.02168489408861102, 0.03685729360486072, 0.03542929576205698, 0.01300913130296284, 0.021548218671923722]\n",
      "[0.005860614430668053, 0.037551087792113996, 0.006746962472427375, 0.04455003293425508, 0.02628814124705668, 0.01870016956848775, 0.016584766789677657, 0.014384871357404709, 0.042062466325896414, 0.033481743908666615, 0.011561045679962315, 0.005242653268469726, 0.020393971182280157, 0.006005014118763756, 0.018729259106679958, 0.008800793680384613, 0.030461055040894757, 0.012148172125500026, 0.0030675680069010705, 0.0013316964721251199, 0.041446378613387506, 0.015680861868611135, 0.028343924337818707, 0.029266908208672834, 0.03249589283935762, 0.04094204017627299, 0.03788366626461385, 0.014734591577333103, 0.009683329553462303, 0.01132166867648673, 0.0370674328615606, 0.00709886954560904, 3.8925423838276064e-05, 0.0442185335317455, 0.010581634567351792, 0.029040088229343525, 0.008652832182697334, 0.001717031565128632, 0.025881953697073815, 0.010991562321477986, 0.001182813911812163, 0.03946176168239858, 0.04373384237368569, 0.017053037202317343, 0.01895443012598723, 0.01562931797339493, 0.0115554487705326, 0.037407043351608715, 0.01372351864202082, 0.0002585744157827836]\n",
      "[0.03834783764929721, 0.004899340820259109, 0.008536900479656835, 0.0253814084959432, 0.03450337302037005, 0.01321544576942219, 0.00791477178655643, 0.00798436920347178, 0.020693601038595133, 0.023271315458359382, 0.011386589919855947, 0.02110491606359577, 0.023569034979798544, 0.002787504816803801, 0.002224460165736751, 0.039110777950083914, 0.012886277712440943, 0.025642599600869682, 0.03403011791187358, 0.020852954765461253, 0.01157581921384252, 0.03423270940656787, 0.007181775321234907, 0.02464592150660109, 0.03544631316182733, 0.03661959603225307, 0.0390997204185887, 0.029747001199421263, 0.023923265797595926, 0.015010377756352795, 0.02423470450626981, 0.024523787614007527, 0.038730067899186066, 0.01589417652354093, 0.03137733319477147, 0.007490167332496077, 0.01892327726266079, 0.013360847514536357, 0.03053193831547441, 0.004963230112445967, 0.002192621689818726, 0.02247984048003317, 0.03529994665964203, 0.004461239903128972, 0.011248186666285789, 0.02698233614401662, 0.027496450404494888, 0.002626676224115467, 0.01134411907468936, 0.010012955055648632]\n",
      "[0.04346040003652474, 0.017287663435486218, 0.00987473924795962, 0.019332499471538735, 0.0020556363103390652, 0.012346954324600846, 0.00834693402341206, 0.018751090413341005, 0.02907642913036365, 0.018774717196828723, 0.00012321471837197745, 0.02612852557837523, 0.01059645755110337, 0.0015642572253256957, 0.006937005420329108, 0.026297522491111124, 0.022007376310055088, 0.009119410567960163, 0.0338522874305347, 0.0396825228911991, 0.041669617030170046, 0.01914288249239023, 0.0101264860281858, 0.01970397805316946, 0.017547994481929174, 0.026195486414100463, 0.014045120550493494, 0.034356416328170665, 0.021201042498668585, 0.03235341716242258, 0.036818944473688546, 0.02560723708008644, 0.031124848355502468, 0.001654431389528469, 0.003323439918789396, 0.0016838196509462943, 0.01437451959078491, 0.012316592071516926, 0.00967237529410341, 0.030004046835743793, 0.036083614329220755, 0.03439910263877011, 0.023885297550644717, 0.0043686855735614975, 0.01782964107706849, 0.032238075445738694, 0.030223396491306675, 0.010507751103953309, 0.013154705413208345, 0.03877139090137601]\n",
      "[0.0027929239709722055, 0.0009938428547818963, 0.03288327824108522, 0.011971154376027112, 0.008629672856395453, 0.00647590052035644, 0.015057148150688654, 0.004053416799614326, 0.011937074854353347, 0.010926912652632815, 0.005589076589257522, 0.042337900082683295, 0.0334138661533269, 0.022988030026700065, 0.026926580387077445, 0.02585482026994157, 0.020071380148136152, 0.017035274002146238, 0.033791637606198265, 0.0029638237783017485, 0.037013244815490655, 0.02602437854784229, 0.014875938893945652, 0.010353722813380926, 0.011944006676107613, 0.013567177087694912, 0.015476739981285143, 0.013129729050138891, 0.035500599078778484, 0.03861640111324938, 0.03685589091102653, 0.00515227925522748, 0.011419296838659226, 0.04581037255121625, 0.01817350548307177, 0.013805139895741664, 0.034711896887969516, 0.006733121925358565, 0.0023873547813191833, 0.020318764082767518, 0.04091128121719953, 0.016711139981421198, 0.012138805819290383, 0.023805577284834352, 0.034363119753394185, 0.032668249511584396, 0.014616570934967535, 0.005943877186547321, 0.03345445535154726, 0.036823647968265524]\n"
     ]
    }
   ],
   "source": [
    "hmm.display_parameters()"
   ]
  },
  {
   "cell_type": "code",
   "execution_count": 168,
   "metadata": {},
   "outputs": [
    {
     "data": {
      "text/html": [
       "\n",
       "            <style>\n",
       "                .geemap-dark {\n",
       "                    --jp-widgets-color: white;\n",
       "                    --jp-widgets-label-color: white;\n",
       "                    --jp-ui-font-color1: white;\n",
       "                    --jp-layout-color2: #454545;\n",
       "                    background-color: #383838;\n",
       "                }\n",
       "\n",
       "                .geemap-dark .jupyter-button {\n",
       "                    --jp-layout-color3: #383838;\n",
       "                }\n",
       "\n",
       "                .geemap-colab {\n",
       "                    background-color: var(--colab-primary-surface-color, white);\n",
       "                }\n",
       "\n",
       "                .geemap-colab .jupyter-button {\n",
       "                    --jp-layout-color3: var(--colab-primary-surface-color, white);\n",
       "                }\n",
       "            </style>\n",
       "            "
      ],
      "text/plain": [
       "<IPython.core.display.HTML object>"
      ]
     },
     "metadata": {},
     "output_type": "display_data"
    },
    {
     "name": "stdout",
     "output_type": "stream",
     "text": [
      "0.15555535367621995\n",
      "['1', '1', '0']\n"
     ]
    }
   ],
   "source": [
    "obs = ['14', '14', '14']\n",
    "print(hmm.evaluate(obs))\n",
    "print(hmm.decode(obs))"
   ]
  }
 ],
 "metadata": {
  "kernelspec": {
   "display_name": "Python 3",
   "language": "python",
   "name": "python3"
  },
  "language_info": {
   "codemirror_mode": {
    "name": "ipython",
    "version": 3
   },
   "file_extension": ".py",
   "mimetype": "text/x-python",
   "name": "python",
   "nbconvert_exporter": "python",
   "pygments_lexer": "ipython3",
   "version": "3.12.2"
  }
 },
 "nbformat": 4,
 "nbformat_minor": 2
}
