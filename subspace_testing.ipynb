{
 "cells": [
  {
   "cell_type": "code",
   "execution_count": 2,
   "metadata": {},
   "outputs": [
    {
     "name": "stderr",
     "output_type": "stream",
     "text": [
      "c:\\Users\\Juanes\\miniforge3\\envs\\TemporalClusterNet\\Lib\\site-packages\\h5py\\__init__.py:36: UserWarning: h5py is running against HDF5 1.14.3 when it was built against 1.14.2, this may cause problems\n",
      "  _warn((\"h5py is running against HDF5 {0} when it was built against {1}, \"\n"
     ]
    }
   ],
   "source": [
    "# Ignore warnings (primarily for future deprecation warnings)\n",
    "import warnings\n",
    "# warnings.filterwarnings('ignore')\n",
    "\n",
    "# Raster Analysis\n",
    "import rasterio\n",
    "import earthpy.plot as ep\n",
    "from rasterio.merge import merge\n",
    "\n",
    "# Vector Analysis\n",
    "from shapely.geometry import box, mapping, Polygon\n",
    "\n",
    "# General data manipulation\n",
    "import geopandas as gpd\n",
    "import pandas as pd\n",
    "import numpy as np\n",
    "\n",
    "# Saving and Accessing Data\n",
    "import os\n",
    "import pickle\n",
    "import json\n",
    "\n",
    "# Matplotlib and associated plotting modules\n",
    "import matplotlib.pyplot as plt\n",
    "from matplotlib.colors import ListedColormap\n",
    "import matplotlib.patches as mpatches\n",
    "import folium\n",
    "import seaborn as sns\n",
    "\n",
    "# Google Earth Engine\n",
    "import ee\n",
    "import geemap\n",
    "\n",
    "# Machine learning\n",
    "\n",
    "# Keras\n",
    "import keras\n",
    "from keras import Sequential\n",
    "from keras.layers import Conv1D, Dropout, Dense, Input, GlobalMaxPooling1D\n",
    "from keras.callbacks import EarlyStopping\n",
    "from keras.utils import to_categorical\n",
    "\n",
    "from importlib import reload\n",
    "from tqdm import tqdm\n",
    "\n",
    "from sklearn.decomposition import PCA\n",
    "\n",
    "import sys\n",
    "# caution: path[0] is reserved for script path (or '' in REPL)\n",
    "sys.path.insert(1, os.path.join('src'))\n",
    "\n",
    "from split_images import split_geometry, haversine, calc_segment_count\n",
    "import feature_extraction as fe\n",
    "from sklearn.ensemble import RandomForestClassifier\n",
    "\n",
    "import sqlite3\n",
    "\n",
    "from analysis_image import AnalysisImage\n",
    "from keras.preprocessing import image"
   ]
  },
  {
   "cell_type": "code",
   "execution_count": 3,
   "metadata": {},
   "outputs": [
    {
     "data": {
      "text/html": [
       "\n",
       "            <style>\n",
       "                .geemap-dark {\n",
       "                    --jp-widgets-color: white;\n",
       "                    --jp-widgets-label-color: white;\n",
       "                    --jp-ui-font-color1: white;\n",
       "                    --jp-layout-color2: #454545;\n",
       "                    background-color: #383838;\n",
       "                }\n",
       "\n",
       "                .geemap-dark .jupyter-button {\n",
       "                    --jp-layout-color3: #383838;\n",
       "                }\n",
       "\n",
       "                .geemap-colab {\n",
       "                    background-color: var(--colab-primary-surface-color, white);\n",
       "                }\n",
       "\n",
       "                .geemap-colab .jupyter-button {\n",
       "                    --jp-layout-color3: var(--colab-primary-surface-color, white);\n",
       "                }\n",
       "            </style>\n",
       "            "
      ],
      "text/plain": [
       "<IPython.core.display.HTML object>"
      ]
     },
     "metadata": {},
     "output_type": "display_data"
    }
   ],
   "source": [
    "import eloisa\n",
    "reload(eloisa)\n",
    "from eloisa import Eloisa"
   ]
  },
  {
   "cell_type": "code",
   "execution_count": 4,
   "metadata": {},
   "outputs": [
    {
     "data": {
      "text/html": [
       "\n",
       "            <style>\n",
       "                .geemap-dark {\n",
       "                    --jp-widgets-color: white;\n",
       "                    --jp-widgets-label-color: white;\n",
       "                    --jp-ui-font-color1: white;\n",
       "                    --jp-layout-color2: #454545;\n",
       "                    background-color: #383838;\n",
       "                }\n",
       "\n",
       "                .geemap-dark .jupyter-button {\n",
       "                    --jp-layout-color3: #383838;\n",
       "                }\n",
       "\n",
       "                .geemap-colab {\n",
       "                    background-color: var(--colab-primary-surface-color, white);\n",
       "                }\n",
       "\n",
       "                .geemap-colab .jupyter-button {\n",
       "                    --jp-layout-color3: var(--colab-primary-surface-color, white);\n",
       "                }\n",
       "            </style>\n",
       "            "
      ],
      "text/plain": [
       "<IPython.core.display.HTML object>"
      ]
     },
     "metadata": {},
     "output_type": "display_data"
    }
   ],
   "source": [
    "ee.Authenticate()\n",
    "ee.Initialize()"
   ]
  },
  {
   "cell_type": "code",
   "execution_count": 4,
   "metadata": {},
   "outputs": [
    {
     "data": {
      "text/html": [
       "\n",
       "            <style>\n",
       "                .geemap-dark {\n",
       "                    --jp-widgets-color: white;\n",
       "                    --jp-widgets-label-color: white;\n",
       "                    --jp-ui-font-color1: white;\n",
       "                    --jp-layout-color2: #454545;\n",
       "                    background-color: #383838;\n",
       "                }\n",
       "\n",
       "                .geemap-dark .jupyter-button {\n",
       "                    --jp-layout-color3: #383838;\n",
       "                }\n",
       "\n",
       "                .geemap-colab {\n",
       "                    background-color: var(--colab-primary-surface-color, white);\n",
       "                }\n",
       "\n",
       "                .geemap-colab .jupyter-button {\n",
       "                    --jp-layout-color3: var(--colab-primary-surface-color, white);\n",
       "                }\n",
       "            </style>\n",
       "            "
      ],
      "text/plain": [
       "<IPython.core.display.HTML object>"
      ]
     },
     "metadata": {},
     "output_type": "display_data"
    }
   ],
   "source": [
    "tegu_200_eloisa = None"
   ]
  },
  {
   "cell_type": "code",
   "execution_count": 5,
   "metadata": {},
   "outputs": [
    {
     "data": {
      "text/html": [
       "\n",
       "            <style>\n",
       "                .geemap-dark {\n",
       "                    --jp-widgets-color: white;\n",
       "                    --jp-widgets-label-color: white;\n",
       "                    --jp-ui-font-color1: white;\n",
       "                    --jp-layout-color2: #454545;\n",
       "                    background-color: #383838;\n",
       "                }\n",
       "\n",
       "                .geemap-dark .jupyter-button {\n",
       "                    --jp-layout-color3: #383838;\n",
       "                }\n",
       "\n",
       "                .geemap-colab {\n",
       "                    background-color: var(--colab-primary-surface-color, white);\n",
       "                }\n",
       "\n",
       "                .geemap-colab .jupyter-button {\n",
       "                    --jp-layout-color3: var(--colab-primary-surface-color, white);\n",
       "                }\n",
       "            </style>\n",
       "            "
      ],
      "text/plain": [
       "<IPython.core.display.HTML object>"
      ]
     },
     "metadata": {},
     "output_type": "display_data"
    }
   ],
   "source": [
    "# Load eloisa_databases/tegu_200x200_flatten.pkl\n",
    "with open('eloisa_databases/tegu_200x200_flatten.pkl', 'rb') as f:\n",
    "    tegu_200_eloisa = pickle.load(f)\n",
    "\n",
    "tegu_200_eloisa._database = sqlite3.connect(tegu_200_eloisa.db_path)"
   ]
  },
  {
   "cell_type": "code",
   "execution_count": 6,
   "metadata": {},
   "outputs": [
    {
     "data": {
      "text/html": [
       "\n",
       "            <style>\n",
       "                .geemap-dark {\n",
       "                    --jp-widgets-color: white;\n",
       "                    --jp-widgets-label-color: white;\n",
       "                    --jp-ui-font-color1: white;\n",
       "                    --jp-layout-color2: #454545;\n",
       "                    background-color: #383838;\n",
       "                }\n",
       "\n",
       "                .geemap-dark .jupyter-button {\n",
       "                    --jp-layout-color3: #383838;\n",
       "                }\n",
       "\n",
       "                .geemap-colab {\n",
       "                    background-color: var(--colab-primary-surface-color, white);\n",
       "                }\n",
       "\n",
       "                .geemap-colab .jupyter-button {\n",
       "                    --jp-layout-color3: var(--colab-primary-surface-color, white);\n",
       "                }\n",
       "            </style>\n",
       "            "
      ],
      "text/plain": [
       "<IPython.core.display.HTML object>"
      ]
     },
     "metadata": {},
     "output_type": "display_data"
    }
   ],
   "source": [
    "from tensorflow.keras.applications import ResNet152V2 as resnet\n",
    "from tensorflow.keras.applications.resnet_v2 import preprocess_input as resnet_p"
   ]
  },
  {
   "cell_type": "code",
   "execution_count": 7,
   "metadata": {},
   "outputs": [
    {
     "data": {
      "text/html": [
       "\n",
       "            <style>\n",
       "                .geemap-dark {\n",
       "                    --jp-widgets-color: white;\n",
       "                    --jp-widgets-label-color: white;\n",
       "                    --jp-ui-font-color1: white;\n",
       "                    --jp-layout-color2: #454545;\n",
       "                    background-color: #383838;\n",
       "                }\n",
       "\n",
       "                .geemap-dark .jupyter-button {\n",
       "                    --jp-layout-color3: #383838;\n",
       "                }\n",
       "\n",
       "                .geemap-colab {\n",
       "                    background-color: var(--colab-primary-surface-color, white);\n",
       "                }\n",
       "\n",
       "                .geemap-colab .jupyter-button {\n",
       "                    --jp-layout-color3: var(--colab-primary-surface-color, white);\n",
       "                }\n",
       "            </style>\n",
       "            "
      ],
      "text/plain": [
       "<IPython.core.display.HTML object>"
      ]
     },
     "metadata": {},
     "output_type": "display_data"
    }
   ],
   "source": [
    "SEED = 2024\n",
    "keras.utils.set_random_seed(SEED)\n",
    "FEATURES = ['B1', 'B2', 'B3', 'B4', 'B5', 'B6', 'B7', 'B8', 'B8A', 'B11', 'B12']\n",
    "# FEATURES = ['B2', 'B3', 'B4']\n",
    "years = [2018, 2019, 2020, 2021, 2022, 2023]"
   ]
  },
  {
   "cell_type": "code",
   "execution_count": null,
   "metadata": {},
   "outputs": [],
   "source": [
    "subspace_cluster = tegu_200_eloisa.subspace_clustering(years=years, model=resnet, algorithm=\"spams\", n_clusters=50, sample_fraction=0.05)"
   ]
  },
  {
   "cell_type": "code",
   "execution_count": 26,
   "metadata": {},
   "outputs": [
    {
     "data": {
      "text/html": [
       "\n",
       "            <style>\n",
       "                .geemap-dark {\n",
       "                    --jp-widgets-color: white;\n",
       "                    --jp-widgets-label-color: white;\n",
       "                    --jp-ui-font-color1: white;\n",
       "                    --jp-layout-color2: #454545;\n",
       "                    background-color: #383838;\n",
       "                }\n",
       "\n",
       "                .geemap-dark .jupyter-button {\n",
       "                    --jp-layout-color3: #383838;\n",
       "                }\n",
       "\n",
       "                .geemap-colab {\n",
       "                    background-color: var(--colab-primary-surface-color, white);\n",
       "                }\n",
       "\n",
       "                .geemap-colab .jupyter-button {\n",
       "                    --jp-layout-color3: var(--colab-primary-surface-color, white);\n",
       "                }\n",
       "            </style>\n",
       "            "
      ],
      "text/plain": [
       "<IPython.core.display.HTML object>"
      ]
     },
     "metadata": {},
     "output_type": "display_data"
    }
   ],
   "source": [
    "# Save subspace_cluster as pickle file\n",
    "with open('subspace_cluster.pkl', 'wb') as f:\n",
    "    pickle.dump(subspace_cluster, f)"
   ]
  },
  {
   "cell_type": "code",
   "execution_count": 8,
   "metadata": {},
   "outputs": [
    {
     "data": {
      "text/html": [
       "\n",
       "            <style>\n",
       "                .geemap-dark {\n",
       "                    --jp-widgets-color: white;\n",
       "                    --jp-widgets-label-color: white;\n",
       "                    --jp-ui-font-color1: white;\n",
       "                    --jp-layout-color2: #454545;\n",
       "                    background-color: #383838;\n",
       "                }\n",
       "\n",
       "                .geemap-dark .jupyter-button {\n",
       "                    --jp-layout-color3: #383838;\n",
       "                }\n",
       "\n",
       "                .geemap-colab {\n",
       "                    background-color: var(--colab-primary-surface-color, white);\n",
       "                }\n",
       "\n",
       "                .geemap-colab .jupyter-button {\n",
       "                    --jp-layout-color3: var(--colab-primary-surface-color, white);\n",
       "                }\n",
       "            </style>\n",
       "            "
      ],
      "text/plain": [
       "<IPython.core.display.HTML object>"
      ]
     },
     "metadata": {},
     "output_type": "display_data"
    }
   ],
   "source": [
    "# Open subspace_cluster.pkl\n",
    "with open('subspace_cluster_10.pkl', 'rb') as f:\n",
    "    subspace_cluster = pickle.load(f)"
   ]
  },
  {
   "cell_type": "code",
   "execution_count": 9,
   "metadata": {},
   "outputs": [
    {
     "data": {
      "text/html": [
       "\n",
       "            <style>\n",
       "                .geemap-dark {\n",
       "                    --jp-widgets-color: white;\n",
       "                    --jp-widgets-label-color: white;\n",
       "                    --jp-ui-font-color1: white;\n",
       "                    --jp-layout-color2: #454545;\n",
       "                    background-color: #383838;\n",
       "                }\n",
       "\n",
       "                .geemap-dark .jupyter-button {\n",
       "                    --jp-layout-color3: #383838;\n",
       "                }\n",
       "\n",
       "                .geemap-colab {\n",
       "                    background-color: var(--colab-primary-surface-color, white);\n",
       "                }\n",
       "\n",
       "                .geemap-colab .jupyter-button {\n",
       "                    --jp-layout-color3: var(--colab-primary-surface-color, white);\n",
       "                }\n",
       "            </style>\n",
       "            "
      ],
      "text/plain": [
       "<IPython.core.display.HTML object>"
      ]
     },
     "metadata": {},
     "output_type": "display_data"
    }
   ],
   "source": [
    "sampled_labels = subspace_cluster.labels_"
   ]
  },
  {
   "cell_type": "code",
   "execution_count": 10,
   "metadata": {},
   "outputs": [
    {
     "data": {
      "text/html": [
       "\n",
       "            <style>\n",
       "                .geemap-dark {\n",
       "                    --jp-widgets-color: white;\n",
       "                    --jp-widgets-label-color: white;\n",
       "                    --jp-ui-font-color1: white;\n",
       "                    --jp-layout-color2: #454545;\n",
       "                    background-color: #383838;\n",
       "                }\n",
       "\n",
       "                .geemap-dark .jupyter-button {\n",
       "                    --jp-layout-color3: #383838;\n",
       "                }\n",
       "\n",
       "                .geemap-colab {\n",
       "                    background-color: var(--colab-primary-surface-color, white);\n",
       "                }\n",
       "\n",
       "                .geemap-colab .jupyter-button {\n",
       "                    --jp-layout-color3: var(--colab-primary-surface-color, white);\n",
       "                }\n",
       "            </style>\n",
       "            "
      ],
      "text/plain": [
       "<IPython.core.display.HTML object>"
      ]
     },
     "metadata": {},
     "output_type": "display_data"
    }
   ],
   "source": [
    "# Collect data from all specified years\n",
    "data_list = [tegu_200_eloisa._data[year][resnet.__name__ + \"_reduced\"] for year in years]\n",
    "concatenated_data = pd.concat(data_list, axis=0)\n",
    "\n",
    "# Sample a subset of the data\n",
    "sampled_data = concatenated_data.sample(frac=0.1, random_state=tegu_200_eloisa._seed)"
   ]
  },
  {
   "cell_type": "code",
   "execution_count": 11,
   "metadata": {},
   "outputs": [
    {
     "data": {
      "text/html": [
       "\n",
       "            <style>\n",
       "                .geemap-dark {\n",
       "                    --jp-widgets-color: white;\n",
       "                    --jp-widgets-label-color: white;\n",
       "                    --jp-ui-font-color1: white;\n",
       "                    --jp-layout-color2: #454545;\n",
       "                    background-color: #383838;\n",
       "                }\n",
       "\n",
       "                .geemap-dark .jupyter-button {\n",
       "                    --jp-layout-color3: #383838;\n",
       "                }\n",
       "\n",
       "                .geemap-colab {\n",
       "                    background-color: var(--colab-primary-surface-color, white);\n",
       "                }\n",
       "\n",
       "                .geemap-colab .jupyter-button {\n",
       "                    --jp-layout-color3: var(--colab-primary-surface-color, white);\n",
       "                }\n",
       "            </style>\n",
       "            "
      ],
      "text/plain": [
       "<IPython.core.display.HTML object>"
      ]
     },
     "metadata": {},
     "output_type": "display_data"
    }
   ],
   "source": [
    "from sklearn.model_selection import train_test_split"
   ]
  },
  {
   "cell_type": "code",
   "execution_count": 12,
   "metadata": {},
   "outputs": [
    {
     "data": {
      "text/html": [
       "\n",
       "            <style>\n",
       "                .geemap-dark {\n",
       "                    --jp-widgets-color: white;\n",
       "                    --jp-widgets-label-color: white;\n",
       "                    --jp-ui-font-color1: white;\n",
       "                    --jp-layout-color2: #454545;\n",
       "                    background-color: #383838;\n",
       "                }\n",
       "\n",
       "                .geemap-dark .jupyter-button {\n",
       "                    --jp-layout-color3: #383838;\n",
       "                }\n",
       "\n",
       "                .geemap-colab {\n",
       "                    background-color: var(--colab-primary-surface-color, white);\n",
       "                }\n",
       "\n",
       "                .geemap-colab .jupyter-button {\n",
       "                    --jp-layout-color3: var(--colab-primary-surface-color, white);\n",
       "                }\n",
       "            </style>\n",
       "            "
      ],
      "text/plain": [
       "<IPython.core.display.HTML object>"
      ]
     },
     "metadata": {},
     "output_type": "display_data"
    }
   ],
   "source": [
    "from sklearn.metrics import accuracy_score"
   ]
  },
  {
   "cell_type": "code",
   "execution_count": 17,
   "metadata": {},
   "outputs": [
    {
     "data": {
      "text/html": [
       "\n",
       "            <style>\n",
       "                .geemap-dark {\n",
       "                    --jp-widgets-color: white;\n",
       "                    --jp-widgets-label-color: white;\n",
       "                    --jp-ui-font-color1: white;\n",
       "                    --jp-layout-color2: #454545;\n",
       "                    background-color: #383838;\n",
       "                }\n",
       "\n",
       "                .geemap-dark .jupyter-button {\n",
       "                    --jp-layout-color3: #383838;\n",
       "                }\n",
       "\n",
       "                .geemap-colab {\n",
       "                    background-color: var(--colab-primary-surface-color, white);\n",
       "                }\n",
       "\n",
       "                .geemap-colab .jupyter-button {\n",
       "                    --jp-layout-color3: var(--colab-primary-surface-color, white);\n",
       "                }\n",
       "            </style>\n",
       "            "
      ],
      "text/plain": [
       "<IPython.core.display.HTML object>"
      ]
     },
     "metadata": {},
     "output_type": "display_data"
    }
   ],
   "source": [
    "# Split the sampled_data and sampled_labels into training and testing sets\n",
    "X_train, X_test, y_train, y_test = train_test_split(sampled_data, sampled_labels, test_size=0.2, random_state=tegu_200_eloisa._seed)"
   ]
  },
  {
   "cell_type": "code",
   "execution_count": 21,
   "metadata": {},
   "outputs": [
    {
     "data": {
      "text/html": [
       "\n",
       "            <style>\n",
       "                .geemap-dark {\n",
       "                    --jp-widgets-color: white;\n",
       "                    --jp-widgets-label-color: white;\n",
       "                    --jp-ui-font-color1: white;\n",
       "                    --jp-layout-color2: #454545;\n",
       "                    background-color: #383838;\n",
       "                }\n",
       "\n",
       "                .geemap-dark .jupyter-button {\n",
       "                    --jp-layout-color3: #383838;\n",
       "                }\n",
       "\n",
       "                .geemap-colab {\n",
       "                    background-color: var(--colab-primary-surface-color, white);\n",
       "                }\n",
       "\n",
       "                .geemap-colab .jupyter-button {\n",
       "                    --jp-layout-color3: var(--colab-primary-surface-color, white);\n",
       "                }\n",
       "            </style>\n",
       "            "
      ],
      "text/plain": [
       "<IPython.core.display.HTML object>"
      ]
     },
     "metadata": {},
     "output_type": "display_data"
    },
    {
     "data": {
      "text/html": [
       "<style>#sk-container-id-2 {color: black;}#sk-container-id-2 pre{padding: 0;}#sk-container-id-2 div.sk-toggleable {background-color: white;}#sk-container-id-2 label.sk-toggleable__label {cursor: pointer;display: block;width: 100%;margin-bottom: 0;padding: 0.3em;box-sizing: border-box;text-align: center;}#sk-container-id-2 label.sk-toggleable__label-arrow:before {content: \"▸\";float: left;margin-right: 0.25em;color: #696969;}#sk-container-id-2 label.sk-toggleable__label-arrow:hover:before {color: black;}#sk-container-id-2 div.sk-estimator:hover label.sk-toggleable__label-arrow:before {color: black;}#sk-container-id-2 div.sk-toggleable__content {max-height: 0;max-width: 0;overflow: hidden;text-align: left;background-color: #f0f8ff;}#sk-container-id-2 div.sk-toggleable__content pre {margin: 0.2em;color: black;border-radius: 0.25em;background-color: #f0f8ff;}#sk-container-id-2 input.sk-toggleable__control:checked~div.sk-toggleable__content {max-height: 200px;max-width: 100%;overflow: auto;}#sk-container-id-2 input.sk-toggleable__control:checked~label.sk-toggleable__label-arrow:before {content: \"▾\";}#sk-container-id-2 div.sk-estimator input.sk-toggleable__control:checked~label.sk-toggleable__label {background-color: #d4ebff;}#sk-container-id-2 div.sk-label input.sk-toggleable__control:checked~label.sk-toggleable__label {background-color: #d4ebff;}#sk-container-id-2 input.sk-hidden--visually {border: 0;clip: rect(1px 1px 1px 1px);clip: rect(1px, 1px, 1px, 1px);height: 1px;margin: -1px;overflow: hidden;padding: 0;position: absolute;width: 1px;}#sk-container-id-2 div.sk-estimator {font-family: monospace;background-color: #f0f8ff;border: 1px dotted black;border-radius: 0.25em;box-sizing: border-box;margin-bottom: 0.5em;}#sk-container-id-2 div.sk-estimator:hover {background-color: #d4ebff;}#sk-container-id-2 div.sk-parallel-item::after {content: \"\";width: 100%;border-bottom: 1px solid gray;flex-grow: 1;}#sk-container-id-2 div.sk-label:hover label.sk-toggleable__label {background-color: #d4ebff;}#sk-container-id-2 div.sk-serial::before {content: \"\";position: absolute;border-left: 1px solid gray;box-sizing: border-box;top: 0;bottom: 0;left: 50%;z-index: 0;}#sk-container-id-2 div.sk-serial {display: flex;flex-direction: column;align-items: center;background-color: white;padding-right: 0.2em;padding-left: 0.2em;position: relative;}#sk-container-id-2 div.sk-item {position: relative;z-index: 1;}#sk-container-id-2 div.sk-parallel {display: flex;align-items: stretch;justify-content: center;background-color: white;position: relative;}#sk-container-id-2 div.sk-item::before, #sk-container-id-2 div.sk-parallel-item::before {content: \"\";position: absolute;border-left: 1px solid gray;box-sizing: border-box;top: 0;bottom: 0;left: 50%;z-index: -1;}#sk-container-id-2 div.sk-parallel-item {display: flex;flex-direction: column;z-index: 1;position: relative;background-color: white;}#sk-container-id-2 div.sk-parallel-item:first-child::after {align-self: flex-end;width: 50%;}#sk-container-id-2 div.sk-parallel-item:last-child::after {align-self: flex-start;width: 50%;}#sk-container-id-2 div.sk-parallel-item:only-child::after {width: 0;}#sk-container-id-2 div.sk-dashed-wrapped {border: 1px dashed gray;margin: 0 0.4em 0.5em 0.4em;box-sizing: border-box;padding-bottom: 0.4em;background-color: white;}#sk-container-id-2 div.sk-label label {font-family: monospace;font-weight: bold;display: inline-block;line-height: 1.2em;}#sk-container-id-2 div.sk-label-container {text-align: center;}#sk-container-id-2 div.sk-container {/* jupyter's `normalize.less` sets `[hidden] { display: none; }` but bootstrap.min.css set `[hidden] { display: none !important; }` so we also need the `!important` here to be able to override the default hidden behavior on the sphinx rendered scikit-learn.org. See: https://github.com/scikit-learn/scikit-learn/issues/21755 */display: inline-block !important;position: relative;}#sk-container-id-2 div.sk-text-repr-fallback {display: none;}</style><div id=\"sk-container-id-2\" class=\"sk-top-container\"><div class=\"sk-text-repr-fallback\"><pre>RandomForestClassifier(n_estimators=500, random_state=2024)</pre><b>In a Jupyter environment, please rerun this cell to show the HTML representation or trust the notebook. <br />On GitHub, the HTML representation is unable to render, please try loading this page with nbviewer.org.</b></div><div class=\"sk-container\" hidden><div class=\"sk-item\"><div class=\"sk-estimator sk-toggleable\"><input class=\"sk-toggleable__control sk-hidden--visually\" id=\"sk-estimator-id-2\" type=\"checkbox\" checked><label for=\"sk-estimator-id-2\" class=\"sk-toggleable__label sk-toggleable__label-arrow\">RandomForestClassifier</label><div class=\"sk-toggleable__content\"><pre>RandomForestClassifier(n_estimators=500, random_state=2024)</pre></div></div></div></div></div>"
      ],
      "text/plain": [
       "RandomForestClassifier(n_estimators=500, random_state=2024)"
      ]
     },
     "execution_count": 21,
     "metadata": {},
     "output_type": "execute_result"
    }
   ],
   "source": [
    "# Train a random forest classifier\n",
    "clf = RandomForestClassifier(n_estimators=500, random_state=tegu_200_eloisa._seed)\n",
    "clf.fit(X_train, y_train)"
   ]
  },
  {
   "cell_type": "code",
   "execution_count": 22,
   "metadata": {},
   "outputs": [
    {
     "data": {
      "text/html": [
       "\n",
       "            <style>\n",
       "                .geemap-dark {\n",
       "                    --jp-widgets-color: white;\n",
       "                    --jp-widgets-label-color: white;\n",
       "                    --jp-ui-font-color1: white;\n",
       "                    --jp-layout-color2: #454545;\n",
       "                    background-color: #383838;\n",
       "                }\n",
       "\n",
       "                .geemap-dark .jupyter-button {\n",
       "                    --jp-layout-color3: #383838;\n",
       "                }\n",
       "\n",
       "                .geemap-colab {\n",
       "                    background-color: var(--colab-primary-surface-color, white);\n",
       "                }\n",
       "\n",
       "                .geemap-colab .jupyter-button {\n",
       "                    --jp-layout-color3: var(--colab-primary-surface-color, white);\n",
       "                }\n",
       "            </style>\n",
       "            "
      ],
      "text/plain": [
       "<IPython.core.display.HTML object>"
      ]
     },
     "metadata": {},
     "output_type": "display_data"
    }
   ],
   "source": [
    "y_pred = clf.predict(X_test)"
   ]
  },
  {
   "cell_type": "code",
   "execution_count": 23,
   "metadata": {},
   "outputs": [
    {
     "data": {
      "text/html": [
       "\n",
       "            <style>\n",
       "                .geemap-dark {\n",
       "                    --jp-widgets-color: white;\n",
       "                    --jp-widgets-label-color: white;\n",
       "                    --jp-ui-font-color1: white;\n",
       "                    --jp-layout-color2: #454545;\n",
       "                    background-color: #383838;\n",
       "                }\n",
       "\n",
       "                .geemap-dark .jupyter-button {\n",
       "                    --jp-layout-color3: #383838;\n",
       "                }\n",
       "\n",
       "                .geemap-colab {\n",
       "                    background-color: var(--colab-primary-surface-color, white);\n",
       "                }\n",
       "\n",
       "                .geemap-colab .jupyter-button {\n",
       "                    --jp-layout-color3: var(--colab-primary-surface-color, white);\n",
       "                }\n",
       "            </style>\n",
       "            "
      ],
      "text/plain": [
       "<IPython.core.display.HTML object>"
      ]
     },
     "metadata": {},
     "output_type": "display_data"
    },
    {
     "data": {
      "text/plain": [
       "0.28365384615384615"
      ]
     },
     "execution_count": 23,
     "metadata": {},
     "output_type": "execute_result"
    }
   ],
   "source": [
    "accuracy_score(y_test, y_pred)"
   ]
  },
  {
   "cell_type": "code",
   "execution_count": null,
   "metadata": {},
   "outputs": [],
   "source": [
    "# Train a classifier on the sampled data to predict cluster labels\n",
    "classifier = RandomForestClassifier(random_state=tegu_200_eloisa._seed)\n",
    "classifier.fit(sampled_data, sampled_labels)\n",
    "\n",
    "# Predict cluster labels for the entire dataset\n",
    "cluster_labels = classifier.predict(concatenated_data)"
   ]
  },
  {
   "cell_type": "code",
   "execution_count": 13,
   "metadata": {},
   "outputs": [
    {
     "data": {
      "text/html": [
       "\n",
       "            <style>\n",
       "                .geemap-dark {\n",
       "                    --jp-widgets-color: white;\n",
       "                    --jp-widgets-label-color: white;\n",
       "                    --jp-ui-font-color1: white;\n",
       "                    --jp-layout-color2: #454545;\n",
       "                    background-color: #383838;\n",
       "                }\n",
       "\n",
       "                .geemap-dark .jupyter-button {\n",
       "                    --jp-layout-color3: #383838;\n",
       "                }\n",
       "\n",
       "                .geemap-colab {\n",
       "                    background-color: var(--colab-primary-surface-color, white);\n",
       "                }\n",
       "\n",
       "                .geemap-colab .jupyter-button {\n",
       "                    --jp-layout-color3: var(--colab-primary-surface-color, white);\n",
       "                }\n",
       "            </style>\n",
       "            "
      ],
      "text/plain": [
       "<IPython.core.display.HTML object>"
      ]
     },
     "metadata": {},
     "output_type": "display_data"
    }
   ],
   "source": [
    "# Train an xgboost classifier\n",
    "import xgboost as xgb\n",
    "from xgboost import XGBClassifier\n",
    "from skopt import BayesSearchCV\n",
    "from skopt.callbacks import DeadlineStopper, CheckpointSaver\n",
    "from skopt import load\n",
    "from skopt.space import Real, Categorical, Integer\n",
    "from sklearn.metrics import accuracy_score\n",
    "from skopt.plots import plot_objective, plot_histogram\n"
   ]
  },
  {
   "cell_type": "code",
   "execution_count": 57,
   "metadata": {},
   "outputs": [
    {
     "data": {
      "text/html": [
       "\n",
       "            <style>\n",
       "                .geemap-dark {\n",
       "                    --jp-widgets-color: white;\n",
       "                    --jp-widgets-label-color: white;\n",
       "                    --jp-ui-font-color1: white;\n",
       "                    --jp-layout-color2: #454545;\n",
       "                    background-color: #383838;\n",
       "                }\n",
       "\n",
       "                .geemap-dark .jupyter-button {\n",
       "                    --jp-layout-color3: #383838;\n",
       "                }\n",
       "\n",
       "                .geemap-colab {\n",
       "                    background-color: var(--colab-primary-surface-color, white);\n",
       "                }\n",
       "\n",
       "                .geemap-colab .jupyter-button {\n",
       "                    --jp-layout-color3: var(--colab-primary-surface-color, white);\n",
       "                }\n",
       "            </style>\n",
       "            "
      ],
      "text/plain": [
       "<IPython.core.display.HTML object>"
      ]
     },
     "metadata": {},
     "output_type": "display_data"
    }
   ],
   "source": [
    "# Split the sampled_data and sampled_labels into training and testing sets\n",
    "X_full, X_test, y_full, y_test = train_test_split(sampled_data, sampled_labels, test_size=0.2, random_state=tegu_200_eloisa._seed)\n",
    "\n",
    "# Create validation set from the training set\n",
    "X_train, X_val, y_train, y_val = train_test_split(X_full, y_full, test_size=0.25, random_state=tegu_200_eloisa._seed)\n",
    "\n",
    "xgb_clf = XGBClassifier(random_state=tegu_200_eloisa._seed, \n",
    "                        early_stopping_rounds=10, \n",
    "                        eval_metric='mlogloss',\n",
    "                        device='cuda')\n",
    "\n",
    "# Define the search space\n",
    "search_spaces = {\n",
    "    'n_estimators': Integer(100, 500),  # Reduced upper limit\n",
    "    'learning_rate': Real(0.01, 0.3, 'log-uniform'),  # Reduced upper limit\n",
    "    'max_depth': Integer(1, 6),  # Reduced upper limit\n",
    "    'subsample': Real(0.5, 1.0, 'uniform'),  # Reduced lower limit\n",
    "    'colsample_bytree': Real(0.5, 1.0, 'uniform')  # Reduced lower limit\n",
    "}\n",
    "\n",
    "# Set up the BayesSearchCV object\n",
    "opt = BayesSearchCV(estimator=xgb_clf, \n",
    "                    search_spaces=search_spaces, \n",
    "                    n_iter=5, \n",
    "                    cv=5, \n",
    "                    n_jobs=-1, \n",
    "                    random_state=tegu_200_eloisa._seed,\n",
    "                    scoring='accuracy')\n",
    "\n",
    "deadline = DeadlineStopper(total_time=60*60*12) # 18 hours\n",
    "\n",
    "checkpoint_saver = CheckpointSaver(\"xgb_optimization_checkpoint.pkl\")"
   ]
  },
  {
   "cell_type": "code",
   "execution_count": 58,
   "metadata": {},
   "outputs": [
    {
     "data": {
      "text/html": [
       "\n",
       "            <style>\n",
       "                .geemap-dark {\n",
       "                    --jp-widgets-color: white;\n",
       "                    --jp-widgets-label-color: white;\n",
       "                    --jp-ui-font-color1: white;\n",
       "                    --jp-layout-color2: #454545;\n",
       "                    background-color: #383838;\n",
       "                }\n",
       "\n",
       "                .geemap-dark .jupyter-button {\n",
       "                    --jp-layout-color3: #383838;\n",
       "                }\n",
       "\n",
       "                .geemap-colab {\n",
       "                    background-color: var(--colab-primary-surface-color, white);\n",
       "                }\n",
       "\n",
       "                .geemap-colab .jupyter-button {\n",
       "                    --jp-layout-color3: var(--colab-primary-surface-color, white);\n",
       "                }\n",
       "            </style>\n",
       "            "
      ],
      "text/plain": [
       "<IPython.core.display.HTML object>"
      ]
     },
     "metadata": {},
     "output_type": "display_data"
    },
    {
     "name": "stdout",
     "output_type": "stream",
     "text": [
      "[0]\tvalidation_0-mlogloss:3.77103\tvalidation_1-mlogloss:3.86063\n",
      "[1]\tvalidation_0-mlogloss:3.64590\tvalidation_1-mlogloss:3.81556\n",
      "[2]\tvalidation_0-mlogloss:3.51842\tvalidation_1-mlogloss:3.77801\n",
      "[3]\tvalidation_0-mlogloss:3.38952\tvalidation_1-mlogloss:3.74100\n",
      "[4]\tvalidation_0-mlogloss:3.26561\tvalidation_1-mlogloss:3.70557\n",
      "[5]\tvalidation_0-mlogloss:3.14402\tvalidation_1-mlogloss:3.66846\n",
      "[6]\tvalidation_0-mlogloss:3.03191\tvalidation_1-mlogloss:3.64899\n",
      "[7]\tvalidation_0-mlogloss:2.92367\tvalidation_1-mlogloss:3.62189\n",
      "[8]\tvalidation_0-mlogloss:2.81993\tvalidation_1-mlogloss:3.60405\n",
      "[9]\tvalidation_0-mlogloss:2.72076\tvalidation_1-mlogloss:3.57588\n",
      "[10]\tvalidation_0-mlogloss:2.62785\tvalidation_1-mlogloss:3.55461\n",
      "[11]\tvalidation_0-mlogloss:2.53568\tvalidation_1-mlogloss:3.53586\n",
      "[12]\tvalidation_0-mlogloss:2.44727\tvalidation_1-mlogloss:3.51348\n",
      "[13]\tvalidation_0-mlogloss:2.36372\tvalidation_1-mlogloss:3.49469\n",
      "[14]\tvalidation_0-mlogloss:2.28539\tvalidation_1-mlogloss:3.47589\n",
      "[15]\tvalidation_0-mlogloss:2.20995\tvalidation_1-mlogloss:3.45667\n",
      "[16]\tvalidation_0-mlogloss:2.13361\tvalidation_1-mlogloss:3.44171\n",
      "[17]\tvalidation_0-mlogloss:2.06325\tvalidation_1-mlogloss:3.42367\n",
      "[18]\tvalidation_0-mlogloss:1.99486\tvalidation_1-mlogloss:3.40759\n",
      "[19]\tvalidation_0-mlogloss:1.93049\tvalidation_1-mlogloss:3.39648\n",
      "[20]\tvalidation_0-mlogloss:1.86709\tvalidation_1-mlogloss:3.38228\n",
      "[21]\tvalidation_0-mlogloss:1.80613\tvalidation_1-mlogloss:3.36938\n",
      "[22]\tvalidation_0-mlogloss:1.74925\tvalidation_1-mlogloss:3.35751\n",
      "[23]\tvalidation_0-mlogloss:1.69448\tvalidation_1-mlogloss:3.34592\n",
      "[24]\tvalidation_0-mlogloss:1.64166\tvalidation_1-mlogloss:3.33492\n",
      "[25]\tvalidation_0-mlogloss:1.59203\tvalidation_1-mlogloss:3.32466\n",
      "[26]\tvalidation_0-mlogloss:1.54187\tvalidation_1-mlogloss:3.31203\n",
      "[27]\tvalidation_0-mlogloss:1.49487\tvalidation_1-mlogloss:3.30244\n",
      "[28]\tvalidation_0-mlogloss:1.44961\tvalidation_1-mlogloss:3.28874\n",
      "[29]\tvalidation_0-mlogloss:1.40627\tvalidation_1-mlogloss:3.27753\n",
      "[30]\tvalidation_0-mlogloss:1.36434\tvalidation_1-mlogloss:3.26662\n",
      "[31]\tvalidation_0-mlogloss:1.32506\tvalidation_1-mlogloss:3.25613\n",
      "[32]\tvalidation_0-mlogloss:1.28689\tvalidation_1-mlogloss:3.24524\n",
      "[33]\tvalidation_0-mlogloss:1.25044\tvalidation_1-mlogloss:3.23325\n",
      "[34]\tvalidation_0-mlogloss:1.21471\tvalidation_1-mlogloss:3.22301\n",
      "[35]\tvalidation_0-mlogloss:1.18048\tvalidation_1-mlogloss:3.21419\n",
      "[36]\tvalidation_0-mlogloss:1.14759\tvalidation_1-mlogloss:3.20678\n",
      "[37]\tvalidation_0-mlogloss:1.11648\tvalidation_1-mlogloss:3.19828\n",
      "[38]\tvalidation_0-mlogloss:1.08548\tvalidation_1-mlogloss:3.18823\n",
      "[39]\tvalidation_0-mlogloss:1.05547\tvalidation_1-mlogloss:3.17988\n",
      "[40]\tvalidation_0-mlogloss:1.02612\tvalidation_1-mlogloss:3.17204\n",
      "[41]\tvalidation_0-mlogloss:0.99818\tvalidation_1-mlogloss:3.16288\n",
      "[42]\tvalidation_0-mlogloss:0.97099\tvalidation_1-mlogloss:3.15602\n",
      "[43]\tvalidation_0-mlogloss:0.94507\tvalidation_1-mlogloss:3.14877\n",
      "[44]\tvalidation_0-mlogloss:0.91912\tvalidation_1-mlogloss:3.14257\n",
      "[45]\tvalidation_0-mlogloss:0.89468\tvalidation_1-mlogloss:3.13473\n",
      "[46]\tvalidation_0-mlogloss:0.87064\tvalidation_1-mlogloss:3.12895\n",
      "[47]\tvalidation_0-mlogloss:0.84839\tvalidation_1-mlogloss:3.12087\n",
      "[48]\tvalidation_0-mlogloss:0.82676\tvalidation_1-mlogloss:3.11435\n",
      "[49]\tvalidation_0-mlogloss:0.80547\tvalidation_1-mlogloss:3.10719\n",
      "[50]\tvalidation_0-mlogloss:0.78474\tvalidation_1-mlogloss:3.09898\n",
      "[51]\tvalidation_0-mlogloss:0.76464\tvalidation_1-mlogloss:3.09140\n",
      "[52]\tvalidation_0-mlogloss:0.74498\tvalidation_1-mlogloss:3.08583\n",
      "[53]\tvalidation_0-mlogloss:0.72607\tvalidation_1-mlogloss:3.07984\n",
      "[54]\tvalidation_0-mlogloss:0.70767\tvalidation_1-mlogloss:3.07255\n",
      "[55]\tvalidation_0-mlogloss:0.68981\tvalidation_1-mlogloss:3.06632\n",
      "[56]\tvalidation_0-mlogloss:0.67241\tvalidation_1-mlogloss:3.05811\n",
      "[57]\tvalidation_0-mlogloss:0.65563\tvalidation_1-mlogloss:3.05107\n",
      "[58]\tvalidation_0-mlogloss:0.63913\tvalidation_1-mlogloss:3.04425\n",
      "[59]\tvalidation_0-mlogloss:0.62316\tvalidation_1-mlogloss:3.03678\n",
      "[60]\tvalidation_0-mlogloss:0.60750\tvalidation_1-mlogloss:3.02948\n",
      "[61]\tvalidation_0-mlogloss:0.59217\tvalidation_1-mlogloss:3.02233\n",
      "[62]\tvalidation_0-mlogloss:0.57775\tvalidation_1-mlogloss:3.01560\n",
      "[63]\tvalidation_0-mlogloss:0.56364\tvalidation_1-mlogloss:3.00980\n",
      "[64]\tvalidation_0-mlogloss:0.55023\tvalidation_1-mlogloss:3.00347\n",
      "[65]\tvalidation_0-mlogloss:0.53672\tvalidation_1-mlogloss:2.99587\n",
      "[66]\tvalidation_0-mlogloss:0.52383\tvalidation_1-mlogloss:2.99086\n",
      "[67]\tvalidation_0-mlogloss:0.51125\tvalidation_1-mlogloss:2.98495\n",
      "[68]\tvalidation_0-mlogloss:0.49922\tvalidation_1-mlogloss:2.97997\n",
      "[69]\tvalidation_0-mlogloss:0.48706\tvalidation_1-mlogloss:2.97413\n",
      "[70]\tvalidation_0-mlogloss:0.47551\tvalidation_1-mlogloss:2.96968\n",
      "[71]\tvalidation_0-mlogloss:0.46459\tvalidation_1-mlogloss:2.96362\n",
      "[72]\tvalidation_0-mlogloss:0.45357\tvalidation_1-mlogloss:2.95961\n",
      "[73]\tvalidation_0-mlogloss:0.44283\tvalidation_1-mlogloss:2.95302\n",
      "[74]\tvalidation_0-mlogloss:0.43279\tvalidation_1-mlogloss:2.94786\n",
      "[75]\tvalidation_0-mlogloss:0.42274\tvalidation_1-mlogloss:2.94129\n",
      "[76]\tvalidation_0-mlogloss:0.41283\tvalidation_1-mlogloss:2.93487\n",
      "[77]\tvalidation_0-mlogloss:0.40320\tvalidation_1-mlogloss:2.92892\n",
      "[78]\tvalidation_0-mlogloss:0.39410\tvalidation_1-mlogloss:2.92487\n",
      "[79]\tvalidation_0-mlogloss:0.38505\tvalidation_1-mlogloss:2.91893\n",
      "[80]\tvalidation_0-mlogloss:0.37644\tvalidation_1-mlogloss:2.91339\n",
      "[81]\tvalidation_0-mlogloss:0.36806\tvalidation_1-mlogloss:2.90729\n",
      "[82]\tvalidation_0-mlogloss:0.36010\tvalidation_1-mlogloss:2.90257\n",
      "[83]\tvalidation_0-mlogloss:0.35229\tvalidation_1-mlogloss:2.89882\n",
      "[84]\tvalidation_0-mlogloss:0.34462\tvalidation_1-mlogloss:2.89458\n",
      "[85]\tvalidation_0-mlogloss:0.33716\tvalidation_1-mlogloss:2.89043\n",
      "[86]\tvalidation_0-mlogloss:0.32978\tvalidation_1-mlogloss:2.88519\n",
      "[87]\tvalidation_0-mlogloss:0.32281\tvalidation_1-mlogloss:2.88067\n",
      "[88]\tvalidation_0-mlogloss:0.31593\tvalidation_1-mlogloss:2.87561\n",
      "[89]\tvalidation_0-mlogloss:0.30929\tvalidation_1-mlogloss:2.87186\n",
      "[90]\tvalidation_0-mlogloss:0.30273\tvalidation_1-mlogloss:2.86625\n",
      "[91]\tvalidation_0-mlogloss:0.29631\tvalidation_1-mlogloss:2.86110\n",
      "[92]\tvalidation_0-mlogloss:0.29012\tvalidation_1-mlogloss:2.85612\n",
      "[93]\tvalidation_0-mlogloss:0.28420\tvalidation_1-mlogloss:2.85022\n",
      "[94]\tvalidation_0-mlogloss:0.27842\tvalidation_1-mlogloss:2.84499\n",
      "[95]\tvalidation_0-mlogloss:0.27250\tvalidation_1-mlogloss:2.84041\n",
      "[96]\tvalidation_0-mlogloss:0.26705\tvalidation_1-mlogloss:2.83593\n",
      "[97]\tvalidation_0-mlogloss:0.26162\tvalidation_1-mlogloss:2.83122\n",
      "[98]\tvalidation_0-mlogloss:0.25627\tvalidation_1-mlogloss:2.82723\n",
      "[99]\tvalidation_0-mlogloss:0.25125\tvalidation_1-mlogloss:2.82203\n",
      "[100]\tvalidation_0-mlogloss:0.24624\tvalidation_1-mlogloss:2.81692\n",
      "[101]\tvalidation_0-mlogloss:0.24143\tvalidation_1-mlogloss:2.81380\n",
      "[102]\tvalidation_0-mlogloss:0.23658\tvalidation_1-mlogloss:2.80980\n",
      "[103]\tvalidation_0-mlogloss:0.23213\tvalidation_1-mlogloss:2.80556\n",
      "[104]\tvalidation_0-mlogloss:0.22763\tvalidation_1-mlogloss:2.80158\n",
      "[105]\tvalidation_0-mlogloss:0.22335\tvalidation_1-mlogloss:2.79870\n",
      "[106]\tvalidation_0-mlogloss:0.21901\tvalidation_1-mlogloss:2.79585\n",
      "[107]\tvalidation_0-mlogloss:0.21480\tvalidation_1-mlogloss:2.79181\n",
      "[108]\tvalidation_0-mlogloss:0.21076\tvalidation_1-mlogloss:2.78774\n",
      "[109]\tvalidation_0-mlogloss:0.20683\tvalidation_1-mlogloss:2.78461\n",
      "[110]\tvalidation_0-mlogloss:0.20300\tvalidation_1-mlogloss:2.78012\n",
      "[111]\tvalidation_0-mlogloss:0.19921\tvalidation_1-mlogloss:2.77603\n",
      "[112]\tvalidation_0-mlogloss:0.19562\tvalidation_1-mlogloss:2.77325\n",
      "[113]\tvalidation_0-mlogloss:0.19209\tvalidation_1-mlogloss:2.76950\n",
      "[114]\tvalidation_0-mlogloss:0.18863\tvalidation_1-mlogloss:2.76614\n",
      "[115]\tvalidation_0-mlogloss:0.18528\tvalidation_1-mlogloss:2.76328\n",
      "[116]\tvalidation_0-mlogloss:0.18203\tvalidation_1-mlogloss:2.75869\n",
      "[117]\tvalidation_0-mlogloss:0.17877\tvalidation_1-mlogloss:2.75543\n",
      "[118]\tvalidation_0-mlogloss:0.17577\tvalidation_1-mlogloss:2.75226\n",
      "[119]\tvalidation_0-mlogloss:0.17271\tvalidation_1-mlogloss:2.74847\n",
      "[120]\tvalidation_0-mlogloss:0.16965\tvalidation_1-mlogloss:2.74544\n",
      "[121]\tvalidation_0-mlogloss:0.16677\tvalidation_1-mlogloss:2.74147\n",
      "[122]\tvalidation_0-mlogloss:0.16391\tvalidation_1-mlogloss:2.73822\n",
      "[123]\tvalidation_0-mlogloss:0.16118\tvalidation_1-mlogloss:2.73528\n",
      "[124]\tvalidation_0-mlogloss:0.15851\tvalidation_1-mlogloss:2.73260\n",
      "[125]\tvalidation_0-mlogloss:0.15589\tvalidation_1-mlogloss:2.72854\n",
      "[126]\tvalidation_0-mlogloss:0.15345\tvalidation_1-mlogloss:2.72555\n",
      "[127]\tvalidation_0-mlogloss:0.15103\tvalidation_1-mlogloss:2.72281\n",
      "[128]\tvalidation_0-mlogloss:0.14857\tvalidation_1-mlogloss:2.71908\n",
      "[129]\tvalidation_0-mlogloss:0.14621\tvalidation_1-mlogloss:2.71660\n",
      "[130]\tvalidation_0-mlogloss:0.14391\tvalidation_1-mlogloss:2.71461\n",
      "[131]\tvalidation_0-mlogloss:0.14159\tvalidation_1-mlogloss:2.71124\n",
      "[132]\tvalidation_0-mlogloss:0.13937\tvalidation_1-mlogloss:2.70720\n",
      "[133]\tvalidation_0-mlogloss:0.13722\tvalidation_1-mlogloss:2.70462\n",
      "[134]\tvalidation_0-mlogloss:0.13512\tvalidation_1-mlogloss:2.70220\n",
      "[135]\tvalidation_0-mlogloss:0.13307\tvalidation_1-mlogloss:2.69907\n",
      "[136]\tvalidation_0-mlogloss:0.13106\tvalidation_1-mlogloss:2.69670\n",
      "[137]\tvalidation_0-mlogloss:0.12909\tvalidation_1-mlogloss:2.69479\n",
      "[138]\tvalidation_0-mlogloss:0.12714\tvalidation_1-mlogloss:2.69199\n",
      "[139]\tvalidation_0-mlogloss:0.12523\tvalidation_1-mlogloss:2.68962\n",
      "[140]\tvalidation_0-mlogloss:0.12340\tvalidation_1-mlogloss:2.68647\n",
      "[141]\tvalidation_0-mlogloss:0.12166\tvalidation_1-mlogloss:2.68400\n",
      "[142]\tvalidation_0-mlogloss:0.11994\tvalidation_1-mlogloss:2.68133\n",
      "[143]\tvalidation_0-mlogloss:0.11823\tvalidation_1-mlogloss:2.67814\n",
      "[144]\tvalidation_0-mlogloss:0.11650\tvalidation_1-mlogloss:2.67581\n",
      "[145]\tvalidation_0-mlogloss:0.11486\tvalidation_1-mlogloss:2.67355\n",
      "[146]\tvalidation_0-mlogloss:0.11323\tvalidation_1-mlogloss:2.67118\n",
      "[147]\tvalidation_0-mlogloss:0.11165\tvalidation_1-mlogloss:2.66776\n",
      "[148]\tvalidation_0-mlogloss:0.11011\tvalidation_1-mlogloss:2.66527\n",
      "[149]\tvalidation_0-mlogloss:0.10860\tvalidation_1-mlogloss:2.66236\n",
      "[150]\tvalidation_0-mlogloss:0.10713\tvalidation_1-mlogloss:2.65959\n",
      "[151]\tvalidation_0-mlogloss:0.10574\tvalidation_1-mlogloss:2.65712\n",
      "[152]\tvalidation_0-mlogloss:0.10439\tvalidation_1-mlogloss:2.65356\n",
      "[153]\tvalidation_0-mlogloss:0.10301\tvalidation_1-mlogloss:2.65014\n",
      "[154]\tvalidation_0-mlogloss:0.10169\tvalidation_1-mlogloss:2.64742\n",
      "[155]\tvalidation_0-mlogloss:0.10039\tvalidation_1-mlogloss:2.64501\n",
      "[156]\tvalidation_0-mlogloss:0.09912\tvalidation_1-mlogloss:2.64299\n",
      "[157]\tvalidation_0-mlogloss:0.09784\tvalidation_1-mlogloss:2.64013\n",
      "[158]\tvalidation_0-mlogloss:0.09660\tvalidation_1-mlogloss:2.63749\n",
      "[159]\tvalidation_0-mlogloss:0.09538\tvalidation_1-mlogloss:2.63587\n",
      "[160]\tvalidation_0-mlogloss:0.09416\tvalidation_1-mlogloss:2.63447\n",
      "[161]\tvalidation_0-mlogloss:0.09299\tvalidation_1-mlogloss:2.63247\n",
      "[162]\tvalidation_0-mlogloss:0.09188\tvalidation_1-mlogloss:2.63013\n",
      "[163]\tvalidation_0-mlogloss:0.09078\tvalidation_1-mlogloss:2.62780\n",
      "[164]\tvalidation_0-mlogloss:0.08972\tvalidation_1-mlogloss:2.62636\n",
      "[165]\tvalidation_0-mlogloss:0.08867\tvalidation_1-mlogloss:2.62428\n",
      "[166]\tvalidation_0-mlogloss:0.08762\tvalidation_1-mlogloss:2.62319\n",
      "[167]\tvalidation_0-mlogloss:0.08659\tvalidation_1-mlogloss:2.62057\n",
      "[168]\tvalidation_0-mlogloss:0.08560\tvalidation_1-mlogloss:2.61896\n",
      "[169]\tvalidation_0-mlogloss:0.08463\tvalidation_1-mlogloss:2.61600\n",
      "[170]\tvalidation_0-mlogloss:0.08364\tvalidation_1-mlogloss:2.61441\n",
      "[171]\tvalidation_0-mlogloss:0.08268\tvalidation_1-mlogloss:2.61244\n",
      "[172]\tvalidation_0-mlogloss:0.08176\tvalidation_1-mlogloss:2.60972\n",
      "[173]\tvalidation_0-mlogloss:0.08085\tvalidation_1-mlogloss:2.60874\n",
      "[174]\tvalidation_0-mlogloss:0.07996\tvalidation_1-mlogloss:2.60619\n",
      "[175]\tvalidation_0-mlogloss:0.07910\tvalidation_1-mlogloss:2.60398\n",
      "[176]\tvalidation_0-mlogloss:0.07825\tvalidation_1-mlogloss:2.60203\n",
      "[177]\tvalidation_0-mlogloss:0.07739\tvalidation_1-mlogloss:2.60008\n",
      "[178]\tvalidation_0-mlogloss:0.07658\tvalidation_1-mlogloss:2.59798\n",
      "[179]\tvalidation_0-mlogloss:0.07574\tvalidation_1-mlogloss:2.59534\n",
      "[180]\tvalidation_0-mlogloss:0.07498\tvalidation_1-mlogloss:2.59355\n",
      "[181]\tvalidation_0-mlogloss:0.07420\tvalidation_1-mlogloss:2.59091\n",
      "[182]\tvalidation_0-mlogloss:0.07343\tvalidation_1-mlogloss:2.58948\n",
      "[183]\tvalidation_0-mlogloss:0.07267\tvalidation_1-mlogloss:2.58749\n",
      "[184]\tvalidation_0-mlogloss:0.07192\tvalidation_1-mlogloss:2.58626\n",
      "[185]\tvalidation_0-mlogloss:0.07117\tvalidation_1-mlogloss:2.58499\n",
      "[186]\tvalidation_0-mlogloss:0.07046\tvalidation_1-mlogloss:2.58274\n",
      "[187]\tvalidation_0-mlogloss:0.06974\tvalidation_1-mlogloss:2.58138\n",
      "[188]\tvalidation_0-mlogloss:0.06904\tvalidation_1-mlogloss:2.57975\n",
      "[189]\tvalidation_0-mlogloss:0.06834\tvalidation_1-mlogloss:2.57808\n",
      "[190]\tvalidation_0-mlogloss:0.06768\tvalidation_1-mlogloss:2.57641\n",
      "[191]\tvalidation_0-mlogloss:0.06703\tvalidation_1-mlogloss:2.57466\n",
      "[192]\tvalidation_0-mlogloss:0.06639\tvalidation_1-mlogloss:2.57328\n",
      "[193]\tvalidation_0-mlogloss:0.06579\tvalidation_1-mlogloss:2.57165\n",
      "[194]\tvalidation_0-mlogloss:0.06516\tvalidation_1-mlogloss:2.57025\n",
      "[195]\tvalidation_0-mlogloss:0.06456\tvalidation_1-mlogloss:2.56889\n",
      "[196]\tvalidation_0-mlogloss:0.06394\tvalidation_1-mlogloss:2.56651\n",
      "[197]\tvalidation_0-mlogloss:0.06334\tvalidation_1-mlogloss:2.56444\n",
      "[198]\tvalidation_0-mlogloss:0.06277\tvalidation_1-mlogloss:2.56336\n",
      "[199]\tvalidation_0-mlogloss:0.06220\tvalidation_1-mlogloss:2.56176\n",
      "[200]\tvalidation_0-mlogloss:0.06164\tvalidation_1-mlogloss:2.56000\n",
      "[201]\tvalidation_0-mlogloss:0.06107\tvalidation_1-mlogloss:2.55828\n",
      "[202]\tvalidation_0-mlogloss:0.06053\tvalidation_1-mlogloss:2.55741\n",
      "[203]\tvalidation_0-mlogloss:0.05999\tvalidation_1-mlogloss:2.55628\n",
      "[204]\tvalidation_0-mlogloss:0.05947\tvalidation_1-mlogloss:2.55590\n",
      "[205]\tvalidation_0-mlogloss:0.05897\tvalidation_1-mlogloss:2.55501\n",
      "[206]\tvalidation_0-mlogloss:0.05846\tvalidation_1-mlogloss:2.55365\n",
      "[207]\tvalidation_0-mlogloss:0.05795\tvalidation_1-mlogloss:2.55302\n",
      "[208]\tvalidation_0-mlogloss:0.05746\tvalidation_1-mlogloss:2.55077\n",
      "[209]\tvalidation_0-mlogloss:0.05697\tvalidation_1-mlogloss:2.54985\n",
      "[210]\tvalidation_0-mlogloss:0.05649\tvalidation_1-mlogloss:2.54828\n",
      "[211]\tvalidation_0-mlogloss:0.05603\tvalidation_1-mlogloss:2.54715\n",
      "[212]\tvalidation_0-mlogloss:0.05557\tvalidation_1-mlogloss:2.54591\n",
      "[213]\tvalidation_0-mlogloss:0.05514\tvalidation_1-mlogloss:2.54462\n",
      "[214]\tvalidation_0-mlogloss:0.05470\tvalidation_1-mlogloss:2.54360\n",
      "[215]\tvalidation_0-mlogloss:0.05427\tvalidation_1-mlogloss:2.54287\n",
      "[216]\tvalidation_0-mlogloss:0.05385\tvalidation_1-mlogloss:2.54126\n",
      "[217]\tvalidation_0-mlogloss:0.05341\tvalidation_1-mlogloss:2.54028\n",
      "[218]\tvalidation_0-mlogloss:0.05300\tvalidation_1-mlogloss:2.53926\n",
      "[219]\tvalidation_0-mlogloss:0.05260\tvalidation_1-mlogloss:2.53742\n",
      "[220]\tvalidation_0-mlogloss:0.05219\tvalidation_1-mlogloss:2.53584\n",
      "[221]\tvalidation_0-mlogloss:0.05180\tvalidation_1-mlogloss:2.53480\n",
      "[222]\tvalidation_0-mlogloss:0.05140\tvalidation_1-mlogloss:2.53382\n",
      "[223]\tvalidation_0-mlogloss:0.05103\tvalidation_1-mlogloss:2.53287\n",
      "[224]\tvalidation_0-mlogloss:0.05066\tvalidation_1-mlogloss:2.53242\n",
      "[225]\tvalidation_0-mlogloss:0.05029\tvalidation_1-mlogloss:2.53162\n",
      "[226]\tvalidation_0-mlogloss:0.04991\tvalidation_1-mlogloss:2.53102\n",
      "[227]\tvalidation_0-mlogloss:0.04955\tvalidation_1-mlogloss:2.52956\n",
      "[228]\tvalidation_0-mlogloss:0.04920\tvalidation_1-mlogloss:2.52808\n",
      "[229]\tvalidation_0-mlogloss:0.04885\tvalidation_1-mlogloss:2.52709\n",
      "[230]\tvalidation_0-mlogloss:0.04851\tvalidation_1-mlogloss:2.52597\n",
      "[231]\tvalidation_0-mlogloss:0.04818\tvalidation_1-mlogloss:2.52493\n",
      "[232]\tvalidation_0-mlogloss:0.04784\tvalidation_1-mlogloss:2.52372\n",
      "[233]\tvalidation_0-mlogloss:0.04751\tvalidation_1-mlogloss:2.52254\n",
      "[234]\tvalidation_0-mlogloss:0.04717\tvalidation_1-mlogloss:2.52154\n",
      "[235]\tvalidation_0-mlogloss:0.04686\tvalidation_1-mlogloss:2.52092\n",
      "[236]\tvalidation_0-mlogloss:0.04653\tvalidation_1-mlogloss:2.51930\n",
      "[237]\tvalidation_0-mlogloss:0.04623\tvalidation_1-mlogloss:2.51837\n",
      "[238]\tvalidation_0-mlogloss:0.04593\tvalidation_1-mlogloss:2.51758\n",
      "[239]\tvalidation_0-mlogloss:0.04563\tvalidation_1-mlogloss:2.51669\n",
      "[240]\tvalidation_0-mlogloss:0.04535\tvalidation_1-mlogloss:2.51608\n",
      "[241]\tvalidation_0-mlogloss:0.04507\tvalidation_1-mlogloss:2.51571\n",
      "[242]\tvalidation_0-mlogloss:0.04479\tvalidation_1-mlogloss:2.51483\n"
     ]
    },
    {
     "data": {
      "text/html": [
       "<style>#sk-container-id-3 {color: black;}#sk-container-id-3 pre{padding: 0;}#sk-container-id-3 div.sk-toggleable {background-color: white;}#sk-container-id-3 label.sk-toggleable__label {cursor: pointer;display: block;width: 100%;margin-bottom: 0;padding: 0.3em;box-sizing: border-box;text-align: center;}#sk-container-id-3 label.sk-toggleable__label-arrow:before {content: \"▸\";float: left;margin-right: 0.25em;color: #696969;}#sk-container-id-3 label.sk-toggleable__label-arrow:hover:before {color: black;}#sk-container-id-3 div.sk-estimator:hover label.sk-toggleable__label-arrow:before {color: black;}#sk-container-id-3 div.sk-toggleable__content {max-height: 0;max-width: 0;overflow: hidden;text-align: left;background-color: #f0f8ff;}#sk-container-id-3 div.sk-toggleable__content pre {margin: 0.2em;color: black;border-radius: 0.25em;background-color: #f0f8ff;}#sk-container-id-3 input.sk-toggleable__control:checked~div.sk-toggleable__content {max-height: 200px;max-width: 100%;overflow: auto;}#sk-container-id-3 input.sk-toggleable__control:checked~label.sk-toggleable__label-arrow:before {content: \"▾\";}#sk-container-id-3 div.sk-estimator input.sk-toggleable__control:checked~label.sk-toggleable__label {background-color: #d4ebff;}#sk-container-id-3 div.sk-label input.sk-toggleable__control:checked~label.sk-toggleable__label {background-color: #d4ebff;}#sk-container-id-3 input.sk-hidden--visually {border: 0;clip: rect(1px 1px 1px 1px);clip: rect(1px, 1px, 1px, 1px);height: 1px;margin: -1px;overflow: hidden;padding: 0;position: absolute;width: 1px;}#sk-container-id-3 div.sk-estimator {font-family: monospace;background-color: #f0f8ff;border: 1px dotted black;border-radius: 0.25em;box-sizing: border-box;margin-bottom: 0.5em;}#sk-container-id-3 div.sk-estimator:hover {background-color: #d4ebff;}#sk-container-id-3 div.sk-parallel-item::after {content: \"\";width: 100%;border-bottom: 1px solid gray;flex-grow: 1;}#sk-container-id-3 div.sk-label:hover label.sk-toggleable__label {background-color: #d4ebff;}#sk-container-id-3 div.sk-serial::before {content: \"\";position: absolute;border-left: 1px solid gray;box-sizing: border-box;top: 0;bottom: 0;left: 50%;z-index: 0;}#sk-container-id-3 div.sk-serial {display: flex;flex-direction: column;align-items: center;background-color: white;padding-right: 0.2em;padding-left: 0.2em;position: relative;}#sk-container-id-3 div.sk-item {position: relative;z-index: 1;}#sk-container-id-3 div.sk-parallel {display: flex;align-items: stretch;justify-content: center;background-color: white;position: relative;}#sk-container-id-3 div.sk-item::before, #sk-container-id-3 div.sk-parallel-item::before {content: \"\";position: absolute;border-left: 1px solid gray;box-sizing: border-box;top: 0;bottom: 0;left: 50%;z-index: -1;}#sk-container-id-3 div.sk-parallel-item {display: flex;flex-direction: column;z-index: 1;position: relative;background-color: white;}#sk-container-id-3 div.sk-parallel-item:first-child::after {align-self: flex-end;width: 50%;}#sk-container-id-3 div.sk-parallel-item:last-child::after {align-self: flex-start;width: 50%;}#sk-container-id-3 div.sk-parallel-item:only-child::after {width: 0;}#sk-container-id-3 div.sk-dashed-wrapped {border: 1px dashed gray;margin: 0 0.4em 0.5em 0.4em;box-sizing: border-box;padding-bottom: 0.4em;background-color: white;}#sk-container-id-3 div.sk-label label {font-family: monospace;font-weight: bold;display: inline-block;line-height: 1.2em;}#sk-container-id-3 div.sk-label-container {text-align: center;}#sk-container-id-3 div.sk-container {/* jupyter's `normalize.less` sets `[hidden] { display: none; }` but bootstrap.min.css set `[hidden] { display: none !important; }` so we also need the `!important` here to be able to override the default hidden behavior on the sphinx rendered scikit-learn.org. See: https://github.com/scikit-learn/scikit-learn/issues/21755 */display: inline-block !important;position: relative;}#sk-container-id-3 div.sk-text-repr-fallback {display: none;}</style><div id=\"sk-container-id-3\" class=\"sk-top-container\"><div class=\"sk-text-repr-fallback\"><pre>BayesSearchCV(cv=5,\n",
       "              estimator=XGBClassifier(base_score=None, booster=None,\n",
       "                                      callbacks=None, colsample_bylevel=None,\n",
       "                                      colsample_bynode=None,\n",
       "                                      colsample_bytree=None, device=&#x27;cuda&#x27;,\n",
       "                                      early_stopping_rounds=10,\n",
       "                                      enable_categorical=False,\n",
       "                                      eval_metric=&#x27;mlogloss&#x27;,\n",
       "                                      feature_types=None, gamma=None,\n",
       "                                      grow_policy=None, importance_type=None,\n",
       "                                      interaction_constraints=None,\n",
       "                                      learning_rat...\n",
       "              search_spaces={&#x27;colsample_bytree&#x27;: Real(low=0.5, high=1.0, prior=&#x27;uniform&#x27;, transform=&#x27;normalize&#x27;),\n",
       "                             &#x27;learning_rate&#x27;: Real(low=0.01, high=0.3, prior=&#x27;log-uniform&#x27;, transform=&#x27;normalize&#x27;),\n",
       "                             &#x27;max_depth&#x27;: Integer(low=1, high=6, prior=&#x27;uniform&#x27;, transform=&#x27;normalize&#x27;),\n",
       "                             &#x27;n_estimators&#x27;: Integer(low=100, high=500, prior=&#x27;uniform&#x27;, transform=&#x27;normalize&#x27;),\n",
       "                             &#x27;subsample&#x27;: Real(low=0.5, high=1.0, prior=&#x27;uniform&#x27;, transform=&#x27;normalize&#x27;)})</pre><b>In a Jupyter environment, please rerun this cell to show the HTML representation or trust the notebook. <br />On GitHub, the HTML representation is unable to render, please try loading this page with nbviewer.org.</b></div><div class=\"sk-container\" hidden><div class=\"sk-item sk-dashed-wrapped\"><div class=\"sk-label-container\"><div class=\"sk-label sk-toggleable\"><input class=\"sk-toggleable__control sk-hidden--visually\" id=\"sk-estimator-id-7\" type=\"checkbox\" ><label for=\"sk-estimator-id-7\" class=\"sk-toggleable__label sk-toggleable__label-arrow\">BayesSearchCV</label><div class=\"sk-toggleable__content\"><pre>BayesSearchCV(cv=5,\n",
       "              estimator=XGBClassifier(base_score=None, booster=None,\n",
       "                                      callbacks=None, colsample_bylevel=None,\n",
       "                                      colsample_bynode=None,\n",
       "                                      colsample_bytree=None, device=&#x27;cuda&#x27;,\n",
       "                                      early_stopping_rounds=10,\n",
       "                                      enable_categorical=False,\n",
       "                                      eval_metric=&#x27;mlogloss&#x27;,\n",
       "                                      feature_types=None, gamma=None,\n",
       "                                      grow_policy=None, importance_type=None,\n",
       "                                      interaction_constraints=None,\n",
       "                                      learning_rat...\n",
       "              search_spaces={&#x27;colsample_bytree&#x27;: Real(low=0.5, high=1.0, prior=&#x27;uniform&#x27;, transform=&#x27;normalize&#x27;),\n",
       "                             &#x27;learning_rate&#x27;: Real(low=0.01, high=0.3, prior=&#x27;log-uniform&#x27;, transform=&#x27;normalize&#x27;),\n",
       "                             &#x27;max_depth&#x27;: Integer(low=1, high=6, prior=&#x27;uniform&#x27;, transform=&#x27;normalize&#x27;),\n",
       "                             &#x27;n_estimators&#x27;: Integer(low=100, high=500, prior=&#x27;uniform&#x27;, transform=&#x27;normalize&#x27;),\n",
       "                             &#x27;subsample&#x27;: Real(low=0.5, high=1.0, prior=&#x27;uniform&#x27;, transform=&#x27;normalize&#x27;)})</pre></div></div></div><div class=\"sk-parallel\"><div class=\"sk-parallel-item\"><div class=\"sk-item\"><div class=\"sk-label-container\"><div class=\"sk-label sk-toggleable\"><input class=\"sk-toggleable__control sk-hidden--visually\" id=\"sk-estimator-id-8\" type=\"checkbox\" ><label for=\"sk-estimator-id-8\" class=\"sk-toggleable__label sk-toggleable__label-arrow\">estimator: XGBClassifier</label><div class=\"sk-toggleable__content\"><pre>XGBClassifier(base_score=None, booster=None, callbacks=None,\n",
       "              colsample_bylevel=None, colsample_bynode=None,\n",
       "              colsample_bytree=None, device=&#x27;cuda&#x27;, early_stopping_rounds=10,\n",
       "              enable_categorical=False, eval_metric=&#x27;mlogloss&#x27;,\n",
       "              feature_types=None, gamma=None, grow_policy=None,\n",
       "              importance_type=None, interaction_constraints=None,\n",
       "              learning_rate=None, max_bin=None, max_cat_threshold=None,\n",
       "              max_cat_to_onehot=None, max_delta_step=None, max_depth=None,\n",
       "              max_leaves=None, min_child_weight=None, missing=nan,\n",
       "              monotone_constraints=None, multi_strategy=None, n_estimators=None,\n",
       "              n_jobs=None, num_parallel_tree=None, random_state=2024, ...)</pre></div></div></div><div class=\"sk-serial\"><div class=\"sk-item\"><div class=\"sk-estimator sk-toggleable\"><input class=\"sk-toggleable__control sk-hidden--visually\" id=\"sk-estimator-id-9\" type=\"checkbox\" ><label for=\"sk-estimator-id-9\" class=\"sk-toggleable__label sk-toggleable__label-arrow\">XGBClassifier</label><div class=\"sk-toggleable__content\"><pre>XGBClassifier(base_score=None, booster=None, callbacks=None,\n",
       "              colsample_bylevel=None, colsample_bynode=None,\n",
       "              colsample_bytree=None, device=&#x27;cuda&#x27;, early_stopping_rounds=10,\n",
       "              enable_categorical=False, eval_metric=&#x27;mlogloss&#x27;,\n",
       "              feature_types=None, gamma=None, grow_policy=None,\n",
       "              importance_type=None, interaction_constraints=None,\n",
       "              learning_rate=None, max_bin=None, max_cat_threshold=None,\n",
       "              max_cat_to_onehot=None, max_delta_step=None, max_depth=None,\n",
       "              max_leaves=None, min_child_weight=None, missing=nan,\n",
       "              monotone_constraints=None, multi_strategy=None, n_estimators=None,\n",
       "              n_jobs=None, num_parallel_tree=None, random_state=2024, ...)</pre></div></div></div></div></div></div></div></div></div></div>"
      ],
      "text/plain": [
       "BayesSearchCV(cv=5,\n",
       "              estimator=XGBClassifier(base_score=None, booster=None,\n",
       "                                      callbacks=None, colsample_bylevel=None,\n",
       "                                      colsample_bynode=None,\n",
       "                                      colsample_bytree=None, device='cuda',\n",
       "                                      early_stopping_rounds=10,\n",
       "                                      enable_categorical=False,\n",
       "                                      eval_metric='mlogloss',\n",
       "                                      feature_types=None, gamma=None,\n",
       "                                      grow_policy=None, importance_type=None,\n",
       "                                      interaction_constraints=None,\n",
       "                                      learning_rat...\n",
       "              search_spaces={'colsample_bytree': Real(low=0.5, high=1.0, prior='uniform', transform='normalize'),\n",
       "                             'learning_rate': Real(low=0.01, high=0.3, prior='log-uniform', transform='normalize'),\n",
       "                             'max_depth': Integer(low=1, high=6, prior='uniform', transform='normalize'),\n",
       "                             'n_estimators': Integer(low=100, high=500, prior='uniform', transform='normalize'),\n",
       "                             'subsample': Real(low=0.5, high=1.0, prior='uniform', transform='normalize')})"
      ]
     },
     "execution_count": 58,
     "metadata": {},
     "output_type": "execute_result"
    }
   ],
   "source": [
    "# Fit the BayesSearchCV object\n",
    "opt.fit(X_train, y_train, \n",
    "        callback=[deadline, checkpoint_saver], \n",
    "        eval_set=[(X_train, y_train), (X_val, y_val)],\n",
    "        verbose=True)"
   ]
  },
  {
   "cell_type": "code",
   "execution_count": 59,
   "metadata": {},
   "outputs": [
    {
     "data": {
      "text/html": [
       "\n",
       "            <style>\n",
       "                .geemap-dark {\n",
       "                    --jp-widgets-color: white;\n",
       "                    --jp-widgets-label-color: white;\n",
       "                    --jp-ui-font-color1: white;\n",
       "                    --jp-layout-color2: #454545;\n",
       "                    background-color: #383838;\n",
       "                }\n",
       "\n",
       "                .geemap-dark .jupyter-button {\n",
       "                    --jp-layout-color3: #383838;\n",
       "                }\n",
       "\n",
       "                .geemap-colab {\n",
       "                    background-color: var(--colab-primary-surface-color, white);\n",
       "                }\n",
       "\n",
       "                .geemap-colab .jupyter-button {\n",
       "                    --jp-layout-color3: var(--colab-primary-surface-color, white);\n",
       "                }\n",
       "            </style>\n",
       "            "
      ],
      "text/plain": [
       "<IPython.core.display.HTML object>"
      ]
     },
     "metadata": {},
     "output_type": "display_data"
    },
    {
     "name": "stdout",
     "output_type": "stream",
     "text": [
      "Best parameters: OrderedDict({'colsample_bytree': 0.5951724186578567, 'learning_rate': 0.03991002867275456, 'max_depth': 6, 'n_estimators': 243, 'subsample': 0.7979582968497794})\n",
      "Best score: 0.3557590361445783\n"
     ]
    }
   ],
   "source": [
    "# Get the best parameters\n",
    "print(f\"Best parameters: {opt.best_params_}\")\n",
    "print(f\"Best score: {opt.best_score_}\")"
   ]
  },
  {
   "cell_type": "code",
   "execution_count": 60,
   "metadata": {},
   "outputs": [
    {
     "data": {
      "text/html": [
       "\n",
       "            <style>\n",
       "                .geemap-dark {\n",
       "                    --jp-widgets-color: white;\n",
       "                    --jp-widgets-label-color: white;\n",
       "                    --jp-ui-font-color1: white;\n",
       "                    --jp-layout-color2: #454545;\n",
       "                    background-color: #383838;\n",
       "                }\n",
       "\n",
       "                .geemap-dark .jupyter-button {\n",
       "                    --jp-layout-color3: #383838;\n",
       "                }\n",
       "\n",
       "                .geemap-colab {\n",
       "                    background-color: var(--colab-primary-surface-color, white);\n",
       "                }\n",
       "\n",
       "                .geemap-colab .jupyter-button {\n",
       "                    --jp-layout-color3: var(--colab-primary-surface-color, white);\n",
       "                }\n",
       "            </style>\n",
       "            "
      ],
      "text/plain": [
       "<IPython.core.display.HTML object>"
      ]
     },
     "metadata": {},
     "output_type": "display_data"
    },
    {
     "data": {
      "text/plain": [
       "0.39903846153846156"
      ]
     },
     "execution_count": 60,
     "metadata": {},
     "output_type": "execute_result"
    }
   ],
   "source": [
    "y_pred = opt.best_estimator_.predict(X_test)\n",
    "\n",
    "accuracy_score(y_test, y_pred)"
   ]
  },
  {
   "cell_type": "code",
   "execution_count": 61,
   "metadata": {},
   "outputs": [
    {
     "data": {
      "text/html": [
       "\n",
       "            <style>\n",
       "                .geemap-dark {\n",
       "                    --jp-widgets-color: white;\n",
       "                    --jp-widgets-label-color: white;\n",
       "                    --jp-ui-font-color1: white;\n",
       "                    --jp-layout-color2: #454545;\n",
       "                    background-color: #383838;\n",
       "                }\n",
       "\n",
       "                .geemap-dark .jupyter-button {\n",
       "                    --jp-layout-color3: #383838;\n",
       "                }\n",
       "\n",
       "                .geemap-colab {\n",
       "                    background-color: var(--colab-primary-surface-color, white);\n",
       "                }\n",
       "\n",
       "                .geemap-colab .jupyter-button {\n",
       "                    --jp-layout-color3: var(--colab-primary-surface-color, white);\n",
       "                }\n",
       "            </style>\n",
       "            "
      ],
      "text/plain": [
       "<IPython.core.display.HTML object>"
      ]
     },
     "metadata": {},
     "output_type": "display_data"
    },
    {
     "data": {
      "image/png": "[encoded data removed]",
      "text/plain": [
       "<Figure size 640x480 with 1 Axes>"
      ]
     },
     "metadata": {},
     "output_type": "display_data"
    }
   ],
   "source": [
    "# Plot xgboost optimization results\n",
    "results = opt.best_estimator_.evals_result()\n",
    "epochs = len(results['validation_0']['mlogloss'])\n",
    "x_axis = range(0, epochs)\n",
    "\n",
    "fig, ax = plt.subplots()\n",
    "ax.plot(x_axis, results['validation_0']['mlogloss'], label='Train')\n",
    "ax.plot(x_axis, results['validation_1']['mlogloss'], label='Validation')\n",
    "ax.legend()\n",
    "plt.ylabel('mlogloss')\n",
    "plt.title('XGBoost mlogloss')\n",
    "plt.show()\n"
   ]
  },
  {
   "cell_type": "code",
   "execution_count": 62,
   "metadata": {},
   "outputs": [
    {
     "data": {
      "text/html": [
       "\n",
       "            <style>\n",
       "                .geemap-dark {\n",
       "                    --jp-widgets-color: white;\n",
       "                    --jp-widgets-label-color: white;\n",
       "                    --jp-ui-font-color1: white;\n",
       "                    --jp-layout-color2: #454545;\n",
       "                    background-color: #383838;\n",
       "                }\n",
       "\n",
       "                .geemap-dark .jupyter-button {\n",
       "                    --jp-layout-color3: #383838;\n",
       "                }\n",
       "\n",
       "                .geemap-colab {\n",
       "                    background-color: var(--colab-primary-surface-color, white);\n",
       "                }\n",
       "\n",
       "                .geemap-colab .jupyter-button {\n",
       "                    --jp-layout-color3: var(--colab-primary-surface-color, white);\n",
       "                }\n",
       "            </style>\n",
       "            "
      ],
      "text/plain": [
       "<IPython.core.display.HTML object>"
      ]
     },
     "metadata": {},
     "output_type": "display_data"
    },
    {
     "ename": "IndexError",
     "evalue": "list index out of range",
     "output_type": "error",
     "traceback": [
      "\u001b[1;31m---------------------------------------------------------------------------\u001b[0m",
      "\u001b[1;31mIndexError\u001b[0m                                Traceback (most recent call last)",
      "Cell \u001b[1;32mIn[62], line 2\u001b[0m\n\u001b[0;32m      1\u001b[0m \u001b[38;5;66;03m# Plot the BayesSearchCV results\u001b[39;00m\n\u001b[1;32m----> 2\u001b[0m plot_objective(opt\u001b[38;5;241m.\u001b[39moptimizer_results_[\u001b[38;5;241m0\u001b[39m], dimensions\u001b[38;5;241m=\u001b[39m[\u001b[38;5;124m'\u001b[39m\u001b[38;5;124mn_estimators\u001b[39m\u001b[38;5;124m'\u001b[39m, \u001b[38;5;124m'\u001b[39m\u001b[38;5;124mlearning_rate\u001b[39m\u001b[38;5;124m'\u001b[39m, \u001b[38;5;124m'\u001b[39m\u001b[38;5;124mmax_depth\u001b[39m\u001b[38;5;124m'\u001b[39m, \u001b[38;5;124m'\u001b[39m\u001b[38;5;124msubsample\u001b[39m\u001b[38;5;124m'\u001b[39m, \u001b[38;5;124m'\u001b[39m\u001b[38;5;124mcolsample_bytree\u001b[39m\u001b[38;5;124m'\u001b[39m])\n",
      "File \u001b[1;32mc:\\Users\\Juanes\\miniforge3\\envs\\TemporalClusterNet\\Lib\\site-packages\\skopt\\plots.py:843\u001b[0m, in \u001b[0;36mplot_objective\u001b[1;34m(result, levels, n_points, n_samples, size, wspace, hspace, zscale, dimensions, sample_source, minimum, n_minimum_search, plot_dims, show_points, cmap, ax)\u001b[0m\n\u001b[0;32m    840\u001b[0m \u001b[38;5;28;01mif\u001b[39;00m i \u001b[38;5;241m==\u001b[39m j:\n\u001b[0;32m    841\u001b[0m     index, _ \u001b[38;5;241m=\u001b[39m plot_dims[i]\n\u001b[0;32m    842\u001b[0m     xi, yi \u001b[38;5;241m=\u001b[39m partial_dependence_1D(\n\u001b[1;32m--> 843\u001b[0m         space, result\u001b[38;5;241m.\u001b[39mmodels[\u001b[38;5;241m-\u001b[39m\u001b[38;5;241m1\u001b[39m], index, samples\u001b[38;5;241m=\u001b[39msamples, n_points\u001b[38;5;241m=\u001b[39mn_points\n\u001b[0;32m    844\u001b[0m     )\n\u001b[0;32m    845\u001b[0m     ax_ \u001b[38;5;241m=\u001b[39m axes[i, j]\n\u001b[0;32m    846\u001b[0m     ax_\u001b[38;5;241m.\u001b[39mplot(xi, yi)\n",
      "\u001b[1;31mIndexError\u001b[0m: list index out of range"
     ]
    },
    {
     "data": {
      "image/png": "[encoded data removed]",
      "text/plain": [
       "<Figure size 1000x1000 with 26 Axes>"
      ]
     },
     "metadata": {},
     "output_type": "display_data"
    }
   ],
   "source": [
    "# Plot the BayesSearchCV results\n",
    "plot_objective(opt.optimizer_results_[0], dimensions=['n_estimators', 'learning_rate', 'max_depth', 'subsample', 'colsample_bytree'])\n"
   ]
  },
  {
   "cell_type": "code",
   "execution_count": 33,
   "metadata": {},
   "outputs": [
    {
     "data": {
      "text/html": [
       "\n",
       "            <style>\n",
       "                .geemap-dark {\n",
       "                    --jp-widgets-color: white;\n",
       "                    --jp-widgets-label-color: white;\n",
       "                    --jp-ui-font-color1: white;\n",
       "                    --jp-layout-color2: #454545;\n",
       "                    background-color: #383838;\n",
       "                }\n",
       "\n",
       "                .geemap-dark .jupyter-button {\n",
       "                    --jp-layout-color3: #383838;\n",
       "                }\n",
       "\n",
       "                .geemap-colab {\n",
       "                    background-color: var(--colab-primary-surface-color, white);\n",
       "                }\n",
       "\n",
       "                .geemap-colab .jupyter-button {\n",
       "                    --jp-layout-color3: var(--colab-primary-surface-color, white);\n",
       "                }\n",
       "            </style>\n",
       "            "
      ],
      "text/plain": [
       "<IPython.core.display.HTML object>"
      ]
     },
     "metadata": {},
     "output_type": "display_data"
    },
    {
     "data": {
      "text/plain": [
       "<Axes: xlabel='n_estimators', ylabel='Sample Count'>"
      ]
     },
     "execution_count": 33,
     "metadata": {},
     "output_type": "execute_result"
    },
    {
     "data": {
      "image/png": "[encoded data removed]",
      "text/plain": [
       "<Figure size 640x480 with 1 Axes>"
      ]
     },
     "metadata": {},
     "output_type": "display_data"
    }
   ],
   "source": [
    "# Plot histogram of Bayesian optimization results\n",
    "plot_histogram(opt.optimizer_results_[0], 0)"
   ]
  },
  {
   "cell_type": "code",
   "execution_count": 9,
   "metadata": {},
   "outputs": [
    {
     "data": {
      "text/html": [
       "\n",
       "            <style>\n",
       "                .geemap-dark {\n",
       "                    --jp-widgets-color: white;\n",
       "                    --jp-widgets-label-color: white;\n",
       "                    --jp-ui-font-color1: white;\n",
       "                    --jp-layout-color2: #454545;\n",
       "                    background-color: #383838;\n",
       "                }\n",
       "\n",
       "                .geemap-dark .jupyter-button {\n",
       "                    --jp-layout-color3: #383838;\n",
       "                }\n",
       "\n",
       "                .geemap-colab {\n",
       "                    background-color: var(--colab-primary-surface-color, white);\n",
       "                }\n",
       "\n",
       "                .geemap-colab .jupyter-button {\n",
       "                    --jp-layout-color3: var(--colab-primary-surface-color, white);\n",
       "                }\n",
       "            </style>\n",
       "            "
      ],
      "text/plain": [
       "<IPython.core.display.HTML object>"
      ]
     },
     "metadata": {},
     "output_type": "display_data"
    },
    {
     "data": {
      "image/png": "[encoded data removed]",
      "text/plain": [
       "<Figure size 1200x600 with 1 Axes>"
      ]
     },
     "metadata": {},
     "output_type": "display_data"
    }
   ],
   "source": [
    "tegu_200_eloisa.plot_cluster_counts(years=years, model=resnet)"
   ]
  },
  {
   "cell_type": "code",
   "execution_count": 14,
   "metadata": {},
   "outputs": [
    {
     "data": {
      "text/html": [
       "\n",
       "            <style>\n",
       "                .geemap-dark {\n",
       "                    --jp-widgets-color: white;\n",
       "                    --jp-widgets-label-color: white;\n",
       "                    --jp-ui-font-color1: white;\n",
       "                    --jp-layout-color2: #454545;\n",
       "                    background-color: #383838;\n",
       "                }\n",
       "\n",
       "                .geemap-dark .jupyter-button {\n",
       "                    --jp-layout-color3: #383838;\n",
       "                }\n",
       "\n",
       "                .geemap-colab {\n",
       "                    background-color: var(--colab-primary-surface-color, white);\n",
       "                }\n",
       "\n",
       "                .geemap-colab .jupyter-button {\n",
       "                    --jp-layout-color3: var(--colab-primary-surface-color, white);\n",
       "                }\n",
       "            </style>\n",
       "            "
      ],
      "text/plain": [
       "<IPython.core.display.HTML object>"
      ]
     },
     "metadata": {},
     "output_type": "display_data"
    },
    {
     "data": {
      "image/png": "[encoded data removed]",
      "text/plain": [
       "<Figure size 2000x1000 with 6 Axes>"
      ]
     },
     "metadata": {},
     "output_type": "display_data"
    }
   ],
   "source": [
    "tegu_200_eloisa.show_clip_by_year(years=years, index=500, model=resnet)"
   ]
  },
  {
   "cell_type": "code",
   "execution_count": 11,
   "metadata": {},
   "outputs": [
    {
     "data": {
      "text/html": [
       "\n",
       "            <style>\n",
       "                .geemap-dark {\n",
       "                    --jp-widgets-color: white;\n",
       "                    --jp-widgets-label-color: white;\n",
       "                    --jp-ui-font-color1: white;\n",
       "                    --jp-layout-color2: #454545;\n",
       "                    background-color: #383838;\n",
       "                }\n",
       "\n",
       "                .geemap-dark .jupyter-button {\n",
       "                    --jp-layout-color3: #383838;\n",
       "                }\n",
       "\n",
       "                .geemap-colab {\n",
       "                    background-color: var(--colab-primary-surface-color, white);\n",
       "                }\n",
       "\n",
       "                .geemap-colab .jupyter-button {\n",
       "                    --jp-layout-color3: var(--colab-primary-surface-color, white);\n",
       "                }\n",
       "            </style>\n",
       "            "
      ],
      "text/plain": [
       "<IPython.core.display.HTML object>"
      ]
     },
     "metadata": {},
     "output_type": "display_data"
    }
   ],
   "source": [
    "import cluster_tester\n",
    "reload(cluster_tester)\n",
    "from cluster_tester import ClusterTester"
   ]
  },
  {
   "cell_type": "code",
   "execution_count": 16,
   "metadata": {},
   "outputs": [
    {
     "data": {
      "text/html": [
       "\n",
       "            <style>\n",
       "                .geemap-dark {\n",
       "                    --jp-widgets-color: white;\n",
       "                    --jp-widgets-label-color: white;\n",
       "                    --jp-ui-font-color1: white;\n",
       "                    --jp-layout-color2: #454545;\n",
       "                    background-color: #383838;\n",
       "                }\n",
       "\n",
       "                .geemap-dark .jupyter-button {\n",
       "                    --jp-layout-color3: #383838;\n",
       "                }\n",
       "\n",
       "                .geemap-colab {\n",
       "                    background-color: var(--colab-primary-surface-color, white);\n",
       "                }\n",
       "\n",
       "                .geemap-colab .jupyter-button {\n",
       "                    --jp-layout-color3: var(--colab-primary-surface-color, white);\n",
       "                }\n",
       "            </style>\n",
       "            "
      ],
      "text/plain": [
       "<IPython.core.display.HTML object>"
      ]
     },
     "metadata": {},
     "output_type": "display_data"
    }
   ],
   "source": [
    "tegucigalpa_image = AnalysisImage(presets='Tegucigalpa', year=2023, feature_bands=FEATURES)\n",
    "\n",
    "img_height = haversine(coords=tegucigalpa_image.get_bounds(side='ceiling'))\n",
    "img_width = haversine(coords=tegucigalpa_image.get_bounds(side='left'))\n",
    "\n",
    "x_num_parts, y_num_parts = calc_segment_count(img_height, img_width, 200, 200)\n",
    "\n",
    "subgeometries = split_geometry(tegucigalpa_image.geometry_sd, x_num_parts=x_num_parts, y_num_parts=y_num_parts)"
   ]
  },
  {
   "cell_type": "code",
   "execution_count": 17,
   "metadata": {},
   "outputs": [
    {
     "data": {
      "text/html": [
       "\n",
       "            <style>\n",
       "                .geemap-dark {\n",
       "                    --jp-widgets-color: white;\n",
       "                    --jp-widgets-label-color: white;\n",
       "                    --jp-ui-font-color1: white;\n",
       "                    --jp-layout-color2: #454545;\n",
       "                    background-color: #383838;\n",
       "                }\n",
       "\n",
       "                .geemap-dark .jupyter-button {\n",
       "                    --jp-layout-color3: #383838;\n",
       "                }\n",
       "\n",
       "                .geemap-colab {\n",
       "                    background-color: var(--colab-primary-surface-color, white);\n",
       "                }\n",
       "\n",
       "                .geemap-colab .jupyter-button {\n",
       "                    --jp-layout-color3: var(--colab-primary-surface-color, white);\n",
       "                }\n",
       "            </style>\n",
       "            "
      ],
      "text/plain": [
       "<IPython.core.display.HTML object>"
      ]
     },
     "metadata": {},
     "output_type": "display_data"
    }
   ],
   "source": [
    "precario_path = os.path.join(\"data\", \"tegucigalpa_PC.zip\")\n",
    "precario_gdf = gpd.read_file(precario_path)"
   ]
  },
  {
   "cell_type": "code",
   "execution_count": 18,
   "metadata": {},
   "outputs": [
    {
     "data": {
      "text/html": [
       "\n",
       "            <style>\n",
       "                .geemap-dark {\n",
       "                    --jp-widgets-color: white;\n",
       "                    --jp-widgets-label-color: white;\n",
       "                    --jp-ui-font-color1: white;\n",
       "                    --jp-layout-color2: #454545;\n",
       "                    background-color: #383838;\n",
       "                }\n",
       "\n",
       "                .geemap-dark .jupyter-button {\n",
       "                    --jp-layout-color3: #383838;\n",
       "                }\n",
       "\n",
       "                .geemap-colab {\n",
       "                    background-color: var(--colab-primary-surface-color, white);\n",
       "                }\n",
       "\n",
       "                .geemap-colab .jupyter-button {\n",
       "                    --jp-layout-color3: var(--colab-primary-surface-color, white);\n",
       "                }\n",
       "            </style>\n",
       "            "
      ],
      "text/plain": [
       "<IPython.core.display.HTML object>"
      ]
     },
     "metadata": {},
     "output_type": "display_data"
    }
   ],
   "source": [
    "cluster_location_info = tegu_200_eloisa.get_cluster_location_info(year=2023, model=resnet, subgeometries=subgeometries, dissolve_by_cluster=True)"
   ]
  },
  {
   "cell_type": "code",
   "execution_count": 19,
   "metadata": {},
   "outputs": [
    {
     "data": {
      "text/html": [
       "\n",
       "            <style>\n",
       "                .geemap-dark {\n",
       "                    --jp-widgets-color: white;\n",
       "                    --jp-widgets-label-color: white;\n",
       "                    --jp-ui-font-color1: white;\n",
       "                    --jp-layout-color2: #454545;\n",
       "                    background-color: #383838;\n",
       "                }\n",
       "\n",
       "                .geemap-dark .jupyter-button {\n",
       "                    --jp-layout-color3: #383838;\n",
       "                }\n",
       "\n",
       "                .geemap-colab {\n",
       "                    background-color: var(--colab-primary-surface-color, white);\n",
       "                }\n",
       "\n",
       "                .geemap-colab .jupyter-button {\n",
       "                    --jp-layout-color3: var(--colab-primary-surface-color, white);\n",
       "                }\n",
       "            </style>\n",
       "            "
      ],
      "text/plain": [
       "<IPython.core.display.HTML object>"
      ]
     },
     "metadata": {},
     "output_type": "display_data"
    }
   ],
   "source": [
    "tegu_cluster_tester = ClusterTester(cluster_location_info=cluster_location_info, \n",
    "                                    analysis_image=tegucigalpa_image, \n",
    "                                    validation_data=precario_gdf, \n",
    "                                    cluster_order=None, \n",
    "                                    num_clusters=75,\n",
    "                                    palette='jet')"
   ]
  },
  {
   "cell_type": "code",
   "execution_count": 25,
   "metadata": {},
   "outputs": [
    {
     "data": {
      "text/html": [
       "\n",
       "            <style>\n",
       "                .geemap-dark {\n",
       "                    --jp-widgets-color: white;\n",
       "                    --jp-widgets-label-color: white;\n",
       "                    --jp-ui-font-color1: white;\n",
       "                    --jp-layout-color2: #454545;\n",
       "                    background-color: #383838;\n",
       "                }\n",
       "\n",
       "                .geemap-dark .jupyter-button {\n",
       "                    --jp-layout-color3: #383838;\n",
       "                }\n",
       "\n",
       "                .geemap-colab {\n",
       "                    background-color: var(--colab-primary-surface-color, white);\n",
       "                }\n",
       "\n",
       "                .geemap-colab .jupyter-button {\n",
       "                    --jp-layout-color3: var(--colab-primary-surface-color, white);\n",
       "                }\n",
       "            </style>\n",
       "            "
      ],
      "text/plain": [
       "<IPython.core.display.HTML object>"
      ]
     },
     "metadata": {},
     "output_type": "display_data"
    }
   ],
   "source": [
    "tegu_200_eloisa._database = \"\"\n",
    "with open('eloisa_databases/tegu_200x200_flatten.pkl', 'wb') as f:\n",
    "    pickle.dump(tegu_200_eloisa, f)\n",
    "tegu_200_eloisa._database = sqlite3.connect(tegu_200_eloisa.db_path)"
   ]
  },
  {
   "cell_type": "code",
   "execution_count": 20,
   "metadata": {},
   "outputs": [
    {
     "data": {
      "text/html": [
       "\n",
       "            <style>\n",
       "                .geemap-dark {\n",
       "                    --jp-widgets-color: white;\n",
       "                    --jp-widgets-label-color: white;\n",
       "                    --jp-ui-font-color1: white;\n",
       "                    --jp-layout-color2: #454545;\n",
       "                    background-color: #383838;\n",
       "                }\n",
       "\n",
       "                .geemap-dark .jupyter-button {\n",
       "                    --jp-layout-color3: #383838;\n",
       "                }\n",
       "\n",
       "                .geemap-colab {\n",
       "                    background-color: var(--colab-primary-surface-color, white);\n",
       "                }\n",
       "\n",
       "                .geemap-colab .jupyter-button {\n",
       "                    --jp-layout-color3: var(--colab-primary-surface-color, white);\n",
       "                }\n",
       "            </style>\n",
       "            "
      ],
      "text/plain": [
       "<IPython.core.display.HTML object>"
      ]
     },
     "metadata": {},
     "output_type": "display_data"
    },
    {
     "data": {
      "application/vnd.jupyter.widget-view+json": {
       "model_id": "9bc8467af3fd4e3e839cf4278b252c0b",
       "version_major": 2,
       "version_minor": 0
      },
      "text/plain": [
       "Map(center=[14.0763396, -87.20787405], controls=(WidgetControl(options=['position', 'transparent_bg'], widget=…"
      ]
     },
     "execution_count": 20,
     "metadata": {},
     "output_type": "execute_result"
    }
   ],
   "source": [
    "tegu_cluster_tester.plot_clusters() #TODO: FIX COLORING. Doesn't appear to be working correctly"
   ]
  },
  {
   "cell_type": "code",
   "execution_count": 21,
   "metadata": {},
   "outputs": [
    {
     "data": {
      "text/html": [
       "\n",
       "            <style>\n",
       "                .geemap-dark {\n",
       "                    --jp-widgets-color: white;\n",
       "                    --jp-widgets-label-color: white;\n",
       "                    --jp-ui-font-color1: white;\n",
       "                    --jp-layout-color2: #454545;\n",
       "                    background-color: #383838;\n",
       "                }\n",
       "\n",
       "                .geemap-dark .jupyter-button {\n",
       "                    --jp-layout-color3: #383838;\n",
       "                }\n",
       "\n",
       "                .geemap-colab {\n",
       "                    background-color: var(--colab-primary-surface-color, white);\n",
       "                }\n",
       "\n",
       "                .geemap-colab .jupyter-button {\n",
       "                    --jp-layout-color3: var(--colab-primary-surface-color, white);\n",
       "                }\n",
       "            </style>\n",
       "            "
      ],
      "text/plain": [
       "<IPython.core.display.HTML object>"
      ]
     },
     "metadata": {},
     "output_type": "display_data"
    }
   ],
   "source": [
    "points = tegu_cluster_tester.create_sampling_points(n_points=5000)\n",
    "cluster_metrics = tegu_cluster_tester.calc_sampling_metrics()"
   ]
  },
  {
   "cell_type": "code",
   "execution_count": 24,
   "metadata": {},
   "outputs": [
    {
     "data": {
      "text/html": [
       "\n",
       "            <style>\n",
       "                .geemap-dark {\n",
       "                    --jp-widgets-color: white;\n",
       "                    --jp-widgets-label-color: white;\n",
       "                    --jp-ui-font-color1: white;\n",
       "                    --jp-layout-color2: #454545;\n",
       "                    background-color: #383838;\n",
       "                }\n",
       "\n",
       "                .geemap-dark .jupyter-button {\n",
       "                    --jp-layout-color3: #383838;\n",
       "                }\n",
       "\n",
       "                .geemap-colab {\n",
       "                    background-color: var(--colab-primary-surface-color, white);\n",
       "                }\n",
       "\n",
       "                .geemap-colab .jupyter-button {\n",
       "                    --jp-layout-color3: var(--colab-primary-surface-color, white);\n",
       "                }\n",
       "            </style>\n",
       "            "
      ],
      "text/plain": [
       "<IPython.core.display.HTML object>"
      ]
     },
     "metadata": {},
     "output_type": "display_data"
    },
    {
     "name": "stderr",
     "output_type": "stream",
     "text": [
      "100%|██████████| 6884/6884 [16:15<00:00,  7.06it/s]\n"
     ]
    }
   ],
   "source": [
    "grouped_metrics = tegu_cluster_tester.group_clusters_and_calc_metrics(precision_min=0.1)"
   ]
  },
  {
   "cell_type": "code",
   "execution_count": null,
   "metadata": {},
   "outputs": [],
   "source": [
    "grouped_metrics.sort_values(by='F1', ascending=False).head()"
   ]
  },
  {
   "cell_type": "code",
   "execution_count": null,
   "metadata": {},
   "outputs": [],
   "source": [
    "tegu_cluster_tester.plot_top_cluster_combos(metric='F1', n_combos=1)"
   ]
  }
 ],
 "metadata": {
  "kernelspec": {
   "display_name": "TemporalClusterNet",
   "language": "python",
   "name": "python3"
  },
  "language_info": {
   "codemirror_mode": {
    "name": "ipython",
    "version": 3
   },
   "file_extension": ".py",
   "mimetype": "text/x-python",
   "name": "python",
   "nbconvert_exporter": "python",
   "pygments_lexer": "ipython3",
   "version": "3.12.2"
  }
 },
 "nbformat": 4,
 "nbformat_minor": 2
}
